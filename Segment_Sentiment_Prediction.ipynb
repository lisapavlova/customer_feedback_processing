{
 "cells": [
  {
   "cell_type": "markdown",
   "id": "1830d153",
   "metadata": {},
   "source": [
    "### Libraries Import"
   ]
  },
  {
   "cell_type": "code",
   "execution_count": 1,
   "id": "01c93062",
   "metadata": {},
   "outputs": [],
   "source": [
    "import pandas as pd\n",
    "import numpy as np"
   ]
  },
  {
   "cell_type": "code",
   "execution_count": 2,
   "id": "c0ca04f8",
   "metadata": {},
   "outputs": [],
   "source": [
    "import torch"
   ]
  },
  {
   "cell_type": "code",
   "execution_count": 3,
   "id": "7d354e68",
   "metadata": {},
   "outputs": [
    {
     "name": "stderr",
     "output_type": "stream",
     "text": [
      "/Users/lisa/projects/MTReviews/venv/lib/python3.9/site-packages/urllib3/__init__.py:35: NotOpenSSLWarning: urllib3 v2 only supports OpenSSL 1.1.1+, currently the 'ssl' module is compiled with 'LibreSSL 2.8.3'. See: https://github.com/urllib3/urllib3/issues/3020\n",
      "  warnings.warn(\n"
     ]
    }
   ],
   "source": [
    "from transformers import pipeline"
   ]
  },
  {
   "cell_type": "markdown",
   "id": "b585f740",
   "metadata": {},
   "source": [
    "### Loading Models"
   ]
  },
  {
   "cell_type": "code",
   "execution_count": 4,
   "id": "4d9baec7",
   "metadata": {},
   "outputs": [],
   "source": [
    "binary_polarity_pipeline = pipeline(\"text-classification\", model=\"laskovey/polarity_train2\")"
   ]
  },
  {
   "cell_type": "code",
   "execution_count": 5,
   "id": "80a76d1e",
   "metadata": {},
   "outputs": [],
   "source": [
    "multiclass_polarity_pipeline = pipeline(\"text-classification\", model=\"laskovey/polarity_train5\")"
   ]
  },
  {
   "cell_type": "markdown",
   "id": "298f5259",
   "metadata": {},
   "source": [
    "### Trying examples"
   ]
  },
  {
   "cell_type": "code",
   "execution_count": 6,
   "id": "303dc73e",
   "metadata": {},
   "outputs": [],
   "source": [
    "def correcting_output(model_output):\n",
    "    '''\n",
    "    A function remapping classes.\n",
    "    Seems like class mapper got messed up: as if 1 turned 5 and 5 - 1.\n",
    "    Therefore the function reverses the class order.\n",
    "    \n",
    "    Takes model output as list of dicts as input\n",
    "    Return output of similar format with changed class labels\n",
    "    '''\n",
    "    correct_mapper = {1:5, 2:4, 3:3, 4:2, 5:1}\n",
    "    for k in model_output:\n",
    "        k['label'] = correct_mapper[int(k['label'])]\n",
    "    \n",
    "    return model_output"
   ]
  },
  {
   "cell_type": "code",
   "execution_count": 7,
   "id": "cfa63784",
   "metadata": {},
   "outputs": [],
   "source": [
    "def calculating_polarity_rating(model_output):\n",
    "    '''\n",
    "    A function remapping classes.\n",
    "    Seems like class mapper got messed up: as if 1 turned 5 and 5 - 1.\n",
    "    Therefore the function reverses the class order.\n",
    "    \n",
    "    Takes model output as list of dicts as input\n",
    "    Return output of similar format with changed class labels\n",
    "    '''\n",
    "    \n",
    "    pred_labels = np.array([o['label'] for o in model_output])\n",
    "    pred_proba = np.array([o['score'] for o in model_output])\n",
    "    \n",
    "    polarity_rating = np.sum(pred_labels * pred_proba)\n",
    "\n",
    "    return polarity_rating"
   ]
  },
  {
   "cell_type": "code",
   "execution_count": 8,
   "id": "b567d471",
   "metadata": {},
   "outputs": [],
   "source": [
    "def calculating_polarity(model_output):\n",
    "    '''\n",
    "    A function remapping classes.\n",
    "    Seems like class mapper got messed up: as if 1 turned 5 and 5 - 1.\n",
    "    Therefore the function reverses the class order.\n",
    "    \n",
    "    Takes model output as list of dicts as input\n",
    "    Return output of similar format with changed class labels\n",
    "    '''\n",
    "    \n",
    "    pred_labels = np.array([o['label'] for o in model_output])\n",
    "    pred_proba = np.array([o['score'] for o in model_output])\n",
    "    \n",
    "    polarity = (np.sum(pred_labels * pred_proba) - 3)/2 * 100\n",
    "\n",
    "    return polarity"
   ]
  },
  {
   "cell_type": "code",
   "execution_count": 39,
   "id": "74898e03",
   "metadata": {},
   "outputs": [],
   "source": [
    "def calculating_binary_polarity(model_output):\n",
    "    '''\n",
    "    A function transforming output of binary classifier to continuous value from 0 to 1, \n",
    "    where 0 - extremely negative, 1 - extremely positive.\n",
    "    \n",
    "    Takes model output as list with 1 dict for best prediction as input\n",
    "    Return output as a single decimal\n",
    "    '''\n",
    "    \n",
    "    polarity = model_output[0]['score']\n",
    "    \n",
    "    if model_output[0]['label'] == 0:\n",
    "        polarity = 1 - polarity\n",
    "        \n",
    "    return polarity"
   ]
  },
  {
   "cell_type": "markdown",
   "id": "4426ca26",
   "metadata": {},
   "source": [
    "Very positive example"
   ]
  },
  {
   "cell_type": "code",
   "execution_count": 9,
   "id": "66d09f91",
   "metadata": {},
   "outputs": [],
   "source": [
    "ex1 = 'Всё просто супер! Спасибо гиду Наталье за отличеую экскурсия'"
   ]
  },
  {
   "cell_type": "code",
   "execution_count": 10,
   "id": "8b44adff",
   "metadata": {},
   "outputs": [
    {
     "data": {
      "text/plain": [
       "[{'label': 1, 'score': 0.9990983009338379}]"
      ]
     },
     "execution_count": 10,
     "metadata": {},
     "output_type": "execute_result"
    }
   ],
   "source": [
    "binary_polarity_pipeline(ex1)"
   ]
  },
  {
   "cell_type": "code",
   "execution_count": 40,
   "id": "aa8e1a13",
   "metadata": {},
   "outputs": [
    {
     "data": {
      "text/plain": [
       "0.9990983009338379"
      ]
     },
     "execution_count": 40,
     "metadata": {},
     "output_type": "execute_result"
    }
   ],
   "source": [
    "calculating_binary_polarity(binary_polarity_pipeline(ex1))"
   ]
  },
  {
   "cell_type": "code",
   "execution_count": 11,
   "id": "5d2bdc47",
   "metadata": {},
   "outputs": [
    {
     "data": {
      "text/plain": [
       "[{'label': 5, 'score': 0.9887393712997437},\n",
       " {'label': 3, 'score': 0.007490302436053753},\n",
       " {'label': 4, 'score': 0.0032231095246970654},\n",
       " {'label': 1, 'score': 0.0002741206844802946},\n",
       " {'label': 2, 'score': 0.0002730652631726116}]"
      ]
     },
     "execution_count": 11,
     "metadata": {},
     "output_type": "execute_result"
    }
   ],
   "source": [
    "correcting_output(multiclass_polarity_pipeline(ex1, top_k=5))"
   ]
  },
  {
   "cell_type": "code",
   "execution_count": 18,
   "id": "1d67acd3",
   "metadata": {},
   "outputs": [
    {
     "data": {
      "text/plain": [
       "4.979880453116493"
      ]
     },
     "execution_count": 18,
     "metadata": {},
     "output_type": "execute_result"
    }
   ],
   "source": [
    "calculating_polarity_rating(correcting_output(multiclass_polarity_pipeline(ex1, top_k=5)))"
   ]
  },
  {
   "cell_type": "markdown",
   "id": "35252690",
   "metadata": {},
   "source": [
    "Very negative example"
   ]
  },
  {
   "cell_type": "code",
   "execution_count": 12,
   "id": "58b2daf9",
   "metadata": {},
   "outputs": [],
   "source": [
    "ex2 = 'Ужас, полное разводилово!!! Это разве экскурсия?? Вы за что вообще деньги берёте!!!'"
   ]
  },
  {
   "cell_type": "code",
   "execution_count": 13,
   "id": "61de2158",
   "metadata": {},
   "outputs": [
    {
     "data": {
      "text/plain": [
       "[{'label': 0, 'score': 0.9984408020973206}]"
      ]
     },
     "execution_count": 13,
     "metadata": {},
     "output_type": "execute_result"
    }
   ],
   "source": [
    "binary_polarity_pipeline(ex2)"
   ]
  },
  {
   "cell_type": "code",
   "execution_count": 41,
   "id": "5a0f3573",
   "metadata": {},
   "outputs": [
    {
     "data": {
      "text/plain": [
       "0.0015591979026794434"
      ]
     },
     "execution_count": 41,
     "metadata": {},
     "output_type": "execute_result"
    }
   ],
   "source": [
    "calculating_binary_polarity(binary_polarity_pipeline(ex2))"
   ]
  },
  {
   "cell_type": "code",
   "execution_count": 14,
   "id": "6a163459",
   "metadata": {},
   "outputs": [
    {
     "data": {
      "text/plain": [
       "[{'label': 1, 'score': 0.9652891755104065},\n",
       " {'label': 2, 'score': 0.027066640555858612},\n",
       " {'label': 3, 'score': 0.0027626364026218653},\n",
       " {'label': 5, 'score': 0.0027074560057371855},\n",
       " {'label': 4, 'score': 0.0021740878000855446}]"
      ]
     },
     "execution_count": 14,
     "metadata": {},
     "output_type": "execute_result"
    }
   ],
   "source": [
    "correcting_output(multiclass_polarity_pipeline(ex2, top_k=5))"
   ]
  },
  {
   "cell_type": "code",
   "execution_count": 19,
   "id": "3de8775e",
   "metadata": {},
   "outputs": [
    {
     "data": {
      "text/plain": [
       "1.0499439970590174"
      ]
     },
     "execution_count": 19,
     "metadata": {},
     "output_type": "execute_result"
    }
   ],
   "source": [
    "calculating_polarity_rating(correcting_output(multiclass_polarity_pipeline(ex2, top_k=5)))"
   ]
  },
  {
   "cell_type": "markdown",
   "id": "fa1b789a",
   "metadata": {},
   "source": [
    "Seems like class mapper got messed up: as if 1 turned 5 and 5 - 1"
   ]
  },
  {
   "cell_type": "markdown",
   "id": "2d3d17ad",
   "metadata": {},
   "source": [
    "Rather neutral example"
   ]
  },
  {
   "cell_type": "code",
   "execution_count": 15,
   "id": "a61379d6",
   "metadata": {},
   "outputs": [],
   "source": [
    "ex3 = 'Обычная экскурсия, ничего особенного. Монотонный гид с зазубренными фактами. Нормально за свои деньги.'"
   ]
  },
  {
   "cell_type": "code",
   "execution_count": 16,
   "id": "78041906",
   "metadata": {},
   "outputs": [
    {
     "data": {
      "text/plain": [
       "[{'label': 0, 'score': 0.9987196922302246}]"
      ]
     },
     "execution_count": 16,
     "metadata": {},
     "output_type": "execute_result"
    }
   ],
   "source": [
    "binary_polarity_pipeline(ex3)"
   ]
  },
  {
   "cell_type": "code",
   "execution_count": 42,
   "id": "4c351aeb",
   "metadata": {},
   "outputs": [
    {
     "data": {
      "text/plain": [
       "0.0012803077697753906"
      ]
     },
     "execution_count": 42,
     "metadata": {},
     "output_type": "execute_result"
    }
   ],
   "source": [
    "calculating_binary_polarity(binary_polarity_pipeline(ex3))"
   ]
  },
  {
   "cell_type": "code",
   "execution_count": 17,
   "id": "5dc228ed",
   "metadata": {},
   "outputs": [
    {
     "data": {
      "text/plain": [
       "[{'label': 2, 'score': 0.6262772679328918},\n",
       " {'label': 1, 'score': 0.23666438460350037},\n",
       " {'label': 3, 'score': 0.13439279794692993},\n",
       " {'label': 5, 'score': 0.002267968375235796},\n",
       " {'label': 4, 'score': 0.0003976335283368826}]"
      ]
     },
     "execution_count": 17,
     "metadata": {},
     "output_type": "execute_result"
    }
   ],
   "source": [
    "correcting_output(multiclass_polarity_pipeline(ex3, top_k=5))"
   ]
  },
  {
   "cell_type": "code",
   "execution_count": 41,
   "id": "1ea4a3af",
   "metadata": {},
   "outputs": [
    {
     "data": {
      "text/plain": [
       "1.9053276902996004"
      ]
     },
     "execution_count": 41,
     "metadata": {},
     "output_type": "execute_result"
    }
   ],
   "source": [
    "calculating_polarity_rating(correcting_output(multiclass_polarity_pipeline(ex3, top_k=5)))"
   ]
  },
  {
   "cell_type": "code",
   "execution_count": null,
   "id": "cf84c9d8",
   "metadata": {},
   "outputs": [],
   "source": []
  },
  {
   "cell_type": "code",
   "execution_count": null,
   "id": "a70a1201",
   "metadata": {},
   "outputs": [],
   "source": []
  },
  {
   "cell_type": "markdown",
   "id": "e773ea4f",
   "metadata": {},
   "source": [
    "This kind of transformation may be performed on DataBase side"
   ]
  },
  {
   "cell_type": "code",
   "execution_count": 20,
   "id": "7ac0213b",
   "metadata": {},
   "outputs": [
    {
     "data": {
      "text/plain": [
       "98.99402265582466"
      ]
     },
     "execution_count": 20,
     "metadata": {},
     "output_type": "execute_result"
    }
   ],
   "source": [
    "calculating_polarity(correcting_output(multiclass_polarity_pipeline(ex1, top_k=5)))"
   ]
  },
  {
   "cell_type": "code",
   "execution_count": 21,
   "id": "d868e443",
   "metadata": {},
   "outputs": [
    {
     "data": {
      "text/plain": [
       "-97.50280014704913"
      ]
     },
     "execution_count": 21,
     "metadata": {},
     "output_type": "execute_result"
    }
   ],
   "source": [
    "calculating_polarity(correcting_output(multiclass_polarity_pipeline(ex2, top_k=5)))"
   ]
  },
  {
   "cell_type": "code",
   "execution_count": 22,
   "id": "c6499e5a",
   "metadata": {},
   "outputs": [
    {
     "data": {
      "text/plain": [
       "-54.73361548501998"
      ]
     },
     "execution_count": 22,
     "metadata": {},
     "output_type": "execute_result"
    }
   ],
   "source": [
    "calculating_polarity(correcting_output(multiclass_polarity_pipeline(ex3, top_k=5)))"
   ]
  },
  {
   "cell_type": "code",
   "execution_count": null,
   "id": "355be973",
   "metadata": {},
   "outputs": [],
   "source": []
  },
  {
   "cell_type": "code",
   "execution_count": null,
   "id": "ee15c69c",
   "metadata": {},
   "outputs": [],
   "source": []
  },
  {
   "cell_type": "markdown",
   "id": "d7553bd3",
   "metadata": {},
   "source": [
    "### Predicting for review segments"
   ]
  },
  {
   "cell_type": "code",
   "execution_count": 119,
   "id": "b16f38ff",
   "metadata": {},
   "outputs": [],
   "source": [
    "for_pred_df = pd.read_csv('./aspect_predictions_may24.csv')"
   ]
  },
  {
   "cell_type": "code",
   "execution_count": 30,
   "id": "11865a12",
   "metadata": {},
   "outputs": [
    {
     "data": {
      "text/html": [
       "<div>\n",
       "<style scoped>\n",
       "    .dataframe tbody tr th:only-of-type {\n",
       "        vertical-align: middle;\n",
       "    }\n",
       "\n",
       "    .dataframe tbody tr th {\n",
       "        vertical-align: top;\n",
       "    }\n",
       "\n",
       "    .dataframe thead th {\n",
       "        text-align: right;\n",
       "    }\n",
       "</style>\n",
       "<table border=\"1\" class=\"dataframe\">\n",
       "  <thead>\n",
       "    <tr style=\"text-align: right;\">\n",
       "      <th></th>\n",
       "      <th>label</th>\n",
       "      <th>score</th>\n",
       "      <th>input</th>\n",
       "      <th>index</th>\n",
       "      <th>REVIEW_ID</th>\n",
       "      <th>SENTENCES</th>\n",
       "      <th>NUM_SENT</th>\n",
       "      <th>label_rank</th>\n",
       "    </tr>\n",
       "  </thead>\n",
       "  <tbody>\n",
       "    <tr>\n",
       "      <th>1804422</th>\n",
       "      <td>no substance</td>\n",
       "      <td>0.886165</td>\n",
       "      <td>601474</td>\n",
       "      <td>601474</td>\n",
       "      <td>NJZV91862585780616</td>\n",
       "      <td>Много животных</td>\n",
       "      <td>4</td>\n",
       "      <td>1</td>\n",
       "    </tr>\n",
       "    <tr>\n",
       "      <th>440945</th>\n",
       "      <td>shallow narration</td>\n",
       "      <td>0.013128</td>\n",
       "      <td>146981</td>\n",
       "      <td>146981</td>\n",
       "      <td>DHIK68100749090426</td>\n",
       "      <td>Практически Ничего не было видно из окон</td>\n",
       "      <td>2</td>\n",
       "      <td>3</td>\n",
       "    </tr>\n",
       "    <tr>\n",
       "      <th>3485408</th>\n",
       "      <td>fact misstatement</td>\n",
       "      <td>0.002936</td>\n",
       "      <td>1161802</td>\n",
       "      <td>1161802</td>\n",
       "      <td>ZWUD58477886263728</td>\n",
       "      <td>Были выбраны очень эпичные дворы</td>\n",
       "      <td>3</td>\n",
       "      <td>3</td>\n",
       "    </tr>\n",
       "  </tbody>\n",
       "</table>\n",
       "</div>"
      ],
      "text/plain": [
       "                     label     score    input    index           REVIEW_ID  \\\n",
       "1804422       no substance  0.886165   601474   601474  NJZV91862585780616   \n",
       "440945   shallow narration  0.013128   146981   146981  DHIK68100749090426   \n",
       "3485408  fact misstatement  0.002936  1161802  1161802  ZWUD58477886263728   \n",
       "\n",
       "                                        SENTENCES  NUM_SENT  label_rank  \n",
       "1804422                            Много животных         4           1  \n",
       "440945   Практически Ничего не было видно из окон         2           3  \n",
       "3485408          Были выбраны очень эпичные дворы         3           3  "
      ]
     },
     "execution_count": 30,
     "metadata": {},
     "output_type": "execute_result"
    }
   ],
   "source": [
    "for_pred_df.sample(3)"
   ]
  },
  {
   "cell_type": "code",
   "execution_count": 31,
   "id": "7d82c005",
   "metadata": {},
   "outputs": [
    {
     "data": {
      "text/plain": [
       "3503229"
      ]
     },
     "execution_count": 31,
     "metadata": {},
     "output_type": "execute_result"
    }
   ],
   "source": [
    "len(for_pred_df)"
   ]
  },
  {
   "cell_type": "code",
   "execution_count": 120,
   "id": "9c656cbc",
   "metadata": {},
   "outputs": [],
   "source": [
    "for_pred_df.drop_duplicates(['REVIEW_ID', 'NUM_SENT'], keep='first', inplace=True)"
   ]
  },
  {
   "cell_type": "markdown",
   "id": "f64d1d1a",
   "metadata": {},
   "source": [
    "Taking a sample for testing"
   ]
  },
  {
   "cell_type": "code",
   "execution_count": 35,
   "id": "182086b2",
   "metadata": {},
   "outputs": [],
   "source": [
    "sample = for_pred_df.sample(2000, random_state=42).reset_index()"
   ]
  },
  {
   "cell_type": "code",
   "execution_count": 63,
   "id": "cf247515",
   "metadata": {},
   "outputs": [
    {
     "data": {
      "text/html": [
       "<div>\n",
       "<style scoped>\n",
       "    .dataframe tbody tr th:only-of-type {\n",
       "        vertical-align: middle;\n",
       "    }\n",
       "\n",
       "    .dataframe tbody tr th {\n",
       "        vertical-align: top;\n",
       "    }\n",
       "\n",
       "    .dataframe thead th {\n",
       "        text-align: right;\n",
       "    }\n",
       "</style>\n",
       "<table border=\"1\" class=\"dataframe\">\n",
       "  <thead>\n",
       "    <tr style=\"text-align: right;\">\n",
       "      <th></th>\n",
       "      <th>level_0</th>\n",
       "      <th>label</th>\n",
       "      <th>score</th>\n",
       "      <th>input</th>\n",
       "      <th>index</th>\n",
       "      <th>REVIEW_ID</th>\n",
       "      <th>SENTENCES</th>\n",
       "      <th>NUM_SENT</th>\n",
       "      <th>label_rank</th>\n",
       "    </tr>\n",
       "  </thead>\n",
       "  <tbody>\n",
       "    <tr>\n",
       "      <th>1806</th>\n",
       "      <td>3369651</td>\n",
       "      <td>food</td>\n",
       "      <td>0.351079</td>\n",
       "      <td>1123217</td>\n",
       "      <td>1123217</td>\n",
       "      <td>ZAHP39617744065997</td>\n",
       "      <td>Валентина и сюда вставила нотку негатива про э...</td>\n",
       "      <td>29</td>\n",
       "      <td>1</td>\n",
       "    </tr>\n",
       "    <tr>\n",
       "      <th>1863</th>\n",
       "      <td>332184</td>\n",
       "      <td>offer disparity</td>\n",
       "      <td>0.993466</td>\n",
       "      <td>110728</td>\n",
       "      <td>110728</td>\n",
       "      <td>CMBG52422309292370</td>\n",
       "      <td>В программе указано три месте: хыналыг, радужн...</td>\n",
       "      <td>8</td>\n",
       "      <td>1</td>\n",
       "    </tr>\n",
       "    <tr>\n",
       "      <th>1810</th>\n",
       "      <td>2355069</td>\n",
       "      <td>guide's proficiency</td>\n",
       "      <td>0.997940</td>\n",
       "      <td>785023</td>\n",
       "      <td>785023</td>\n",
       "      <td>RNFG87757161597761</td>\n",
       "      <td>Хороший русскоговорящий гид</td>\n",
       "      <td>2</td>\n",
       "      <td>1</td>\n",
       "    </tr>\n",
       "  </tbody>\n",
       "</table>\n",
       "</div>"
      ],
      "text/plain": [
       "      level_0                label     score    input    index  \\\n",
       "1806  3369651                 food  0.351079  1123217  1123217   \n",
       "1863   332184      offer disparity  0.993466   110728   110728   \n",
       "1810  2355069  guide's proficiency  0.997940   785023   785023   \n",
       "\n",
       "               REVIEW_ID                                          SENTENCES  \\\n",
       "1806  ZAHP39617744065997  Валентина и сюда вставила нотку негатива про э...   \n",
       "1863  CMBG52422309292370  В программе указано три месте: хыналыг, радужн...   \n",
       "1810  RNFG87757161597761                        Хороший русскоговорящий гид   \n",
       "\n",
       "      NUM_SENT  label_rank  \n",
       "1806        29           1  \n",
       "1863         8           1  \n",
       "1810         2           1  "
      ]
     },
     "execution_count": 63,
     "metadata": {},
     "output_type": "execute_result"
    }
   ],
   "source": [
    "sample.sample(3)"
   ]
  },
  {
   "cell_type": "markdown",
   "id": "45367fdb",
   "metadata": {},
   "source": [
    "Prediction processing functions"
   ]
  },
  {
   "cell_type": "code",
   "execution_count": 53,
   "id": "4ebfc3ec",
   "metadata": {},
   "outputs": [],
   "source": [
    "def final_predicted_polarity(text):\n",
    "    prediction_lst = multiclass_polarity_pipeline(text, top_k=5)\n",
    "    prediction_lst = correcting_output(prediction_lst)\n",
    "    polarity = calculating_polarity_rating(prediction_lst)\n",
    "    \n",
    "    return polarity"
   ]
  },
  {
   "cell_type": "code",
   "execution_count": 68,
   "id": "f4b9e0af",
   "metadata": {},
   "outputs": [],
   "source": [
    "def final_binary_predicted_polarity(text):\n",
    "    prediction_lst = binary_polarity_pipeline(text, top_k=5)\n",
    "    polarity = calculating_binary_polarity(prediction_lst)\n",
    "    return polarity"
   ]
  },
  {
   "cell_type": "markdown",
   "id": "3b3ca333",
   "metadata": {},
   "source": [
    "Trying on examples from sample"
   ]
  },
  {
   "cell_type": "code",
   "execution_count": 58,
   "id": "0a80ffa5",
   "metadata": {},
   "outputs": [
    {
     "data": {
      "text/plain": [
       "4.9643184290325735"
      ]
     },
     "execution_count": 58,
     "metadata": {},
     "output_type": "execute_result"
    }
   ],
   "source": [
    "final_predicted_polarity('Великолепная экскурсия')"
   ]
  },
  {
   "cell_type": "code",
   "execution_count": 59,
   "id": "326de110",
   "metadata": {},
   "outputs": [
    {
     "data": {
      "text/plain": [
       "3.0123042977647856"
      ]
     },
     "execution_count": 59,
     "metadata": {},
     "output_type": "execute_result"
    }
   ],
   "source": [
    "final_predicted_polarity('Очень внимательное отношение к экскурсантам')"
   ]
  },
  {
   "cell_type": "code",
   "execution_count": 65,
   "id": "4315e95d",
   "metadata": {},
   "outputs": [
    {
     "data": {
      "text/plain": [
       "1.7816753704100847"
      ]
     },
     "execution_count": 65,
     "metadata": {},
     "output_type": "execute_result"
    }
   ],
   "source": [
    "final_predicted_polarity('Валентина и сюда вставила нотку негатива про это место, животных и людей, которые не кормят собак, раз они худые')"
   ]
  },
  {
   "cell_type": "code",
   "execution_count": 62,
   "id": "3258b71d",
   "metadata": {},
   "outputs": [
    {
     "data": {
      "text/plain": [
       "4.513219142332673"
      ]
     },
     "execution_count": 62,
     "metadata": {},
     "output_type": "execute_result"
    }
   ],
   "source": [
    "final_predicted_polarity('Всё во время')"
   ]
  },
  {
   "cell_type": "code",
   "execution_count": 69,
   "id": "ec9b1c2e",
   "metadata": {},
   "outputs": [
    {
     "data": {
      "text/plain": [
       "0.9964026212692261"
      ]
     },
     "execution_count": 69,
     "metadata": {},
     "output_type": "execute_result"
    }
   ],
   "source": [
    "final_binary_predicted_polarity('Спасибо большое 😊')"
   ]
  },
  {
   "cell_type": "code",
   "execution_count": null,
   "id": "cf42d638",
   "metadata": {},
   "outputs": [],
   "source": []
  },
  {
   "cell_type": "markdown",
   "id": "d8ce77e7",
   "metadata": {},
   "source": [
    "Preparing dataset for prediction"
   ]
  },
  {
   "cell_type": "code",
   "execution_count": 66,
   "id": "8a0e1375",
   "metadata": {},
   "outputs": [],
   "source": [
    "X = sample.SENTENCES.to_list()"
   ]
  },
  {
   "cell_type": "code",
   "execution_count": 67,
   "id": "08075179",
   "metadata": {},
   "outputs": [
    {
     "name": "stdout",
     "output_type": "stream",
     "text": [
      "CPU times: user 21.3 s, sys: 683 ms, total: 22 s\n",
      "Wall time: 13.4 s\n"
     ]
    }
   ],
   "source": [
    "%%time\n",
    "mc_predictions = [final_predicted_polarity(x) for x in X]"
   ]
  },
  {
   "cell_type": "code",
   "execution_count": 70,
   "id": "dd773e26",
   "metadata": {},
   "outputs": [
    {
     "name": "stdout",
     "output_type": "stream",
     "text": [
      "CPU times: user 19.9 s, sys: 550 ms, total: 20.5 s\n",
      "Wall time: 12 s\n"
     ]
    }
   ],
   "source": [
    "%%time\n",
    "bin_predictions = [final_binary_predicted_polarity(x) for x in X]"
   ]
  },
  {
   "cell_type": "code",
   "execution_count": 71,
   "id": "c89a0f9a",
   "metadata": {},
   "outputs": [],
   "source": [
    "res_df = pd.DataFrame({'sentence': X, 'polarity': mc_predictions, 'bin_polarity': bin_predictions})"
   ]
  },
  {
   "cell_type": "code",
   "execution_count": 72,
   "id": "8bf93b90",
   "metadata": {},
   "outputs": [
    {
     "data": {
      "text/html": [
       "<div>\n",
       "<style scoped>\n",
       "    .dataframe tbody tr th:only-of-type {\n",
       "        vertical-align: middle;\n",
       "    }\n",
       "\n",
       "    .dataframe tbody tr th {\n",
       "        vertical-align: top;\n",
       "    }\n",
       "\n",
       "    .dataframe thead th {\n",
       "        text-align: right;\n",
       "    }\n",
       "</style>\n",
       "<table border=\"1\" class=\"dataframe\">\n",
       "  <thead>\n",
       "    <tr style=\"text-align: right;\">\n",
       "      <th></th>\n",
       "      <th>sentence</th>\n",
       "      <th>polarity</th>\n",
       "      <th>bin_polarity</th>\n",
       "    </tr>\n",
       "  </thead>\n",
       "  <tbody>\n",
       "    <tr>\n",
       "      <th>0</th>\n",
       "      <td>Путеводитель не предоставлен, за что была взят...</td>\n",
       "      <td>1.569003</td>\n",
       "      <td>0.003109</td>\n",
       "    </tr>\n",
       "    <tr>\n",
       "      <th>1</th>\n",
       "      <td>Красивые места</td>\n",
       "      <td>3.219599</td>\n",
       "      <td>0.992325</td>\n",
       "    </tr>\n",
       "    <tr>\n",
       "      <th>2</th>\n",
       "      <td>Только цены в баре очень заоблачные</td>\n",
       "      <td>1.647474</td>\n",
       "      <td>0.001239</td>\n",
       "    </tr>\n",
       "    <tr>\n",
       "      <th>3</th>\n",
       "      <td>Восхитительный вид на Балтийское море с высоты...</td>\n",
       "      <td>4.872501</td>\n",
       "      <td>0.999421</td>\n",
       "    </tr>\n",
       "    <tr>\n",
       "      <th>4</th>\n",
       "      <td>Обязательно поедем с Вами еще на экскурсию</td>\n",
       "      <td>4.926344</td>\n",
       "      <td>0.999226</td>\n",
       "    </tr>\n",
       "    <tr>\n",
       "      <th>...</th>\n",
       "      <td>...</td>\n",
       "      <td>...</td>\n",
       "      <td>...</td>\n",
       "    </tr>\n",
       "    <tr>\n",
       "      <th>1995</th>\n",
       "      <td>Спасибо вам большое</td>\n",
       "      <td>4.407651</td>\n",
       "      <td>0.993178</td>\n",
       "    </tr>\n",
       "    <tr>\n",
       "      <th>1996</th>\n",
       "      <td>А на бархан Сурыкум мы вообще не попали, начал...</td>\n",
       "      <td>1.620565</td>\n",
       "      <td>0.997516</td>\n",
       "    </tr>\n",
       "    <tr>\n",
       "      <th>1997</th>\n",
       "      <td>Рекомендую</td>\n",
       "      <td>4.428528</td>\n",
       "      <td>0.998146</td>\n",
       "    </tr>\n",
       "    <tr>\n",
       "      <th>1998</th>\n",
       "      <td>На высоту Эфа поднимались без экскурсовода</td>\n",
       "      <td>2.175936</td>\n",
       "      <td>0.491152</td>\n",
       "    </tr>\n",
       "    <tr>\n",
       "      <th>1999</th>\n",
       "      <td>За два часа экскурсии я так много узнала про В...</td>\n",
       "      <td>4.951282</td>\n",
       "      <td>0.999131</td>\n",
       "    </tr>\n",
       "  </tbody>\n",
       "</table>\n",
       "<p>2000 rows × 3 columns</p>\n",
       "</div>"
      ],
      "text/plain": [
       "                                               sentence  polarity  \\\n",
       "0     Путеводитель не предоставлен, за что была взят...  1.569003   \n",
       "1                                        Красивые места  3.219599   \n",
       "2                   Только цены в баре очень заоблачные  1.647474   \n",
       "3     Восхитительный вид на Балтийское море с высоты...  4.872501   \n",
       "4            Обязательно поедем с Вами еще на экскурсию  4.926344   \n",
       "...                                                 ...       ...   \n",
       "1995                                Спасибо вам большое  4.407651   \n",
       "1996  А на бархан Сурыкум мы вообще не попали, начал...  1.620565   \n",
       "1997                                         Рекомендую  4.428528   \n",
       "1998         На высоту Эфа поднимались без экскурсовода  2.175936   \n",
       "1999  За два часа экскурсии я так много узнала про В...  4.951282   \n",
       "\n",
       "      bin_polarity  \n",
       "0         0.003109  \n",
       "1         0.992325  \n",
       "2         0.001239  \n",
       "3         0.999421  \n",
       "4         0.999226  \n",
       "...            ...  \n",
       "1995      0.993178  \n",
       "1996      0.997516  \n",
       "1997      0.998146  \n",
       "1998      0.491152  \n",
       "1999      0.999131  \n",
       "\n",
       "[2000 rows x 3 columns]"
      ]
     },
     "execution_count": 72,
     "metadata": {},
     "output_type": "execute_result"
    }
   ],
   "source": [
    "res_df"
   ]
  },
  {
   "cell_type": "markdown",
   "id": "37d147e7",
   "metadata": {},
   "source": [
    "### Multi-class predictions seem rather valid! Let's predict on whole dataset"
   ]
  },
  {
   "cell_type": "code",
   "execution_count": 74,
   "id": "244e0142",
   "metadata": {},
   "outputs": [],
   "source": [
    "X = for_pred_df.SENTENCES.to_list()"
   ]
  },
  {
   "cell_type": "code",
   "execution_count": 75,
   "id": "a3fc56fb",
   "metadata": {},
   "outputs": [
    {
     "data": {
      "text/plain": [
       "1167743"
      ]
     },
     "execution_count": 75,
     "metadata": {},
     "output_type": "execute_result"
    }
   ],
   "source": [
    "len(X)"
   ]
  },
  {
   "cell_type": "code",
   "execution_count": 76,
   "id": "3f2cd0aa",
   "metadata": {},
   "outputs": [
    {
     "name": "stdout",
     "output_type": "stream",
     "text": [
      "CPU times: user 3h 40min 59s, sys: 4min 30s, total: 3h 45min 29s\n",
      "Wall time: 2h 20min 56s\n"
     ]
    }
   ],
   "source": [
    "%%time\n",
    "mc_predictions = [final_predicted_polarity(x) for x in X]"
   ]
  },
  {
   "cell_type": "code",
   "execution_count": 77,
   "id": "5a1ba357",
   "metadata": {},
   "outputs": [],
   "source": [
    "res_df = pd.DataFrame({'sentence': X, 'polarity': mc_predictions})"
   ]
  },
  {
   "cell_type": "code",
   "execution_count": 83,
   "id": "23211ae5",
   "metadata": {},
   "outputs": [
    {
     "data": {
      "text/html": [
       "<div>\n",
       "<style scoped>\n",
       "    .dataframe tbody tr th:only-of-type {\n",
       "        vertical-align: middle;\n",
       "    }\n",
       "\n",
       "    .dataframe tbody tr th {\n",
       "        vertical-align: top;\n",
       "    }\n",
       "\n",
       "    .dataframe thead th {\n",
       "        text-align: right;\n",
       "    }\n",
       "</style>\n",
       "<table border=\"1\" class=\"dataframe\">\n",
       "  <thead>\n",
       "    <tr style=\"text-align: right;\">\n",
       "      <th></th>\n",
       "      <th>sentence</th>\n",
       "      <th>polarity</th>\n",
       "    </tr>\n",
       "  </thead>\n",
       "  <tbody>\n",
       "    <tr>\n",
       "      <th>187368</th>\n",
       "      <td>Отлично</td>\n",
       "      <td>4.876304</td>\n",
       "    </tr>\n",
       "    <tr>\n",
       "      <th>668702</th>\n",
       "      <td>Очень красиво, познавательно</td>\n",
       "      <td>4.522636</td>\n",
       "    </tr>\n",
       "    <tr>\n",
       "      <th>971824</th>\n",
       "      <td>Экскурсию взяли для первого впечатления от Каз...</td>\n",
       "      <td>2.048482</td>\n",
       "    </tr>\n",
       "    <tr>\n",
       "      <th>1126127</th>\n",
       "      <td>Списки по людям не скинули людей называли по н...</td>\n",
       "      <td>1.311893</td>\n",
       "    </tr>\n",
       "    <tr>\n",
       "      <th>169066</th>\n",
       "      <td>Гид - умница и красавица, даже маска ей к лицу</td>\n",
       "      <td>4.332927</td>\n",
       "    </tr>\n",
       "  </tbody>\n",
       "</table>\n",
       "</div>"
      ],
      "text/plain": [
       "                                                  sentence  polarity\n",
       "187368                                             Отлично  4.876304\n",
       "668702                        Очень красиво, познавательно  4.522636\n",
       "971824   Экскурсию взяли для первого впечатления от Каз...  2.048482\n",
       "1126127  Списки по людям не скинули людей называли по н...  1.311893\n",
       "169066      Гид - умница и красавица, даже маска ей к лицу  4.332927"
      ]
     },
     "execution_count": 83,
     "metadata": {},
     "output_type": "execute_result"
    }
   ],
   "source": [
    "res_df.sample(5)"
   ]
  },
  {
   "cell_type": "code",
   "execution_count": 86,
   "id": "706851e5",
   "metadata": {},
   "outputs": [
    {
     "data": {
      "text/plain": [
       "'Списки по людям не скинули людей называли по номеру телефона'"
      ]
     },
     "execution_count": 86,
     "metadata": {},
     "output_type": "execute_result"
    }
   ],
   "source": [
    "res_df.loc[1126127, 'sentence']"
   ]
  },
  {
   "cell_type": "code",
   "execution_count": 87,
   "id": "db829a1e",
   "metadata": {},
   "outputs": [],
   "source": [
    "res_df.to_csv('./sentence_polarity.csv', index=False)"
   ]
  },
  {
   "cell_type": "code",
   "execution_count": 112,
   "id": "0db2a0c8",
   "metadata": {},
   "outputs": [
    {
     "data": {
      "text/html": [
       "<div>\n",
       "<style scoped>\n",
       "    .dataframe tbody tr th:only-of-type {\n",
       "        vertical-align: middle;\n",
       "    }\n",
       "\n",
       "    .dataframe tbody tr th {\n",
       "        vertical-align: top;\n",
       "    }\n",
       "\n",
       "    .dataframe thead th {\n",
       "        text-align: right;\n",
       "    }\n",
       "</style>\n",
       "<table border=\"1\" class=\"dataframe\">\n",
       "  <thead>\n",
       "    <tr style=\"text-align: right;\">\n",
       "      <th></th>\n",
       "      <th>sentence</th>\n",
       "      <th>polarity</th>\n",
       "      <th>polarity_shifted</th>\n",
       "    </tr>\n",
       "  </thead>\n",
       "  <tbody>\n",
       "    <tr>\n",
       "      <th>73354</th>\n",
       "      <td>Всё отлично</td>\n",
       "      <td>4.906863</td>\n",
       "      <td>0.953431</td>\n",
       "    </tr>\n",
       "  </tbody>\n",
       "</table>\n",
       "</div>"
      ],
      "text/plain": [
       "          sentence  polarity  polarity_shifted\n",
       "73354  Всё отлично  4.906863          0.953431"
      ]
     },
     "execution_count": 112,
     "metadata": {},
     "output_type": "execute_result"
    }
   ],
   "source": [
    "res_df.sample()"
   ]
  },
  {
   "cell_type": "code",
   "execution_count": 89,
   "id": "2319f00c",
   "metadata": {},
   "outputs": [],
   "source": [
    "import matplotlib.pyplot as plt\n",
    "import seaborn as sns"
   ]
  },
  {
   "cell_type": "code",
   "execution_count": 91,
   "id": "a9d42118",
   "metadata": {},
   "outputs": [],
   "source": [
    "res_df['polarity_shifted'] = (res_df.polarity - 3) / 2"
   ]
  },
  {
   "cell_type": "code",
   "execution_count": 97,
   "id": "6841c431",
   "metadata": {},
   "outputs": [
    {
     "data": {
      "image/png": "[encoded data removed]",
      "text/plain": [
       "<Figure size 640x480 with 1 Axes>"
      ]
     },
     "metadata": {},
     "output_type": "display_data"
    }
   ],
   "source": [
    "\n",
    "\n",
    "sns.histplot(data=res_df.sample(20000), x='polarity_shifted')\n",
    "plt.show()"
   ]
  },
  {
   "cell_type": "code",
   "execution_count": null,
   "id": "c3fdee36",
   "metadata": {},
   "outputs": [],
   "source": []
  },
  {
   "cell_type": "code",
   "execution_count": 88,
   "id": "78cd2ac4",
   "metadata": {},
   "outputs": [],
   "source": [
    "for_db_df = pd.read_csv('./aspect_predictions_for_db.csv')"
   ]
  },
  {
   "cell_type": "code",
   "execution_count": 124,
   "id": "421d22fe",
   "metadata": {},
   "outputs": [
    {
     "data": {
      "text/html": [
       "<div>\n",
       "<style scoped>\n",
       "    .dataframe tbody tr th:only-of-type {\n",
       "        vertical-align: middle;\n",
       "    }\n",
       "\n",
       "    .dataframe tbody tr th {\n",
       "        vertical-align: top;\n",
       "    }\n",
       "\n",
       "    .dataframe thead th {\n",
       "        text-align: right;\n",
       "    }\n",
       "</style>\n",
       "<table border=\"1\" class=\"dataframe\">\n",
       "  <thead>\n",
       "    <tr style=\"text-align: right;\">\n",
       "      <th></th>\n",
       "      <th>ID</th>\n",
       "      <th>REVIEW_ID</th>\n",
       "      <th>SENTENCE_NUM</th>\n",
       "      <th>LABEL_NUM</th>\n",
       "      <th>PREDICTED_LABEL</th>\n",
       "      <th>PREDICTION_SCORE</th>\n",
       "    </tr>\n",
       "  </thead>\n",
       "  <tbody>\n",
       "    <tr>\n",
       "      <th>2791652</th>\n",
       "      <td>2791653</td>\n",
       "      <td>USQD65567710926339</td>\n",
       "      <td>12</td>\n",
       "      <td>3</td>\n",
       "      <td>unrelated</td>\n",
       "      <td>0.08074</td>\n",
       "    </tr>\n",
       "  </tbody>\n",
       "</table>\n",
       "</div>"
      ],
      "text/plain": [
       "              ID           REVIEW_ID  SENTENCE_NUM  LABEL_NUM PREDICTED_LABEL  \\\n",
       "2791652  2791653  USQD65567710926339            12          3       unrelated   \n",
       "\n",
       "         PREDICTION_SCORE  \n",
       "2791652           0.08074  "
      ]
     },
     "execution_count": 124,
     "metadata": {},
     "output_type": "execute_result"
    }
   ],
   "source": [
    "for_db_df.sample()"
   ]
  },
  {
   "cell_type": "code",
   "execution_count": 123,
   "id": "c4899c44",
   "metadata": {},
   "outputs": [],
   "source": [
    "for_db_df.columns = [c.upper() for c in for_db_df.columns]"
   ]
  },
  {
   "cell_type": "code",
   "execution_count": 132,
   "id": "18b9b81e",
   "metadata": {},
   "outputs": [],
   "source": [
    "for_db_df.rename(columns={'SENTENCE_NUM': 'NUM_SENT'}, inplace=True)"
   ]
  },
  {
   "cell_type": "code",
   "execution_count": 114,
   "id": "9a5f942c",
   "metadata": {},
   "outputs": [
    {
     "data": {
      "text/html": [
       "<div>\n",
       "<style scoped>\n",
       "    .dataframe tbody tr th:only-of-type {\n",
       "        vertical-align: middle;\n",
       "    }\n",
       "\n",
       "    .dataframe tbody tr th {\n",
       "        vertical-align: top;\n",
       "    }\n",
       "\n",
       "    .dataframe thead th {\n",
       "        text-align: right;\n",
       "    }\n",
       "</style>\n",
       "<table border=\"1\" class=\"dataframe\">\n",
       "  <thead>\n",
       "    <tr style=\"text-align: right;\">\n",
       "      <th></th>\n",
       "      <th>label</th>\n",
       "      <th>score</th>\n",
       "      <th>input</th>\n",
       "      <th>index</th>\n",
       "      <th>REVIEW_ID</th>\n",
       "      <th>SENTENCES</th>\n",
       "      <th>NUM_SENT</th>\n",
       "      <th>label_rank</th>\n",
       "    </tr>\n",
       "  </thead>\n",
       "  <tbody>\n",
       "    <tr>\n",
       "      <th>2602335</th>\n",
       "      <td>guide's attitude</td>\n",
       "      <td>0.899693</td>\n",
       "      <td>867445</td>\n",
       "      <td>867445</td>\n",
       "      <td>TIQQ03129892627768</td>\n",
       "      <td>На первый взгляд невзрачный город, НО гид Елиз...</td>\n",
       "      <td>2</td>\n",
       "      <td>1</td>\n",
       "    </tr>\n",
       "  </tbody>\n",
       "</table>\n",
       "</div>"
      ],
      "text/plain": [
       "                    label     score   input   index           REVIEW_ID  \\\n",
       "2602335  guide's attitude  0.899693  867445  867445  TIQQ03129892627768   \n",
       "\n",
       "                                                 SENTENCES  NUM_SENT  \\\n",
       "2602335  На первый взгляд невзрачный город, НО гид Елиз...         2   \n",
       "\n",
       "         label_rank  \n",
       "2602335           1  "
      ]
     },
     "execution_count": 114,
     "metadata": {},
     "output_type": "execute_result"
    }
   ],
   "source": [
    "for_pred_df.sample()"
   ]
  },
  {
   "cell_type": "code",
   "execution_count": 121,
   "id": "6e7408a8",
   "metadata": {},
   "outputs": [],
   "source": [
    "for_pred_df = pd.concat([for_pred_df.reset_index(drop=True), res_df], axis=1)"
   ]
  },
  {
   "cell_type": "code",
   "execution_count": 122,
   "id": "0a987ae5",
   "metadata": {},
   "outputs": [
    {
     "data": {
      "text/html": [
       "<div>\n",
       "<style scoped>\n",
       "    .dataframe tbody tr th:only-of-type {\n",
       "        vertical-align: middle;\n",
       "    }\n",
       "\n",
       "    .dataframe tbody tr th {\n",
       "        vertical-align: top;\n",
       "    }\n",
       "\n",
       "    .dataframe thead th {\n",
       "        text-align: right;\n",
       "    }\n",
       "</style>\n",
       "<table border=\"1\" class=\"dataframe\">\n",
       "  <thead>\n",
       "    <tr style=\"text-align: right;\">\n",
       "      <th></th>\n",
       "      <th>label</th>\n",
       "      <th>score</th>\n",
       "      <th>input</th>\n",
       "      <th>index</th>\n",
       "      <th>REVIEW_ID</th>\n",
       "      <th>SENTENCES</th>\n",
       "      <th>NUM_SENT</th>\n",
       "      <th>label_rank</th>\n",
       "      <th>sentence</th>\n",
       "      <th>polarity</th>\n",
       "      <th>polarity_shifted</th>\n",
       "    </tr>\n",
       "  </thead>\n",
       "  <tbody>\n",
       "    <tr>\n",
       "      <th>478170</th>\n",
       "      <td>appraisal</td>\n",
       "      <td>0.996995</td>\n",
       "      <td>478170</td>\n",
       "      <td>478170</td>\n",
       "      <td>KRQS56012990283969</td>\n",
       "      <td>Так хорошо</td>\n",
       "      <td>7</td>\n",
       "      <td>1</td>\n",
       "      <td>Так хорошо</td>\n",
       "      <td>3.003739</td>\n",
       "      <td>0.001869</td>\n",
       "    </tr>\n",
       "  </tbody>\n",
       "</table>\n",
       "</div>"
      ],
      "text/plain": [
       "            label     score   input   index           REVIEW_ID   SENTENCES  \\\n",
       "478170  appraisal  0.996995  478170  478170  KRQS56012990283969  Так хорошо   \n",
       "\n",
       "        NUM_SENT  label_rank    sentence  polarity  polarity_shifted  \n",
       "478170         7           1  Так хорошо  3.003739          0.001869  "
      ]
     },
     "execution_count": 122,
     "metadata": {},
     "output_type": "execute_result"
    }
   ],
   "source": [
    "for_pred_df.sample()"
   ]
  },
  {
   "cell_type": "code",
   "execution_count": 133,
   "id": "0591e469",
   "metadata": {},
   "outputs": [],
   "source": [
    "for_db_df = for_db_df.merge(for_pred_df[['REVIEW_ID', 'NUM_SENT', 'polarity_shifted']], how='left', \n",
    "                           on=['REVIEW_ID', 'NUM_SENT'])"
   ]
  },
  {
   "cell_type": "code",
   "execution_count": 134,
   "id": "e9dff4a9",
   "metadata": {},
   "outputs": [
    {
     "data": {
      "text/plain": [
       "3503229"
      ]
     },
     "execution_count": 134,
     "metadata": {},
     "output_type": "execute_result"
    }
   ],
   "source": [
    "len(for_db_df)"
   ]
  },
  {
   "cell_type": "code",
   "execution_count": 137,
   "id": "315bdb80",
   "metadata": {},
   "outputs": [],
   "source": [
    "for_db_df.columns = ['id', 'review_id', 'num_sent', 'label_num', 'predicted_label', 'prediction_score', \n",
    "                     'polarity_shifted']"
   ]
  },
  {
   "cell_type": "code",
   "execution_count": 138,
   "id": "6a2f1f8f",
   "metadata": {},
   "outputs": [
    {
     "data": {
      "text/html": [
       "<div>\n",
       "<style scoped>\n",
       "    .dataframe tbody tr th:only-of-type {\n",
       "        vertical-align: middle;\n",
       "    }\n",
       "\n",
       "    .dataframe tbody tr th {\n",
       "        vertical-align: top;\n",
       "    }\n",
       "\n",
       "    .dataframe thead th {\n",
       "        text-align: right;\n",
       "    }\n",
       "</style>\n",
       "<table border=\"1\" class=\"dataframe\">\n",
       "  <thead>\n",
       "    <tr style=\"text-align: right;\">\n",
       "      <th></th>\n",
       "      <th>id</th>\n",
       "      <th>review_id</th>\n",
       "      <th>num_sent</th>\n",
       "      <th>label_num</th>\n",
       "      <th>predicted_label</th>\n",
       "      <th>prediction_score</th>\n",
       "      <th>polarity_shifted</th>\n",
       "    </tr>\n",
       "  </thead>\n",
       "  <tbody>\n",
       "    <tr>\n",
       "      <th>0</th>\n",
       "      <td>1</td>\n",
       "      <td>AAAA78056139278555</td>\n",
       "      <td>1</td>\n",
       "      <td>1</td>\n",
       "      <td>appraisal</td>\n",
       "      <td>0.995386</td>\n",
       "      <td>0.973727</td>\n",
       "    </tr>\n",
       "    <tr>\n",
       "      <th>1</th>\n",
       "      <td>2</td>\n",
       "      <td>AAAA78056139278555</td>\n",
       "      <td>1</td>\n",
       "      <td>2</td>\n",
       "      <td>unmet expectations</td>\n",
       "      <td>0.001043</td>\n",
       "      <td>0.973727</td>\n",
       "    </tr>\n",
       "    <tr>\n",
       "      <th>2</th>\n",
       "      <td>3</td>\n",
       "      <td>AAAA78056139278555</td>\n",
       "      <td>1</td>\n",
       "      <td>3</td>\n",
       "      <td>unrelated</td>\n",
       "      <td>0.000562</td>\n",
       "      <td>0.973727</td>\n",
       "    </tr>\n",
       "    <tr>\n",
       "      <th>3</th>\n",
       "      <td>4</td>\n",
       "      <td>AAAA78056139278555</td>\n",
       "      <td>2</td>\n",
       "      <td>1</td>\n",
       "      <td>appraisal</td>\n",
       "      <td>0.994948</td>\n",
       "      <td>0.184599</td>\n",
       "    </tr>\n",
       "    <tr>\n",
       "      <th>4</th>\n",
       "      <td>5</td>\n",
       "      <td>AAAA78056139278555</td>\n",
       "      <td>2</td>\n",
       "      <td>2</td>\n",
       "      <td>guide's proficiency</td>\n",
       "      <td>0.001384</td>\n",
       "      <td>0.184599</td>\n",
       "    </tr>\n",
       "  </tbody>\n",
       "</table>\n",
       "</div>"
      ],
      "text/plain": [
       "   id           review_id  num_sent  label_num      predicted_label  \\\n",
       "0   1  AAAA78056139278555         1          1            appraisal   \n",
       "1   2  AAAA78056139278555         1          2   unmet expectations   \n",
       "2   3  AAAA78056139278555         1          3            unrelated   \n",
       "3   4  AAAA78056139278555         2          1            appraisal   \n",
       "4   5  AAAA78056139278555         2          2  guide's proficiency   \n",
       "\n",
       "   prediction_score  polarity_shifted  \n",
       "0          0.995386          0.973727  \n",
       "1          0.001043          0.973727  \n",
       "2          0.000562          0.973727  \n",
       "3          0.994948          0.184599  \n",
       "4          0.001384          0.184599  "
      ]
     },
     "execution_count": 138,
     "metadata": {},
     "output_type": "execute_result"
    }
   ],
   "source": [
    "for_db_df.head()"
   ]
  },
  {
   "cell_type": "code",
   "execution_count": 140,
   "id": "e4f1ba53",
   "metadata": {},
   "outputs": [],
   "source": [
    "for_db_df['prediction_score'] = for_db_df['prediction_score'].round(6)\n",
    "for_db_df['polarity_shifted'] = for_db_df['polarity_shifted'].round(6)"
   ]
  },
  {
   "cell_type": "code",
   "execution_count": 141,
   "id": "1f106d9e",
   "metadata": {},
   "outputs": [],
   "source": [
    "for_db_df.to_csv('./aspect_with_polarity_for_db.csv', index=False)"
   ]
  },
  {
   "cell_type": "code",
   "execution_count": 145,
   "id": "31ca3f2b",
   "metadata": {},
   "outputs": [],
   "source": [
    "al = pd.read_csv('./aspect_mapper.csv')"
   ]
  },
  {
   "cell_type": "code",
   "execution_count": 147,
   "id": "7325e7f7",
   "metadata": {},
   "outputs": [],
   "source": [
    "al_mapper = dict(zip(al.aspect_name.to_list(), al.id.to_list()))"
   ]
  },
  {
   "cell_type": "code",
   "execution_count": 148,
   "id": "8011ed66",
   "metadata": {},
   "outputs": [],
   "source": [
    "for_db_df['predicted_label'] = for_db_df['predicted_label'].map(al_mapper)"
   ]
  },
  {
   "cell_type": "code",
   "execution_count": 149,
   "id": "39e3dbe5",
   "metadata": {},
   "outputs": [
    {
     "data": {
      "text/html": [
       "<div>\n",
       "<style scoped>\n",
       "    .dataframe tbody tr th:only-of-type {\n",
       "        vertical-align: middle;\n",
       "    }\n",
       "\n",
       "    .dataframe tbody tr th {\n",
       "        vertical-align: top;\n",
       "    }\n",
       "\n",
       "    .dataframe thead th {\n",
       "        text-align: right;\n",
       "    }\n",
       "</style>\n",
       "<table border=\"1\" class=\"dataframe\">\n",
       "  <thead>\n",
       "    <tr style=\"text-align: right;\">\n",
       "      <th></th>\n",
       "      <th>id</th>\n",
       "      <th>review_id</th>\n",
       "      <th>num_sent</th>\n",
       "      <th>label_num</th>\n",
       "      <th>predicted_label</th>\n",
       "      <th>prediction_score</th>\n",
       "      <th>polarity_shifted</th>\n",
       "    </tr>\n",
       "  </thead>\n",
       "  <tbody>\n",
       "    <tr>\n",
       "      <th>0</th>\n",
       "      <td>1</td>\n",
       "      <td>AAAA78056139278555</td>\n",
       "      <td>1</td>\n",
       "      <td>1</td>\n",
       "      <td>1</td>\n",
       "      <td>0.995386</td>\n",
       "      <td>0.973727</td>\n",
       "    </tr>\n",
       "    <tr>\n",
       "      <th>1</th>\n",
       "      <td>2</td>\n",
       "      <td>AAAA78056139278555</td>\n",
       "      <td>1</td>\n",
       "      <td>2</td>\n",
       "      <td>28</td>\n",
       "      <td>0.001043</td>\n",
       "      <td>0.973727</td>\n",
       "    </tr>\n",
       "    <tr>\n",
       "      <th>2</th>\n",
       "      <td>3</td>\n",
       "      <td>AAAA78056139278555</td>\n",
       "      <td>1</td>\n",
       "      <td>3</td>\n",
       "      <td>29</td>\n",
       "      <td>0.000562</td>\n",
       "      <td>0.973727</td>\n",
       "    </tr>\n",
       "    <tr>\n",
       "      <th>3</th>\n",
       "      <td>4</td>\n",
       "      <td>AAAA78056139278555</td>\n",
       "      <td>2</td>\n",
       "      <td>1</td>\n",
       "      <td>1</td>\n",
       "      <td>0.994948</td>\n",
       "      <td>0.184599</td>\n",
       "    </tr>\n",
       "    <tr>\n",
       "      <th>4</th>\n",
       "      <td>5</td>\n",
       "      <td>AAAA78056139278555</td>\n",
       "      <td>2</td>\n",
       "      <td>2</td>\n",
       "      <td>12</td>\n",
       "      <td>0.001384</td>\n",
       "      <td>0.184599</td>\n",
       "    </tr>\n",
       "  </tbody>\n",
       "</table>\n",
       "</div>"
      ],
      "text/plain": [
       "   id           review_id  num_sent  label_num  predicted_label  \\\n",
       "0   1  AAAA78056139278555         1          1                1   \n",
       "1   2  AAAA78056139278555         1          2               28   \n",
       "2   3  AAAA78056139278555         1          3               29   \n",
       "3   4  AAAA78056139278555         2          1                1   \n",
       "4   5  AAAA78056139278555         2          2               12   \n",
       "\n",
       "   prediction_score  polarity_shifted  \n",
       "0          0.995386          0.973727  \n",
       "1          0.001043          0.973727  \n",
       "2          0.000562          0.973727  \n",
       "3          0.994948          0.184599  \n",
       "4          0.001384          0.184599  "
      ]
     },
     "execution_count": 149,
     "metadata": {},
     "output_type": "execute_result"
    }
   ],
   "source": [
    "for_db_df.head()"
   ]
  },
  {
   "cell_type": "code",
   "execution_count": 150,
   "id": "76f3bfb6",
   "metadata": {},
   "outputs": [],
   "source": [
    "for_db_df.to_csv('./aspect_with_polarity_for_db.csv', index=False)"
   ]
  }
 ],
 "metadata": {
  "kernelspec": {
   "display_name": "Python 3 (ipykernel)",
   "language": "python",
   "name": "python3"
  },
  "language_info": {
   "codemirror_mode": {
    "name": "ipython",
    "version": 3
   },
   "file_extension": ".py",
   "mimetype": "text/x-python",
   "name": "python",
   "nbconvert_exporter": "python",
   "pygments_lexer": "ipython3",
   "version": "3.9.6"
  }
 },
 "nbformat": 4,
 "nbformat_minor": 5
}
