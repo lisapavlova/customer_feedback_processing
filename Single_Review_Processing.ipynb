{
 "cells": [
  {
   "cell_type": "markdown",
   "id": "efbfb4aa",
   "metadata": {},
   "source": [
    "### Import of libraries"
   ]
  },
  {
   "cell_type": "code",
   "execution_count": 4,
   "id": "515290e1",
   "metadata": {},
   "outputs": [],
   "source": [
    "import pandas as pd\n",
    "import numpy as np"
   ]
  },
  {
   "cell_type": "code",
   "execution_count": null,
   "id": "edea80a9-b03e-4a5c-a8e7-a95d9b78cea2",
   "metadata": {},
   "outputs": [],
   "source": [
    "from os import listdir\n",
    "from os.path import isfile, join"
   ]
  },
  {
   "cell_type": "code",
   "execution_count": 409,
   "id": "48f53a08",
   "metadata": {},
   "outputs": [],
   "source": [
    "from tqdm import tqdm"
   ]
  },
  {
   "cell_type": "code",
   "execution_count": null,
   "id": "ca446d28-da92-485d-ac83-044037371ad0",
   "metadata": {},
   "outputs": [],
   "source": [
    "from html2image import Html2Image\n",
    "hti = Html2Image()"
   ]
  },
  {
   "cell_type": "code",
   "execution_count": 473,
   "id": "a34bc5b7-855c-4932-80e5-92dcc22facdf",
   "metadata": {},
   "outputs": [
    {
     "name": "stdout",
     "output_type": "stream",
     "text": [
      "\u001b[33mWARNING: You are using pip version 21.3.1; however, version 24.0 is available.\r\n",
      "You should consider upgrading via the '/Users/lisa/projects/MTReviews/venv/bin/python -m pip install --upgrade pip' command.\u001b[0m\r\n"
     ]
    }
   ],
   "source": [
    "!pip install Pillow -q"
   ]
  },
  {
   "cell_type": "code",
   "execution_count": 474,
   "id": "80b32a67-4953-43a4-aca6-9fc9dbf013a0",
   "metadata": {},
   "outputs": [],
   "source": [
    "from PIL import Image"
   ]
  },
  {
   "cell_type": "markdown",
   "id": "d310a19e-5c4c-463b-8ee0-b50cfe7a8e05",
   "metadata": {},
   "source": [
    "### Functions"
   ]
  },
  {
   "cell_type": "code",
   "execution_count": 482,
   "id": "10e960e4-2a7a-4d2d-94df-902e5d0ec7fa",
   "metadata": {},
   "outputs": [],
   "source": [
    "# Image cropping\n",
    "def bbox(im):\n",
    "    a = np.array(im)[:,:,:3]  # keep RGB only\n",
    "    m = np.any(a != [255, 255, 255], axis=2)\n",
    "    coords = np.argwhere(m)\n",
    "    y0, x0, y1, x1 = *np.min(coords, axis=0), *np.max(coords, axis=0)\n",
    "    return (x0, y0, x1+1, 500)"
   ]
  },
  {
   "cell_type": "code",
   "execution_count": 426,
   "id": "d3a16cd1",
   "metadata": {},
   "outputs": [],
   "source": [
    "# Visualisation in Jupyter\n",
    "def visualising(text):\n",
    "    split = sentence_splitting(clearing_junk(text))\n",
    "    pred = aspect_pipeline(split, top_k=3)\n",
    "    \n",
    "    res = []\n",
    "\n",
    "    for s in range(len(split)):\n",
    "        res.append([split[s],pred[s][0]['label'],str(round(pred[s][0]['score']*100))+'%'])\n",
    "        \n",
    "    words = [r[0].strip(' ') for r in res]\n",
    "\n",
    "    words_scores = []\n",
    "    for w in range(len(words)):\n",
    "        words_scores.append(words[w])\n",
    "        words_scores.append(res[w][2].upper())\n",
    "\n",
    "    text = ' '.join(words_scores)\n",
    "    ents = []\n",
    "\n",
    "    strt = 0\n",
    "    for r in res:\n",
    "        endd = strt + len(r[0].strip(' ')) + 1\n",
    "        ents.append({\"start\": strt, \"end\": endd, 'label': r[1].upper()})\n",
    "        strt += len(r[0].strip(' ')) + 1 + 4\n",
    "\n",
    "\n",
    "    man = {\n",
    "        \"text\": text,\n",
    "        \"ents\": ents,\n",
    "        \"title\": None\n",
    "    }\n",
    "    \n",
    "    #svg = displacy.render(man, manual=True, style=\"ent\", jupyter=True, options={'colors':aspect_mapper2, 'ents': aspects})\n",
    "    svg = displacy.render(man, manual=True, style=\"ent\", jupyter=True, options={'colors':aspect_mapper2, 'ents': aspects})\n",
    "\n",
    "    \n",
    "    return svg"
   ]
  },
  {
   "cell_type": "code",
   "execution_count": 460,
   "id": "4aae84e1",
   "metadata": {},
   "outputs": [],
   "source": [
    "# Visualisation for PNG saving\n",
    "def visualising2(text):\n",
    "    split = sentence_splitting(clearing_junk(text))\n",
    "    pred = aspect_pipeline(split, top_k=3)\n",
    "    \n",
    "    res = []\n",
    "\n",
    "    for s in range(len(split)):\n",
    "        res.append([split[s],pred[s][0]['label'],str(round(pred[s][0]['score']*100))+'%'])\n",
    "        \n",
    "    words = [r[0].strip(' ') for r in res]\n",
    "\n",
    "    words_scores = []\n",
    "    for w in range(len(words)):\n",
    "        words_scores.append(words[w])\n",
    "        words_scores.append(res[w][2].upper())\n",
    "\n",
    "    text = ' '.join(words_scores)\n",
    "    ents = []\n",
    "\n",
    "    strt = 0\n",
    "    for r in res:\n",
    "        endd = strt + len(r[0].strip(' ')) + 1\n",
    "        ents.append({\"start\": strt, \"end\": endd, 'label': r[1].upper()})\n",
    "        strt += len(r[0].strip(' ')) + 2 + len(r[2].upper())\n",
    "\n",
    "\n",
    "    man = {\n",
    "        \"text\": text,\n",
    "        \"ents\": ents,\n",
    "        \"title\": None\n",
    "    }\n",
    "    \n",
    "    \n",
    "    #svg = displacy.render(man, manual=True, style=\"ent\", jupyter=True, options={'colors':aspect_mapper2, 'ents': aspects})\n",
    "    svg = displacy.render(man, manual=True, style=\"ent\", jupyter=False, options={'colors':aspect_mapper2, 'ents': aspects},\n",
    "                         page=True, minify=True)\n",
    "\n",
    "    \n",
    "    return svg"
   ]
  },
  {
   "cell_type": "markdown",
   "id": "e167f32b",
   "metadata": {},
   "source": [
    "### Visualising"
   ]
  },
  {
   "cell_type": "code",
   "execution_count": 414,
   "id": "5193bf4c",
   "metadata": {},
   "outputs": [],
   "source": [
    "# On longer non-positive reviews for demo\n",
    "ids = revs[(revs.DETAIL_RATING<5)&(revs.DETAIL_CONTENT.str.len()>100)].index.to_list()"
   ]
  },
  {
   "cell_type": "code",
   "execution_count": 415,
   "id": "ec9fe2a8",
   "metadata": {},
   "outputs": [
    {
     "data": {
      "text/plain": [
       "56701"
      ]
     },
     "execution_count": 415,
     "metadata": {},
     "output_type": "execute_result"
    }
   ],
   "source": [
    "len(ids)"
   ]
  },
  {
   "cell_type": "code",
   "execution_count": 408,
   "id": "2a6c1a50",
   "metadata": {},
   "outputs": [
    {
     "name": "stdout",
     "output_type": "stream",
     "text": [
      "255666\n"
     ]
    },
    {
     "data": {
      "text/html": [
       "<span class=\"tex2jax_ignore\"><div class=\"entities\" style=\"line-height: 2.5; direction: ltr\">\n",
       "<mark class=\"entity\" style=\"background: #CAACE7; padding: 0.45em 0.6em; margin: 0 0.25em; line-height: 1; border-radius: 0.35em;\">\n",
       "    Природа Абхазии безусловно шикарная, но в остальное отношение такое себе \n",
       "    <span style=\"font-size: 0.8em; font-weight: bold; line-height: 1; border-radius: 0.35em; vertical-align: middle; margin-left: 0.5rem\">GUIDE'S ATTITUDE</span>\n",
       "</mark>\n",
       "84% \n",
       "<mark class=\"entity\" style=\"background: #7FA0E2; padding: 0.45em 0.6em; margin: 0 0.25em; line-height: 1; border-radius: 0.35em;\">\n",
       "    На оз \n",
       "    <span style=\"font-size: 0.8em; font-weight: bold; line-height: 1; border-radius: 0.35em; vertical-align: middle; margin-left: 0.5rem\">UNRELATED</span>\n",
       "</mark>\n",
       "100%\n",
       "<mark class=\"entity\" style=\"background: #FFBBCE; padding: 0.45em 0.6em; margin: 0 0.25em; line-height: 1; border-radius: 0.35em;\">\n",
       "     Рицца кормят отвратительно уже вроде как и никуда и не денетесь, и это еще не сезон\n",
       "    <span style=\"font-size: 0.8em; font-weight: bold; line-height: 1; border-radius: 0.35em; vertical-align: middle; margin-left: 0.5rem\">FOOD</span>\n",
       "</mark>\n",
       " 59%\n",
       "<mark class=\"entity\" style=\"background: #CAACE7; padding: 0.45em 0.6em; margin: 0 0.25em; line-height: 1; border-radius: 0.35em;\">\n",
       "     распределение времени - отдельная больная тема\n",
       "    <span style=\"font-size: 0.8em; font-weight: bold; line-height: 1; border-radius: 0.35em; vertical-align: middle; margin-left: 0.5rem\">FACT MISSTATEMENT</span>\n",
       "</mark>\n",
       " 43%\n",
       "<mark class=\"entity\" style=\"background: #7FA0E2; padding: 0.45em 0.6em; margin: 0 0.25em; line-height: 1; border-radius: 0.35em;\">\n",
       "     Наличка -за все\n",
       "    <span style=\"font-size: 0.8em; font-weight: bold; line-height: 1; border-radius: 0.35em; vertical-align: middle; margin-left: 0.5rem\">UNRELATED</span>\n",
       "</mark>\n",
       " 100\n",
       "<mark class=\"entity\" style=\"background: #CAACE7; padding: 0.45em 0.6em; margin: 0 0.25em; line-height: 1; border-radius: 0.35em;\">\n",
       "    % Вот девиз Абхази\n",
       "    <span style=\"font-size: 0.8em; font-weight: bold; line-height: 1; border-radius: 0.35em; vertical-align: middle; margin-left: 0.5rem\">GUIDE'S ATTITUDE</span>\n",
       "</mark>\n",
       "и 96%</div></span>"
      ],
      "text/plain": [
       "<IPython.core.display.HTML object>"
      ]
     },
     "metadata": {},
     "output_type": "display_data"
    }
   ],
   "source": [
    "i = np.random.choice(ids)\n",
    "print(i)\n",
    "visualising(str(revs.loc[i, 'content']))"
   ]
  },
  {
   "cell_type": "code",
   "execution_count": 416,
   "id": "2b1269a5",
   "metadata": {},
   "outputs": [],
   "source": [
    "sample = revs[(revs.DETAIL_RATING<5)&(revs.DETAIL_CONTENT.str.len()>100)].groupby(\n",
    "    'DETAIL_RATING').sample(125, random_state=42)"
   ]
  },
  {
   "cell_type": "code",
   "execution_count": 417,
   "id": "2dd87666",
   "metadata": {},
   "outputs": [
    {
     "data": {
      "text/plain": [
       "500"
      ]
     },
     "execution_count": 417,
     "metadata": {},
     "output_type": "execute_result"
    }
   ],
   "source": [
    "len(sample)"
   ]
  },
  {
   "cell_type": "code",
   "execution_count": 418,
   "id": "5d0118aa",
   "metadata": {},
   "outputs": [],
   "source": [
    "ids = sample['index'].to_list()"
   ]
  },
  {
   "cell_type": "markdown",
   "id": "87366e97-e71d-4e4d-acf3-6581bcf260ae",
   "metadata": {},
   "source": [
    "### Saving visualisations as PNG"
   ]
  },
  {
   "cell_type": "code",
   "execution_count": 486,
   "id": "f84b06fa-2369-474d-ac50-f83c8fa2d096",
   "metadata": {},
   "outputs": [],
   "source": [
    "mypath = './review_vis/demo_review_vis_mid/'\n",
    "onlyfiles = [f for f in listdir(mypath) if isfile(join(mypath, f))]"
   ]
  },
  {
   "cell_type": "code",
   "execution_count": 488,
   "id": "66821feb-f290-417e-a2ed-b5b2b25af0b2",
   "metadata": {},
   "outputs": [
    {
     "name": "stderr",
     "output_type": "stream",
     "text": [
      "  0%|          | 0/5 [00:00<?, ?it/s]103286 bytes written to file /Users/lisa/projects/MTReviews/vis_MRDB10754022275185_rate3_plot.png\n"
     ]
    },
    {
     "name": "stdout",
     "output_type": "stream",
     "text": [
      "(0, 0, 3840, 500)\n",
      "(0, 0, 3840, 500)\n"
     ]
    },
    {
     "name": "stderr",
     "output_type": "stream",
     "text": [
      " 20%|██        | 1/5 [00:03<00:15,  3.82s/it]172286 bytes written to file /Users/lisa/projects/MTReviews/vis_APJO89470119407139_rate2_plot.png\n"
     ]
    },
    {
     "name": "stdout",
     "output_type": "stream",
     "text": [
      "(0, 0, 3840, 500)\n",
      "(0, 0, 3840, 500)\n"
     ]
    },
    {
     "name": "stderr",
     "output_type": "stream",
     "text": [
      " 40%|████      | 2/5 [00:07<00:12,  4.02s/it]212066 bytes written to file /Users/lisa/projects/MTReviews/vis_ADUP98489228440688_rate4_plot.png\n"
     ]
    },
    {
     "name": "stdout",
     "output_type": "stream",
     "text": [
      "(0, 0, 3840, 500)\n",
      "(0, 0, 3840, 500)\n"
     ]
    },
    {
     "name": "stderr",
     "output_type": "stream",
     "text": [
      " 60%|██████    | 3/5 [00:11<00:07,  4.00s/it][0601/235009.474697:ERROR:command_buffer_proxy_impl.cc(131)] ContextResult::kTransientFailure: Failed to send GpuControl.CreateCommandBuffer.\n",
      "106158 bytes written to file /Users/lisa/projects/MTReviews/vis_AJUM52128422481383_rate1_plot.png\n"
     ]
    },
    {
     "name": "stdout",
     "output_type": "stream",
     "text": [
      "(0, 0, 3840, 500)\n",
      "(0, 0, 3840, 500)\n"
     ]
    },
    {
     "name": "stderr",
     "output_type": "stream",
     "text": [
      " 80%|████████  | 4/5 [00:19<00:05,  5.49s/it]215786 bytes written to file /Users/lisa/projects/MTReviews/vis_AQUW34117257982599_rate4_plot.png\n"
     ]
    },
    {
     "name": "stdout",
     "output_type": "stream",
     "text": [
      "(0, 0, 3840, 500)\n",
      "(0, 0, 3840, 500)\n"
     ]
    },
    {
     "name": "stderr",
     "output_type": "stream",
     "text": [
      "100%|██████████| 5/5 [00:26<00:00,  5.31s/it]\n"
     ]
    }
   ],
   "source": [
    "for f in tqdm([f for f in onlyfiles if f.endswith('html')]):\n",
    "    # imgkit.from_file(mypath+f, f.replace(\"html\", \"jpg\"))\n",
    "    hti.screenshot(\n",
    "    html_file=mypath+f, save_as=f.replace(\"html\", \"png\"))\n",
    "    im = Image.open((f).replace(\"html\", \"png\"))\n",
    "    print(bbox(im))\n",
    "    im2 = im.crop(bbox(im))\n",
    "    print(bbox(im2))\n",
    "    im2.save((mypath+f).replace(\"html\", \"png\"))\n"
   ]
  }
 ],
 "metadata": {
  "kernelspec": {
   "display_name": "Python 3 (ipykernel)",
   "language": "python",
   "name": "python3"
  },
  "language_info": {
   "codemirror_mode": {
    "name": "ipython",
    "version": 3
   },
   "file_extension": ".py",
   "mimetype": "text/x-python",
   "name": "python",
   "nbconvert_exporter": "python",
   "pygments_lexer": "ipython3",
   "version": "3.9.6"
  }
 },
 "nbformat": 4,
 "nbformat_minor": 5
}
