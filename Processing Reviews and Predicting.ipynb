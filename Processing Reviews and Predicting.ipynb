{
 "cells": [
  {
   "cell_type": "markdown",
   "id": "f43c8af5",
   "metadata": {},
   "source": [
    "## Import of Libraries"
   ]
  },
  {
   "cell_type": "code",
   "execution_count": 8,
   "id": "4963f11b",
   "metadata": {},
   "outputs": [],
   "source": [
    "import warnings\n",
    "warnings.simplefilter(action='ignore', category=FutureWarning)"
   ]
  },
  {
   "cell_type": "code",
   "execution_count": 9,
   "id": "a8ce171b",
   "metadata": {},
   "outputs": [],
   "source": [
    "import pandas as pd\n",
    "import numpy as np"
   ]
  },
  {
   "cell_type": "code",
   "execution_count": 178,
   "id": "d5ef89ea",
   "metadata": {},
   "outputs": [],
   "source": [
    "import torch"
   ]
  },
  {
   "cell_type": "code",
   "execution_count": 179,
   "id": "e67a17cb",
   "metadata": {},
   "outputs": [
    {
     "name": "stderr",
     "output_type": "stream",
     "text": [
      "/Users/lisa/projects/MTReviews/venv/lib/python3.9/site-packages/urllib3/__init__.py:35: NotOpenSSLWarning: urllib3 v2 only supports OpenSSL 1.1.1+, currently the 'ssl' module is compiled with 'LibreSSL 2.8.3'. See: https://github.com/urllib3/urllib3/issues/3020\n",
      "  warnings.warn(\n"
     ]
    }
   ],
   "source": [
    "from transformers import pipeline"
   ]
  },
  {
   "cell_type": "code",
   "execution_count": 15,
   "id": "0206c6ea",
   "metadata": {},
   "outputs": [
    {
     "name": "stderr",
     "output_type": "stream",
     "text": [
      "python(52435) MallocStackLogging: can't turn off malloc stack logging because it was not enabled.\n"
     ]
    },
    {
     "name": "stdout",
     "output_type": "stream",
     "text": [
      "\u001b[33mWARNING: You are using pip version 21.3.1; however, version 24.0 is available.\r\n",
      "You should consider upgrading via the '/Users/lisa/projects/MTReviews/venv/bin/python -m pip install --upgrade pip' command.\u001b[0m\r\n"
     ]
    }
   ],
   "source": [
    "!pip install anonymizedf -q"
   ]
  },
  {
   "cell_type": "code",
   "execution_count": 10,
   "id": "c0585697",
   "metadata": {},
   "outputs": [],
   "source": [
    "# Anonymize DF\n",
    "from anonymizedf.anonymizedf import anonymize"
   ]
  },
  {
   "cell_type": "markdown",
   "id": "1f817cdc",
   "metadata": {},
   "source": [
    "## Import of Data"
   ]
  },
  {
   "cell_type": "code",
   "execution_count": 56,
   "id": "7412f02b",
   "metadata": {},
   "outputs": [
    {
     "name": "stderr",
     "output_type": "stream",
     "text": [
      "/var/folders/cb/k57dclgn39d7lrgbl3gjj7c00000gn/T/ipykernel_52894/3288281455.py:1: DtypeWarning: Columns (10,12,13,14,15,16) have mixed types. Specify dtype option on import or set low_memory=False.\n",
      "  rev_df = pd.read_csv('./reviews_may24.csv')\n"
     ]
    }
   ],
   "source": [
    "rev_df = pd.read_csv('./reviews_may24.csv')"
   ]
  },
  {
   "cell_type": "code",
   "execution_count": 12,
   "id": "e6736430",
   "metadata": {},
   "outputs": [
    {
     "data": {
      "text/plain": [
       "352386"
      ]
     },
     "execution_count": 12,
     "metadata": {},
     "output_type": "execute_result"
    }
   ],
   "source": [
    "len(rev_df)"
   ]
  },
  {
   "cell_type": "code",
   "execution_count": 13,
   "id": "27e0901d",
   "metadata": {},
   "outputs": [
    {
     "data": {
      "text/plain": [
       "Index(['review_id', 'reviewer_id', 'activity_id', 'order_id', 'host_id',\n",
       "       'content', 'rating', 'created_at', 'organization', 'impression',\n",
       "       'profficiency', 'personal', 'not_satisfied', 'sputnik', 'transport',\n",
       "       'route', 'comfort', 'organization_rating', 'impression_rating',\n",
       "       'profficiency_rating', 'personal_rating', 'sputnik_rating',\n",
       "       'transport_rating', 'route_rating', 'comfort_rating'],\n",
       "      dtype='object')"
      ]
     },
     "execution_count": 13,
     "metadata": {},
     "output_type": "execute_result"
    }
   ],
   "source": [
    "rev_df.columns"
   ]
  },
  {
   "cell_type": "markdown",
   "id": "bee52c0e",
   "metadata": {},
   "source": [
    "## Data Melting and Anonymization"
   ]
  },
  {
   "cell_type": "markdown",
   "id": "90ba096a",
   "metadata": {},
   "source": [
    "### Anonymization"
   ]
  },
  {
   "cell_type": "code",
   "execution_count": 19,
   "id": "c528eea9",
   "metadata": {},
   "outputs": [],
   "source": [
    "del anon\n",
    "del anon_df"
   ]
  },
  {
   "cell_type": "code",
   "execution_count": 57,
   "id": "3f34dc41",
   "metadata": {},
   "outputs": [
    {
     "data": {
      "text/plain": [
       "44070"
      ]
     },
     "execution_count": 57,
     "metadata": {},
     "output_type": "execute_result"
    }
   ],
   "source": [
    "rev_df.order_id.isna().sum()"
   ]
  },
  {
   "cell_type": "code",
   "execution_count": 58,
   "id": "9a59ec1b",
   "metadata": {},
   "outputs": [
    {
     "data": {
      "text/plain": [
       "443227"
      ]
     },
     "execution_count": 58,
     "metadata": {},
     "output_type": "execute_result"
    }
   ],
   "source": [
    "order_ids = [i for i in range(500000)]\n",
    "order_ids = list(set(order_ids) - set(rev_df[rev_df.order_id<=500000].order_id.to_list()))\n",
    "len(order_ids)"
   ]
  },
  {
   "cell_type": "code",
   "execution_count": 59,
   "id": "bc400434",
   "metadata": {},
   "outputs": [
    {
     "data": {
      "text/plain": [
       "44070"
      ]
     },
     "execution_count": 59,
     "metadata": {},
     "output_type": "execute_result"
    }
   ],
   "source": [
    "order_ids = order_ids[:44070]\n",
    "len(order_ids)"
   ]
  },
  {
   "cell_type": "code",
   "execution_count": 60,
   "id": "502463df",
   "metadata": {},
   "outputs": [],
   "source": [
    "rev_df.loc[rev_df.order_id.isna(), 'order_id'] = order_ids"
   ]
  },
  {
   "cell_type": "code",
   "execution_count": 61,
   "id": "c7cf47ad",
   "metadata": {},
   "outputs": [
    {
     "data": {
      "text/plain": [
       "0"
      ]
     },
     "execution_count": 61,
     "metadata": {},
     "output_type": "execute_result"
    }
   ],
   "source": [
    "rev_df.order_id.isna().sum()"
   ]
  },
  {
   "cell_type": "code",
   "execution_count": 62,
   "id": "ea0b7a2f",
   "metadata": {},
   "outputs": [
    {
     "name": "stdout",
     "output_type": "stream",
     "text": [
      "CPU times: user 53.6 s, sys: 1.19 s, total: 54.8 s\n",
      "Wall time: 59.4 s\n"
     ]
    }
   ],
   "source": [
    "%%time\n",
    "\n",
    "anon = anonymize(rev_df)\n",
    "\n",
    "# Anonymizing all identifiers: id of review, reviewer, excursion and guide\n",
    "anon_df = anon.fake_ids(\"review_id\")\n",
    "anon_df = anon.fake_ids(\"reviewer_id\")\n",
    "anon_df = anon.fake_ids(\"activity_id\")\n",
    "anon_df = anon.fake_ids(\"host_id\")\n",
    "anon_df = anon.fake_ids(\"order_id\")\n",
    "\n",
    "anon_df[['review_id', 'Fake_review_id', 'reviewer_id', 'Fake_reviewer_id', 'activity_id', \n",
    "         'Fake_activity_id', 'host_id', 'Fake_host_id', 'order_id', 'Fake_order_id']].to_csv('./rev_anonymizer_may24.csv', index=False)"
   ]
  },
  {
   "cell_type": "code",
   "execution_count": 63,
   "id": "05848202",
   "metadata": {},
   "outputs": [],
   "source": [
    "anon_df.review_id = anon_df.Fake_review_id\n",
    "anon_df.reviewer_id = anon_df.Fake_reviewer_id\n",
    "anon_df.activity_id = anon_df.Fake_activity_id\n",
    "anon_df.host_id = anon_df.Fake_host_id\n",
    "anon_df.order_id = anon_df.Fake_order_id\n",
    "\n",
    "anon_df.drop(columns=['Fake_review_id', 'Fake_reviewer_id', 'Fake_activity_id', 'Fake_host_id', \n",
    "                     'Fake_order_id'], inplace=True)\n",
    "\n",
    "anon_df.rename(columns={'review_id':'REVIEW_ID', 'reviewer_id':'TOURIST_ID', 'activity_id':'TOUR_ID', 'host_id':'GUIDE_ID'}, inplace=True)"
   ]
  },
  {
   "cell_type": "code",
   "execution_count": 64,
   "id": "d0fed06d",
   "metadata": {},
   "outputs": [
    {
     "data": {
      "text/html": [
       "<div>\n",
       "<style scoped>\n",
       "    .dataframe tbody tr th:only-of-type {\n",
       "        vertical-align: middle;\n",
       "    }\n",
       "\n",
       "    .dataframe tbody tr th {\n",
       "        vertical-align: top;\n",
       "    }\n",
       "\n",
       "    .dataframe thead th {\n",
       "        text-align: right;\n",
       "    }\n",
       "</style>\n",
       "<table border=\"1\" class=\"dataframe\">\n",
       "  <thead>\n",
       "    <tr style=\"text-align: right;\">\n",
       "      <th></th>\n",
       "      <th>REVIEW_ID</th>\n",
       "      <th>TOURIST_ID</th>\n",
       "      <th>TOUR_ID</th>\n",
       "      <th>order_id</th>\n",
       "      <th>GUIDE_ID</th>\n",
       "      <th>content</th>\n",
       "      <th>rating</th>\n",
       "      <th>created_at</th>\n",
       "      <th>organization</th>\n",
       "      <th>impression</th>\n",
       "      <th>...</th>\n",
       "      <th>route</th>\n",
       "      <th>comfort</th>\n",
       "      <th>organization_rating</th>\n",
       "      <th>impression_rating</th>\n",
       "      <th>profficiency_rating</th>\n",
       "      <th>personal_rating</th>\n",
       "      <th>sputnik_rating</th>\n",
       "      <th>transport_rating</th>\n",
       "      <th>route_rating</th>\n",
       "      <th>comfort_rating</th>\n",
       "    </tr>\n",
       "  </thead>\n",
       "  <tbody>\n",
       "    <tr>\n",
       "      <th>0</th>\n",
       "      <td>IBEL40458932288368</td>\n",
       "      <td>JZNJ31233997786667</td>\n",
       "      <td>XTSD70235551631464</td>\n",
       "      <td>QCZJ93415642944735</td>\n",
       "      <td>HIWV59915947685775</td>\n",
       "      <td>Добрый день! \\r\\nБыла на экскурсии театральной...</td>\n",
       "      <td>5</td>\n",
       "      <td>2013-07-17T23:41:18.543763</td>\n",
       "      <td>NaN</td>\n",
       "      <td>NaN</td>\n",
       "      <td>...</td>\n",
       "      <td>NaN</td>\n",
       "      <td>NaN</td>\n",
       "      <td>NaN</td>\n",
       "      <td>NaN</td>\n",
       "      <td>NaN</td>\n",
       "      <td>NaN</td>\n",
       "      <td>NaN</td>\n",
       "      <td>NaN</td>\n",
       "      <td>NaN</td>\n",
       "      <td>NaN</td>\n",
       "    </tr>\n",
       "    <tr>\n",
       "      <th>1</th>\n",
       "      <td>XJQL86924315279991</td>\n",
       "      <td>TEKL19937315264994</td>\n",
       "      <td>ALAA32374933500417</td>\n",
       "      <td>PYDK23633791556319</td>\n",
       "      <td>OECD16105708913756</td>\n",
       "      <td>Спасибо за прекрасное утро, за концерт птиц, г...</td>\n",
       "      <td>5</td>\n",
       "      <td>2013-07-21T12:36:46.306813</td>\n",
       "      <td>NaN</td>\n",
       "      <td>NaN</td>\n",
       "      <td>...</td>\n",
       "      <td>NaN</td>\n",
       "      <td>NaN</td>\n",
       "      <td>NaN</td>\n",
       "      <td>NaN</td>\n",
       "      <td>NaN</td>\n",
       "      <td>NaN</td>\n",
       "      <td>NaN</td>\n",
       "      <td>NaN</td>\n",
       "      <td>NaN</td>\n",
       "      <td>NaN</td>\n",
       "    </tr>\n",
       "    <tr>\n",
       "      <th>2</th>\n",
       "      <td>WYTJ13913662608790</td>\n",
       "      <td>OEKV12781478238435</td>\n",
       "      <td>ZKBQ85134827454703</td>\n",
       "      <td>JSEA47013837468584</td>\n",
       "      <td>WPPU52645088585969</td>\n",
       "      <td>Праздновал с друзьями свой День рождения на эк...</td>\n",
       "      <td>5</td>\n",
       "      <td>2013-09-30T02:51:48.604107</td>\n",
       "      <td>NaN</td>\n",
       "      <td>NaN</td>\n",
       "      <td>...</td>\n",
       "      <td>NaN</td>\n",
       "      <td>NaN</td>\n",
       "      <td>NaN</td>\n",
       "      <td>NaN</td>\n",
       "      <td>NaN</td>\n",
       "      <td>NaN</td>\n",
       "      <td>NaN</td>\n",
       "      <td>NaN</td>\n",
       "      <td>NaN</td>\n",
       "      <td>NaN</td>\n",
       "    </tr>\n",
       "    <tr>\n",
       "      <th>3</th>\n",
       "      <td>TPSP07717133573269</td>\n",
       "      <td>LKUA46252673517795</td>\n",
       "      <td>EEXQ32746769203682</td>\n",
       "      <td>NBAK17773163036784</td>\n",
       "      <td>TIHM27708117235493</td>\n",
       "      <td>Большое спасибо за экскурсию!\\r\\nБыло очень пр...</td>\n",
       "      <td>5</td>\n",
       "      <td>2013-07-08T13:31:42.067561</td>\n",
       "      <td>NaN</td>\n",
       "      <td>NaN</td>\n",
       "      <td>...</td>\n",
       "      <td>NaN</td>\n",
       "      <td>NaN</td>\n",
       "      <td>NaN</td>\n",
       "      <td>NaN</td>\n",
       "      <td>NaN</td>\n",
       "      <td>NaN</td>\n",
       "      <td>NaN</td>\n",
       "      <td>NaN</td>\n",
       "      <td>NaN</td>\n",
       "      <td>NaN</td>\n",
       "    </tr>\n",
       "    <tr>\n",
       "      <th>4</th>\n",
       "      <td>LRHK42247441970821</td>\n",
       "      <td>ZQBY75032106253504</td>\n",
       "      <td>ALAA32374933500417</td>\n",
       "      <td>LBNV08468128156600</td>\n",
       "      <td>OECD16105708913756</td>\n",
       "      <td>Ходили на эту экскурсию в среду, оказывается, ...</td>\n",
       "      <td>5</td>\n",
       "      <td>2013-07-12T01:08:18.745987</td>\n",
       "      <td>NaN</td>\n",
       "      <td>NaN</td>\n",
       "      <td>...</td>\n",
       "      <td>NaN</td>\n",
       "      <td>NaN</td>\n",
       "      <td>NaN</td>\n",
       "      <td>NaN</td>\n",
       "      <td>NaN</td>\n",
       "      <td>NaN</td>\n",
       "      <td>NaN</td>\n",
       "      <td>NaN</td>\n",
       "      <td>NaN</td>\n",
       "      <td>NaN</td>\n",
       "    </tr>\n",
       "  </tbody>\n",
       "</table>\n",
       "<p>5 rows × 25 columns</p>\n",
       "</div>"
      ],
      "text/plain": [
       "            REVIEW_ID          TOURIST_ID             TOUR_ID  \\\n",
       "0  IBEL40458932288368  JZNJ31233997786667  XTSD70235551631464   \n",
       "1  XJQL86924315279991  TEKL19937315264994  ALAA32374933500417   \n",
       "2  WYTJ13913662608790  OEKV12781478238435  ZKBQ85134827454703   \n",
       "3  TPSP07717133573269  LKUA46252673517795  EEXQ32746769203682   \n",
       "4  LRHK42247441970821  ZQBY75032106253504  ALAA32374933500417   \n",
       "\n",
       "             order_id            GUIDE_ID  \\\n",
       "0  QCZJ93415642944735  HIWV59915947685775   \n",
       "1  PYDK23633791556319  OECD16105708913756   \n",
       "2  JSEA47013837468584  WPPU52645088585969   \n",
       "3  NBAK17773163036784  TIHM27708117235493   \n",
       "4  LBNV08468128156600  OECD16105708913756   \n",
       "\n",
       "                                             content  rating  \\\n",
       "0  Добрый день! \\r\\nБыла на экскурсии театральной...       5   \n",
       "1  Спасибо за прекрасное утро, за концерт птиц, г...       5   \n",
       "2  Праздновал с друзьями свой День рождения на эк...       5   \n",
       "3  Большое спасибо за экскурсию!\\r\\nБыло очень пр...       5   \n",
       "4  Ходили на эту экскурсию в среду, оказывается, ...       5   \n",
       "\n",
       "                   created_at organization impression  ... route comfort  \\\n",
       "0  2013-07-17T23:41:18.543763          NaN        NaN  ...   NaN     NaN   \n",
       "1  2013-07-21T12:36:46.306813          NaN        NaN  ...   NaN     NaN   \n",
       "2  2013-09-30T02:51:48.604107          NaN        NaN  ...   NaN     NaN   \n",
       "3  2013-07-08T13:31:42.067561          NaN        NaN  ...   NaN     NaN   \n",
       "4  2013-07-12T01:08:18.745987          NaN        NaN  ...   NaN     NaN   \n",
       "\n",
       "  organization_rating impression_rating profficiency_rating personal_rating  \\\n",
       "0                 NaN               NaN                 NaN             NaN   \n",
       "1                 NaN               NaN                 NaN             NaN   \n",
       "2                 NaN               NaN                 NaN             NaN   \n",
       "3                 NaN               NaN                 NaN             NaN   \n",
       "4                 NaN               NaN                 NaN             NaN   \n",
       "\n",
       "  sputnik_rating  transport_rating  route_rating  comfort_rating  \n",
       "0            NaN               NaN           NaN             NaN  \n",
       "1            NaN               NaN           NaN             NaN  \n",
       "2            NaN               NaN           NaN             NaN  \n",
       "3            NaN               NaN           NaN             NaN  \n",
       "4            NaN               NaN           NaN             NaN  \n",
       "\n",
       "[5 rows x 25 columns]"
      ]
     },
     "execution_count": 64,
     "metadata": {},
     "output_type": "execute_result"
    }
   ],
   "source": [
    "anon_df.head()"
   ]
  },
  {
   "cell_type": "code",
   "execution_count": 65,
   "id": "6653eee1",
   "metadata": {},
   "outputs": [],
   "source": [
    "# Saving anonymized dataset\n",
    "anon_df.to_csv('./anon_reviews_may24.csv', index=False)"
   ]
  },
  {
   "cell_type": "code",
   "execution_count": 66,
   "id": "79edcaa8",
   "metadata": {},
   "outputs": [],
   "source": [
    "rev_df = anon_df.copy(deep=True)\n",
    "del anon_df"
   ]
  },
  {
   "cell_type": "code",
   "execution_count": 67,
   "id": "f45cdf10",
   "metadata": {},
   "outputs": [
    {
     "data": {
      "text/html": [
       "<div>\n",
       "<style scoped>\n",
       "    .dataframe tbody tr th:only-of-type {\n",
       "        vertical-align: middle;\n",
       "    }\n",
       "\n",
       "    .dataframe tbody tr th {\n",
       "        vertical-align: top;\n",
       "    }\n",
       "\n",
       "    .dataframe thead th {\n",
       "        text-align: right;\n",
       "    }\n",
       "</style>\n",
       "<table border=\"1\" class=\"dataframe\">\n",
       "  <thead>\n",
       "    <tr style=\"text-align: right;\">\n",
       "      <th></th>\n",
       "      <th>REVIEW_ID</th>\n",
       "      <th>TOURIST_ID</th>\n",
       "      <th>TOUR_ID</th>\n",
       "      <th>order_id</th>\n",
       "      <th>GUIDE_ID</th>\n",
       "      <th>content</th>\n",
       "      <th>rating</th>\n",
       "      <th>created_at</th>\n",
       "      <th>organization</th>\n",
       "      <th>impression</th>\n",
       "      <th>...</th>\n",
       "      <th>route</th>\n",
       "      <th>comfort</th>\n",
       "      <th>organization_rating</th>\n",
       "      <th>impression_rating</th>\n",
       "      <th>profficiency_rating</th>\n",
       "      <th>personal_rating</th>\n",
       "      <th>sputnik_rating</th>\n",
       "      <th>transport_rating</th>\n",
       "      <th>route_rating</th>\n",
       "      <th>comfort_rating</th>\n",
       "    </tr>\n",
       "  </thead>\n",
       "  <tbody>\n",
       "    <tr>\n",
       "      <th>0</th>\n",
       "      <td>IBEL40458932288368</td>\n",
       "      <td>JZNJ31233997786667</td>\n",
       "      <td>XTSD70235551631464</td>\n",
       "      <td>QCZJ93415642944735</td>\n",
       "      <td>HIWV59915947685775</td>\n",
       "      <td>Добрый день! \\r\\nБыла на экскурсии театральной...</td>\n",
       "      <td>5</td>\n",
       "      <td>2013-07-17T23:41:18.543763</td>\n",
       "      <td>NaN</td>\n",
       "      <td>NaN</td>\n",
       "      <td>...</td>\n",
       "      <td>NaN</td>\n",
       "      <td>NaN</td>\n",
       "      <td>NaN</td>\n",
       "      <td>NaN</td>\n",
       "      <td>NaN</td>\n",
       "      <td>NaN</td>\n",
       "      <td>NaN</td>\n",
       "      <td>NaN</td>\n",
       "      <td>NaN</td>\n",
       "      <td>NaN</td>\n",
       "    </tr>\n",
       "    <tr>\n",
       "      <th>1</th>\n",
       "      <td>XJQL86924315279991</td>\n",
       "      <td>TEKL19937315264994</td>\n",
       "      <td>ALAA32374933500417</td>\n",
       "      <td>PYDK23633791556319</td>\n",
       "      <td>OECD16105708913756</td>\n",
       "      <td>Спасибо за прекрасное утро, за концерт птиц, г...</td>\n",
       "      <td>5</td>\n",
       "      <td>2013-07-21T12:36:46.306813</td>\n",
       "      <td>NaN</td>\n",
       "      <td>NaN</td>\n",
       "      <td>...</td>\n",
       "      <td>NaN</td>\n",
       "      <td>NaN</td>\n",
       "      <td>NaN</td>\n",
       "      <td>NaN</td>\n",
       "      <td>NaN</td>\n",
       "      <td>NaN</td>\n",
       "      <td>NaN</td>\n",
       "      <td>NaN</td>\n",
       "      <td>NaN</td>\n",
       "      <td>NaN</td>\n",
       "    </tr>\n",
       "    <tr>\n",
       "      <th>2</th>\n",
       "      <td>WYTJ13913662608790</td>\n",
       "      <td>OEKV12781478238435</td>\n",
       "      <td>ZKBQ85134827454703</td>\n",
       "      <td>JSEA47013837468584</td>\n",
       "      <td>WPPU52645088585969</td>\n",
       "      <td>Праздновал с друзьями свой День рождения на эк...</td>\n",
       "      <td>5</td>\n",
       "      <td>2013-09-30T02:51:48.604107</td>\n",
       "      <td>NaN</td>\n",
       "      <td>NaN</td>\n",
       "      <td>...</td>\n",
       "      <td>NaN</td>\n",
       "      <td>NaN</td>\n",
       "      <td>NaN</td>\n",
       "      <td>NaN</td>\n",
       "      <td>NaN</td>\n",
       "      <td>NaN</td>\n",
       "      <td>NaN</td>\n",
       "      <td>NaN</td>\n",
       "      <td>NaN</td>\n",
       "      <td>NaN</td>\n",
       "    </tr>\n",
       "    <tr>\n",
       "      <th>3</th>\n",
       "      <td>TPSP07717133573269</td>\n",
       "      <td>LKUA46252673517795</td>\n",
       "      <td>EEXQ32746769203682</td>\n",
       "      <td>NBAK17773163036784</td>\n",
       "      <td>TIHM27708117235493</td>\n",
       "      <td>Большое спасибо за экскурсию!\\r\\nБыло очень пр...</td>\n",
       "      <td>5</td>\n",
       "      <td>2013-07-08T13:31:42.067561</td>\n",
       "      <td>NaN</td>\n",
       "      <td>NaN</td>\n",
       "      <td>...</td>\n",
       "      <td>NaN</td>\n",
       "      <td>NaN</td>\n",
       "      <td>NaN</td>\n",
       "      <td>NaN</td>\n",
       "      <td>NaN</td>\n",
       "      <td>NaN</td>\n",
       "      <td>NaN</td>\n",
       "      <td>NaN</td>\n",
       "      <td>NaN</td>\n",
       "      <td>NaN</td>\n",
       "    </tr>\n",
       "    <tr>\n",
       "      <th>4</th>\n",
       "      <td>LRHK42247441970821</td>\n",
       "      <td>ZQBY75032106253504</td>\n",
       "      <td>ALAA32374933500417</td>\n",
       "      <td>LBNV08468128156600</td>\n",
       "      <td>OECD16105708913756</td>\n",
       "      <td>Ходили на эту экскурсию в среду, оказывается, ...</td>\n",
       "      <td>5</td>\n",
       "      <td>2013-07-12T01:08:18.745987</td>\n",
       "      <td>NaN</td>\n",
       "      <td>NaN</td>\n",
       "      <td>...</td>\n",
       "      <td>NaN</td>\n",
       "      <td>NaN</td>\n",
       "      <td>NaN</td>\n",
       "      <td>NaN</td>\n",
       "      <td>NaN</td>\n",
       "      <td>NaN</td>\n",
       "      <td>NaN</td>\n",
       "      <td>NaN</td>\n",
       "      <td>NaN</td>\n",
       "      <td>NaN</td>\n",
       "    </tr>\n",
       "    <tr>\n",
       "      <th>...</th>\n",
       "      <td>...</td>\n",
       "      <td>...</td>\n",
       "      <td>...</td>\n",
       "      <td>...</td>\n",
       "      <td>...</td>\n",
       "      <td>...</td>\n",
       "      <td>...</td>\n",
       "      <td>...</td>\n",
       "      <td>...</td>\n",
       "      <td>...</td>\n",
       "      <td>...</td>\n",
       "      <td>...</td>\n",
       "      <td>...</td>\n",
       "      <td>...</td>\n",
       "      <td>...</td>\n",
       "      <td>...</td>\n",
       "      <td>...</td>\n",
       "      <td>...</td>\n",
       "      <td>...</td>\n",
       "      <td>...</td>\n",
       "      <td>...</td>\n",
       "    </tr>\n",
       "    <tr>\n",
       "      <th>352381</th>\n",
       "      <td>FKXV26388956659562</td>\n",
       "      <td>AAGL87217034423386</td>\n",
       "      <td>KHPB24493364094228</td>\n",
       "      <td>RHWT74979714552895</td>\n",
       "      <td>MBJZ04194843528233</td>\n",
       "      <td>Экскурсия замечательная, экскурсовод Алина мол...</td>\n",
       "      <td>5</td>\n",
       "      <td>2024-05-30T12:11:13.954818</td>\n",
       "      <td>Хотелось бы проехать на теплоходе, а не на лодке!</td>\n",
       "      <td>NaN</td>\n",
       "      <td>...</td>\n",
       "      <td>NaN</td>\n",
       "      <td>NaN</td>\n",
       "      <td>3.0</td>\n",
       "      <td>2.0</td>\n",
       "      <td>NaN</td>\n",
       "      <td>4.0</td>\n",
       "      <td>5.0</td>\n",
       "      <td>3.0</td>\n",
       "      <td>4.0</td>\n",
       "      <td>5.0</td>\n",
       "    </tr>\n",
       "    <tr>\n",
       "      <th>352382</th>\n",
       "      <td>GWVT38388119242380</td>\n",
       "      <td>DQVZ33605195793605</td>\n",
       "      <td>GJDH76650457626154</td>\n",
       "      <td>ZBRM10882664861409</td>\n",
       "      <td>SZGR86743654486707</td>\n",
       "      <td>Все было бы отлично, если теплоход не опоздал ...</td>\n",
       "      <td>4</td>\n",
       "      <td>2024-05-30T12:20:08.807034</td>\n",
       "      <td>NaN</td>\n",
       "      <td>NaN</td>\n",
       "      <td>...</td>\n",
       "      <td>NaN</td>\n",
       "      <td>NaN</td>\n",
       "      <td>NaN</td>\n",
       "      <td>NaN</td>\n",
       "      <td>NaN</td>\n",
       "      <td>NaN</td>\n",
       "      <td>NaN</td>\n",
       "      <td>NaN</td>\n",
       "      <td>NaN</td>\n",
       "      <td>NaN</td>\n",
       "    </tr>\n",
       "    <tr>\n",
       "      <th>352383</th>\n",
       "      <td>AVIM79608887193631</td>\n",
       "      <td>FCVJ23721623370143</td>\n",
       "      <td>PTAN65059210141303</td>\n",
       "      <td>QDKV65829715765499</td>\n",
       "      <td>LQIM70606246305668</td>\n",
       "      <td>Всё хорошо и всё понравилось. Хороший, доброже...</td>\n",
       "      <td>5</td>\n",
       "      <td>2024-05-30T12:39:20.000507</td>\n",
       "      <td>NaN</td>\n",
       "      <td>NaN</td>\n",
       "      <td>...</td>\n",
       "      <td>NaN</td>\n",
       "      <td>NaN</td>\n",
       "      <td>5.0</td>\n",
       "      <td>5.0</td>\n",
       "      <td>NaN</td>\n",
       "      <td>5.0</td>\n",
       "      <td>5.0</td>\n",
       "      <td>5.0</td>\n",
       "      <td>5.0</td>\n",
       "      <td>NaN</td>\n",
       "    </tr>\n",
       "    <tr>\n",
       "      <th>352384</th>\n",
       "      <td>KQIU98217347878724</td>\n",
       "      <td>FGBR48546712677248</td>\n",
       "      <td>KZBR19828788112311</td>\n",
       "      <td>KWUT53085608178937</td>\n",
       "      <td>SKNQ18037874276274</td>\n",
       "      <td>NaN</td>\n",
       "      <td>4</td>\n",
       "      <td>2024-05-30T13:24:08.506174</td>\n",
       "      <td>NaN</td>\n",
       "      <td>NaN</td>\n",
       "      <td>...</td>\n",
       "      <td>NaN</td>\n",
       "      <td>NaN</td>\n",
       "      <td>5.0</td>\n",
       "      <td>4.0</td>\n",
       "      <td>NaN</td>\n",
       "      <td>3.0</td>\n",
       "      <td>5.0</td>\n",
       "      <td>5.0</td>\n",
       "      <td>4.0</td>\n",
       "      <td>NaN</td>\n",
       "    </tr>\n",
       "    <tr>\n",
       "      <th>352385</th>\n",
       "      <td>TLSG39549961669455</td>\n",
       "      <td>TVCP90880076888668</td>\n",
       "      <td>PYVF04536562860559</td>\n",
       "      <td>UEUN32118194529792</td>\n",
       "      <td>VZCQ31206498491037</td>\n",
       "      <td>Здравствуйте,в последний момент вспомнили про ...</td>\n",
       "      <td>5</td>\n",
       "      <td>2024-05-30T14:15:35.615508</td>\n",
       "      <td>NaN</td>\n",
       "      <td>NaN</td>\n",
       "      <td>...</td>\n",
       "      <td>NaN</td>\n",
       "      <td>NaN</td>\n",
       "      <td>NaN</td>\n",
       "      <td>NaN</td>\n",
       "      <td>NaN</td>\n",
       "      <td>NaN</td>\n",
       "      <td>NaN</td>\n",
       "      <td>NaN</td>\n",
       "      <td>NaN</td>\n",
       "      <td>NaN</td>\n",
       "    </tr>\n",
       "  </tbody>\n",
       "</table>\n",
       "<p>352386 rows × 25 columns</p>\n",
       "</div>"
      ],
      "text/plain": [
       "                 REVIEW_ID          TOURIST_ID             TOUR_ID  \\\n",
       "0       IBEL40458932288368  JZNJ31233997786667  XTSD70235551631464   \n",
       "1       XJQL86924315279991  TEKL19937315264994  ALAA32374933500417   \n",
       "2       WYTJ13913662608790  OEKV12781478238435  ZKBQ85134827454703   \n",
       "3       TPSP07717133573269  LKUA46252673517795  EEXQ32746769203682   \n",
       "4       LRHK42247441970821  ZQBY75032106253504  ALAA32374933500417   \n",
       "...                    ...                 ...                 ...   \n",
       "352381  FKXV26388956659562  AAGL87217034423386  KHPB24493364094228   \n",
       "352382  GWVT38388119242380  DQVZ33605195793605  GJDH76650457626154   \n",
       "352383  AVIM79608887193631  FCVJ23721623370143  PTAN65059210141303   \n",
       "352384  KQIU98217347878724  FGBR48546712677248  KZBR19828788112311   \n",
       "352385  TLSG39549961669455  TVCP90880076888668  PYVF04536562860559   \n",
       "\n",
       "                  order_id            GUIDE_ID  \\\n",
       "0       QCZJ93415642944735  HIWV59915947685775   \n",
       "1       PYDK23633791556319  OECD16105708913756   \n",
       "2       JSEA47013837468584  WPPU52645088585969   \n",
       "3       NBAK17773163036784  TIHM27708117235493   \n",
       "4       LBNV08468128156600  OECD16105708913756   \n",
       "...                    ...                 ...   \n",
       "352381  RHWT74979714552895  MBJZ04194843528233   \n",
       "352382  ZBRM10882664861409  SZGR86743654486707   \n",
       "352383  QDKV65829715765499  LQIM70606246305668   \n",
       "352384  KWUT53085608178937  SKNQ18037874276274   \n",
       "352385  UEUN32118194529792  VZCQ31206498491037   \n",
       "\n",
       "                                                  content  rating  \\\n",
       "0       Добрый день! \\r\\nБыла на экскурсии театральной...       5   \n",
       "1       Спасибо за прекрасное утро, за концерт птиц, г...       5   \n",
       "2       Праздновал с друзьями свой День рождения на эк...       5   \n",
       "3       Большое спасибо за экскурсию!\\r\\nБыло очень пр...       5   \n",
       "4       Ходили на эту экскурсию в среду, оказывается, ...       5   \n",
       "...                                                   ...     ...   \n",
       "352381  Экскурсия замечательная, экскурсовод Алина мол...       5   \n",
       "352382  Все было бы отлично, если теплоход не опоздал ...       4   \n",
       "352383  Всё хорошо и всё понравилось. Хороший, доброже...       5   \n",
       "352384                                                NaN       4   \n",
       "352385  Здравствуйте,в последний момент вспомнили про ...       5   \n",
       "\n",
       "                        created_at  \\\n",
       "0       2013-07-17T23:41:18.543763   \n",
       "1       2013-07-21T12:36:46.306813   \n",
       "2       2013-09-30T02:51:48.604107   \n",
       "3       2013-07-08T13:31:42.067561   \n",
       "4       2013-07-12T01:08:18.745987   \n",
       "...                            ...   \n",
       "352381  2024-05-30T12:11:13.954818   \n",
       "352382  2024-05-30T12:20:08.807034   \n",
       "352383  2024-05-30T12:39:20.000507   \n",
       "352384  2024-05-30T13:24:08.506174   \n",
       "352385  2024-05-30T14:15:35.615508   \n",
       "\n",
       "                                             organization impression  ...  \\\n",
       "0                                                     NaN        NaN  ...   \n",
       "1                                                     NaN        NaN  ...   \n",
       "2                                                     NaN        NaN  ...   \n",
       "3                                                     NaN        NaN  ...   \n",
       "4                                                     NaN        NaN  ...   \n",
       "...                                                   ...        ...  ...   \n",
       "352381  Хотелось бы проехать на теплоходе, а не на лодке!        NaN  ...   \n",
       "352382                                                NaN        NaN  ...   \n",
       "352383                                                NaN        NaN  ...   \n",
       "352384                                                NaN        NaN  ...   \n",
       "352385                                                NaN        NaN  ...   \n",
       "\n",
       "       route comfort organization_rating impression_rating  \\\n",
       "0        NaN     NaN                 NaN               NaN   \n",
       "1        NaN     NaN                 NaN               NaN   \n",
       "2        NaN     NaN                 NaN               NaN   \n",
       "3        NaN     NaN                 NaN               NaN   \n",
       "4        NaN     NaN                 NaN               NaN   \n",
       "...      ...     ...                 ...               ...   \n",
       "352381   NaN     NaN                 3.0               2.0   \n",
       "352382   NaN     NaN                 NaN               NaN   \n",
       "352383   NaN     NaN                 5.0               5.0   \n",
       "352384   NaN     NaN                 5.0               4.0   \n",
       "352385   NaN     NaN                 NaN               NaN   \n",
       "\n",
       "       profficiency_rating personal_rating sputnik_rating  transport_rating  \\\n",
       "0                      NaN             NaN            NaN               NaN   \n",
       "1                      NaN             NaN            NaN               NaN   \n",
       "2                      NaN             NaN            NaN               NaN   \n",
       "3                      NaN             NaN            NaN               NaN   \n",
       "4                      NaN             NaN            NaN               NaN   \n",
       "...                    ...             ...            ...               ...   \n",
       "352381                 NaN             4.0            5.0               3.0   \n",
       "352382                 NaN             NaN            NaN               NaN   \n",
       "352383                 NaN             5.0            5.0               5.0   \n",
       "352384                 NaN             3.0            5.0               5.0   \n",
       "352385                 NaN             NaN            NaN               NaN   \n",
       "\n",
       "        route_rating  comfort_rating  \n",
       "0                NaN             NaN  \n",
       "1                NaN             NaN  \n",
       "2                NaN             NaN  \n",
       "3                NaN             NaN  \n",
       "4                NaN             NaN  \n",
       "...              ...             ...  \n",
       "352381           4.0             5.0  \n",
       "352382           NaN             NaN  \n",
       "352383           5.0             NaN  \n",
       "352384           4.0             NaN  \n",
       "352385           NaN             NaN  \n",
       "\n",
       "[352386 rows x 25 columns]"
      ]
     },
     "execution_count": 67,
     "metadata": {},
     "output_type": "execute_result"
    }
   ],
   "source": [
    "rev_df"
   ]
  },
  {
   "cell_type": "markdown",
   "id": "4446158f",
   "metadata": {},
   "source": [
    "### Melting"
   ]
  },
  {
   "cell_type": "code",
   "execution_count": 68,
   "id": "46b827cf",
   "metadata": {},
   "outputs": [
    {
     "data": {
      "text/plain": [
       "content         264913\n",
       "organization     43321\n",
       "impression       17865\n",
       "profficiency     11479\n",
       "personal         16588\n",
       "sputnik           1490\n",
       "transport         3704\n",
       "route             3029\n",
       "comfort            282\n",
       "dtype: int64"
      ]
     },
     "execution_count": 68,
     "metadata": {},
     "output_type": "execute_result"
    }
   ],
   "source": [
    "# First we will see how many detail fields are empty\n",
    "rev_df[['content', 'organization', 'impression', 'profficiency', 'personal', 'sputnik', 'transport', 'route', 'comfort']].notna().sum()"
   ]
  },
  {
   "cell_type": "code",
   "execution_count": 69,
   "id": "e0fcb9d7",
   "metadata": {},
   "outputs": [
    {
     "data": {
      "text/plain": [
       "362671"
      ]
     },
     "execution_count": 69,
     "metadata": {},
     "output_type": "execute_result"
    }
   ],
   "source": [
    "rev_df[['content', 'organization', 'impression', 'profficiency', 'personal', 'sputnik', 'transport', 'route', 'comfort']].notna().sum().sum()"
   ]
  },
  {
   "cell_type": "code",
   "execution_count": 70,
   "id": "3057f4fe",
   "metadata": {},
   "outputs": [
    {
     "name": "stdout",
     "output_type": "stream",
     "text": [
      "CPU times: user 327 ms, sys: 44.9 ms, total: 372 ms\n",
      "Wall time: 396 ms\n"
     ]
    }
   ],
   "source": [
    "%%time\n",
    "\n",
    "# Next we will create a separate melted dataframe for detail review content (=text)\n",
    "cont = pd.melt(rev_df[rev_df[['organization', 'impression', 'profficiency', 'personal', 'sputnik', 'transport', 'route', 'comfort']]\n",
    "        .notna().sum(axis=1).astype(bool)][['REVIEW_ID', 'TOUR_ID', 'TOURIST_ID', 'GUIDE_ID', 'organization', 'impression', \n",
    "                               'profficiency', 'personal', 'sputnik', 'transport', 'route', 'comfort']], id_vars=['REVIEW_ID', 'TOUR_ID', 'TOURIST_ID', 'GUIDE_ID'], value_vars=['organization', 'impression', \n",
    "                               'profficiency', 'personal', 'sputnik', 'transport', 'route', 'comfort'], var_name='REVIEW_DETAIL', value_name='DETAIL_CONTENT')"
   ]
  },
  {
   "cell_type": "code",
   "execution_count": 71,
   "id": "d063e217",
   "metadata": {},
   "outputs": [
    {
     "name": "stdout",
     "output_type": "stream",
     "text": [
      "CPU times: user 507 ms, sys: 159 ms, total: 666 ms\n",
      "Wall time: 735 ms\n"
     ]
    }
   ],
   "source": [
    "%%time\n",
    "\n",
    "# And for review rating (numeric)\n",
    "rat = pd.melt(rev_df[rev_df[['organization_rating', 'impression_rating', 'profficiency_rating', 'personal_rating', 'sputnik_rating', 'transport_rating', 'route_rating', 'comfort_rating']]\n",
    "        .notna().sum(axis=1).astype(bool)][['REVIEW_ID', 'TOUR_ID', 'TOURIST_ID', 'GUIDE_ID', 'organization_rating', 'impression_rating', \n",
    "                               'profficiency_rating', 'personal_rating', 'sputnik_rating', 'transport_rating', 'route_rating', 'comfort_rating']], id_vars=['REVIEW_ID', 'TOUR_ID', 'TOURIST_ID', 'GUIDE_ID'], value_vars=['organization_rating', 'impression_rating', \n",
    "                               'profficiency_rating', 'personal_rating', 'sputnik_rating', 'transport_rating', 'route_rating', 'comfort_rating'], var_name='REVIEW_DETAIL', value_name='DETAIL_RATING')"
   ]
  },
  {
   "cell_type": "code",
   "execution_count": 72,
   "id": "b864dba6",
   "metadata": {},
   "outputs": [],
   "source": [
    "rat.REVIEW_DETAIL = rat.REVIEW_DETAIL.str.replace('_rating', '')\n",
    "rat = rat[rat.DETAIL_RATING.notna()]"
   ]
  },
  {
   "cell_type": "code",
   "execution_count": 73,
   "id": "c618b513",
   "metadata": {},
   "outputs": [],
   "source": [
    "cont = cont[cont.DETAIL_CONTENT.notna()]"
   ]
  },
  {
   "cell_type": "code",
   "execution_count": 74,
   "id": "afb9ca36",
   "metadata": {},
   "outputs": [],
   "source": [
    "cont = cont.merge(rat[['REVIEW_ID', 'REVIEW_DETAIL', 'DETAIL_RATING']], how='left', on=['REVIEW_ID', 'REVIEW_DETAIL'])\n"
   ]
  },
  {
   "cell_type": "code",
   "execution_count": 76,
   "id": "2a4ff3f7",
   "metadata": {},
   "outputs": [
    {
     "data": {
      "text/html": [
       "<div>\n",
       "<style scoped>\n",
       "    .dataframe tbody tr th:only-of-type {\n",
       "        vertical-align: middle;\n",
       "    }\n",
       "\n",
       "    .dataframe tbody tr th {\n",
       "        vertical-align: top;\n",
       "    }\n",
       "\n",
       "    .dataframe thead th {\n",
       "        text-align: right;\n",
       "    }\n",
       "</style>\n",
       "<table border=\"1\" class=\"dataframe\">\n",
       "  <thead>\n",
       "    <tr style=\"text-align: right;\">\n",
       "      <th></th>\n",
       "      <th>REVIEW_ID</th>\n",
       "      <th>TOUR_ID</th>\n",
       "      <th>TOURIST_ID</th>\n",
       "      <th>GUIDE_ID</th>\n",
       "      <th>REVIEW_DETAIL</th>\n",
       "      <th>DETAIL_CONTENT</th>\n",
       "      <th>DETAIL_RATING</th>\n",
       "    </tr>\n",
       "  </thead>\n",
       "  <tbody>\n",
       "    <tr>\n",
       "      <th>0</th>\n",
       "      <td>IBEL40458932288368</td>\n",
       "      <td>XTSD70235551631464</td>\n",
       "      <td>JZNJ31233997786667</td>\n",
       "      <td>HIWV59915947685775</td>\n",
       "      <td>overall</td>\n",
       "      <td>Добрый день! \\r\\nБыла на экскурсии театральной...</td>\n",
       "      <td>5.0</td>\n",
       "    </tr>\n",
       "    <tr>\n",
       "      <th>1</th>\n",
       "      <td>XJQL86924315279991</td>\n",
       "      <td>ALAA32374933500417</td>\n",
       "      <td>TEKL19937315264994</td>\n",
       "      <td>OECD16105708913756</td>\n",
       "      <td>overall</td>\n",
       "      <td>Спасибо за прекрасное утро, за концерт птиц, г...</td>\n",
       "      <td>5.0</td>\n",
       "    </tr>\n",
       "    <tr>\n",
       "      <th>2</th>\n",
       "      <td>WYTJ13913662608790</td>\n",
       "      <td>ZKBQ85134827454703</td>\n",
       "      <td>OEKV12781478238435</td>\n",
       "      <td>WPPU52645088585969</td>\n",
       "      <td>overall</td>\n",
       "      <td>Праздновал с друзьями свой День рождения на эк...</td>\n",
       "      <td>5.0</td>\n",
       "    </tr>\n",
       "    <tr>\n",
       "      <th>3</th>\n",
       "      <td>TPSP07717133573269</td>\n",
       "      <td>EEXQ32746769203682</td>\n",
       "      <td>LKUA46252673517795</td>\n",
       "      <td>TIHM27708117235493</td>\n",
       "      <td>overall</td>\n",
       "      <td>Большое спасибо за экскурсию!\\r\\nБыло очень пр...</td>\n",
       "      <td>5.0</td>\n",
       "    </tr>\n",
       "    <tr>\n",
       "      <th>4</th>\n",
       "      <td>LRHK42247441970821</td>\n",
       "      <td>ALAA32374933500417</td>\n",
       "      <td>ZQBY75032106253504</td>\n",
       "      <td>OECD16105708913756</td>\n",
       "      <td>overall</td>\n",
       "      <td>Ходили на эту экскурсию в среду, оказывается, ...</td>\n",
       "      <td>5.0</td>\n",
       "    </tr>\n",
       "  </tbody>\n",
       "</table>\n",
       "</div>"
      ],
      "text/plain": [
       "            REVIEW_ID             TOUR_ID          TOURIST_ID  \\\n",
       "0  IBEL40458932288368  XTSD70235551631464  JZNJ31233997786667   \n",
       "1  XJQL86924315279991  ALAA32374933500417  TEKL19937315264994   \n",
       "2  WYTJ13913662608790  ZKBQ85134827454703  OEKV12781478238435   \n",
       "3  TPSP07717133573269  EEXQ32746769203682  LKUA46252673517795   \n",
       "4  LRHK42247441970821  ALAA32374933500417  ZQBY75032106253504   \n",
       "\n",
       "             GUIDE_ID REVIEW_DETAIL  \\\n",
       "0  HIWV59915947685775       overall   \n",
       "1  OECD16105708913756       overall   \n",
       "2  WPPU52645088585969       overall   \n",
       "3  TIHM27708117235493       overall   \n",
       "4  OECD16105708913756       overall   \n",
       "\n",
       "                                      DETAIL_CONTENT  DETAIL_RATING  \n",
       "0  Добрый день! \\r\\nБыла на экскурсии театральной...            5.0  \n",
       "1  Спасибо за прекрасное утро, за концерт птиц, г...            5.0  \n",
       "2  Праздновал с друзьями свой День рождения на эк...            5.0  \n",
       "3  Большое спасибо за экскурсию!\\r\\nБыло очень пр...            5.0  \n",
       "4  Ходили на эту экскурсию в среду, оказывается, ...            5.0  "
      ]
     },
     "execution_count": 76,
     "metadata": {},
     "output_type": "execute_result"
    }
   ],
   "source": [
    "overall = rev_df[rev_df[['organization', 'impression', 'profficiency', 'personal', 'sputnik', 'transport', 'route', 'comfort']]\n",
    "        .isna().sum(axis=1).astype(bool)]\n",
    "overall['REVIEW_DETAIL'] = 'overall'\n",
    "overall = overall[['REVIEW_ID', 'TOUR_ID', 'TOURIST_ID', 'GUIDE_ID', 'REVIEW_DETAIL', 'content', 'rating']]\n",
    "overall.columns = ['REVIEW_ID', 'TOUR_ID', 'TOURIST_ID', 'GUIDE_ID', 'REVIEW_DETAIL', 'DETAIL_CONTENT', 'DETAIL_RATING']\n",
    "\n",
    "overall.DETAIL_RATING = overall.DETAIL_RATING.astype(float)\n",
    "overall = overall[overall.DETAIL_CONTENT.notna()].reset_index(drop=True)\n",
    "overall.head()"
   ]
  },
  {
   "cell_type": "code",
   "execution_count": 77,
   "id": "13150a95",
   "metadata": {},
   "outputs": [],
   "source": [
    "total_df = pd.concat([overall, cont], axis=0, ignore_index=True)\n"
   ]
  },
  {
   "cell_type": "code",
   "execution_count": 78,
   "id": "507c77be",
   "metadata": {},
   "outputs": [
    {
     "data": {
      "text/plain": [
       "0"
      ]
     },
     "execution_count": 78,
     "metadata": {},
     "output_type": "execute_result"
    }
   ],
   "source": [
    "total_df.DETAIL_CONTENT.isna().sum()"
   ]
  },
  {
   "cell_type": "code",
   "execution_count": 79,
   "id": "e6f99877",
   "metadata": {},
   "outputs": [],
   "source": [
    "total_df.to_csv('./melted_anon_may24.csv', index=False)\n"
   ]
  },
  {
   "cell_type": "code",
   "execution_count": 80,
   "id": "a9d064d9",
   "metadata": {},
   "outputs": [],
   "source": [
    "del cont\n",
    "del overall\n",
    "del rat\n",
    "del rev_df\n",
    "del anon"
   ]
  },
  {
   "cell_type": "markdown",
   "id": "e9b253f0",
   "metadata": {},
   "source": [
    "## Text Processing"
   ]
  },
  {
   "cell_type": "markdown",
   "id": "0fbff4b9",
   "metadata": {},
   "source": [
    "### Checking whether language is Russian (consists of cyrillic)"
   ]
  },
  {
   "cell_type": "code",
   "execution_count": 106,
   "id": "cb214220",
   "metadata": {},
   "outputs": [],
   "source": [
    "# Function for identifying cyrrilic texts\n",
    "\n",
    "def is_cyr(text):\n",
    "    '''\n",
    "    Function for identifying cyrrilic texts\n",
    "    Considers the sentence predominantly Russian if more than half of the characters \n",
    "    are from cyrillic alphabet. Additionaly may function as assistance in eliminating \"junk strings\" \n",
    "    (ones consisting mostly of emojis, special characters, numbers).\n",
    "    Takes text as input\n",
    "    Outputs a boolean: True if cyrillic and False if not\n",
    "    '''\n",
    "    res = 0\n",
    "    for t in text:\n",
    "        if t.lower() in \"йцукенгшщзхъфывапролджэячсмитьбю \":\n",
    "            res += 1\n",
    "    return res / len(text) > .5"
   ]
  },
  {
   "cell_type": "code",
   "execution_count": 107,
   "id": "90c02c35",
   "metadata": {},
   "outputs": [
    {
     "data": {
      "text/plain": [
       "True"
      ]
     },
     "execution_count": 107,
     "metadata": {},
     "output_type": "execute_result"
    }
   ],
   "source": [
    "is_cyr(\"несколько слов\")"
   ]
  },
  {
   "cell_type": "code",
   "execution_count": 108,
   "id": "b72762ca",
   "metadata": {},
   "outputs": [
    {
     "data": {
      "text/plain": [
       "False"
      ]
     },
     "execution_count": 108,
     "metadata": {},
     "output_type": "execute_result"
    }
   ],
   "source": [
    "is_cyr(\"english words\")"
   ]
  },
  {
   "cell_type": "code",
   "execution_count": 109,
   "id": "de57d3f1",
   "metadata": {},
   "outputs": [
    {
     "data": {
      "text/plain": [
       "True"
      ]
     },
     "execution_count": 109,
     "metadata": {},
     "output_type": "execute_result"
    }
   ],
   "source": [
    "is_cyr(\"предложение преимущественно на русском, но иногда на english\")"
   ]
  },
  {
   "cell_type": "code",
   "execution_count": 110,
   "id": "65296f45",
   "metadata": {},
   "outputs": [
    {
     "data": {
      "text/plain": [
       "False"
      ]
     },
     "execution_count": 110,
     "metadata": {},
     "output_type": "execute_result"
    }
   ],
   "source": [
    "is_cyr(\"sentence predominantly in english but sometimes на русском\")"
   ]
  },
  {
   "cell_type": "markdown",
   "id": "2008d57e",
   "metadata": {},
   "source": [
    "### Sentence Splitting"
   ]
  },
  {
   "cell_type": "code",
   "execution_count": 124,
   "id": "7d23e263",
   "metadata": {},
   "outputs": [],
   "source": [
    "# Function for breaking down text by segments (sentences) by punctuation characters\n",
    "\n",
    "def sentence_splitting(text):\n",
    "    '''\n",
    "    Function for breaking down text by segments (sentences) by punctuation characters\n",
    "    Takes text as input\n",
    "    Outputs a list of sentences - list of strings\n",
    "    '''\n",
    "    split = [text]\n",
    "    seps = ['. ', '?', '!', '))', ':)', ':(', '\\n', '\\r']\n",
    "    if pd.notna(text):\n",
    "        for s in seps:\n",
    "                if s in text:\n",
    "                    if len(split)>1:\n",
    "                        split = [k for e in split for k in e.split(s)]\n",
    "                    else:\n",
    "                        split = text.split(s)\n",
    "                        \n",
    "    for i in range(len(split)-1,-1,-1):\n",
    "        for char in [' ']+seps:\n",
    "            split[i] = split[i].strip(char)\n",
    "\n",
    "        ##returning spaces at punctuation\n",
    "        split[i] = ', '.join([e.strip(' ') for e in split[i].split(',')])\n",
    "\n",
    "        ##getting rid of excess strings\n",
    "        if (split[i] in [''] + seps) or len(split[i])<4:\n",
    "            del split[i]\n",
    "\n",
    "\n",
    "    return split"
   ]
  },
  {
   "cell_type": "code",
   "execution_count": 125,
   "id": "6d8b05d9",
   "metadata": {},
   "outputs": [
    {
     "data": {
      "text/plain": [
       "['Начинаю с одного предложения',\n",
       " 'Продолжаю с вопроса',\n",
       " 'Очень хороший опыт',\n",
       " 'нужно повторить']"
      ]
     },
     "execution_count": 125,
     "metadata": {},
     "output_type": "execute_result"
    }
   ],
   "source": [
    "s = \"Начинаю с одного предложения. Продолжаю с вопроса? Очень хороший опыт :)\\n нужно повторить!\"\n",
    "\n",
    "sentence_splitting(s)"
   ]
  },
  {
   "cell_type": "markdown",
   "id": "a7636d74",
   "metadata": {},
   "source": [
    "### Getting rid of junk characters"
   ]
  },
  {
   "cell_type": "code",
   "execution_count": 289,
   "id": "0d59fe07",
   "metadata": {},
   "outputs": [],
   "source": [
    "# Function for clearing junk characters\n",
    "\n",
    "allowed_chars = set('йцукенгшщзхъфывапролджэячсмитьбюё qwertyuiopasdfghjklzxcvbnm !?.,:;-+\"\"%$/ 1234567890')\n",
    "\n",
    "def clearing_junk(text):\n",
    "    '''\n",
    "    Function for clearing junk characters\n",
    "    Takes text as input\n",
    "    Returns \"cleaned\" text as output\n",
    "    '''\n",
    "    all_chars = set(text.lower())\n",
    "\n",
    "    to_exclude = all_chars - allowed_chars\n",
    "\n",
    "    if to_exclude:\n",
    "        for char in to_exclude:\n",
    "            text = text.replace(char, ' ')\n",
    "            text = text.replace(char.upper(), ' ')\n",
    "            \n",
    "    ## getting rid of repeating spaces\n",
    "    if '  ' in text:\n",
    "        while '  ' in text:\n",
    "            text = text.replace('  ', ' ')\n",
    "    text = text.strip(' ')\n",
    "    return text"
   ]
  },
  {
   "cell_type": "code",
   "execution_count": 290,
   "id": "1523578a",
   "metadata": {},
   "outputs": [
    {
     "data": {
      "text/plain": [
       "'Текст и ещё немного текста'"
      ]
     },
     "execution_count": 290,
     "metadata": {},
     "output_type": "execute_result"
    }
   ],
   "source": [
    "clearing_junk('Текст и ~ещё   немного [[ текста ñ')"
   ]
  },
  {
   "cell_type": "markdown",
   "id": "1a2b41d2",
   "metadata": {},
   "source": [
    "### Excluding non-cyrillic strings"
   ]
  },
  {
   "cell_type": "code",
   "execution_count": 111,
   "id": "c401e1d5",
   "metadata": {},
   "outputs": [
    {
     "data": {
      "text/html": [
       "<div>\n",
       "<style scoped>\n",
       "    .dataframe tbody tr th:only-of-type {\n",
       "        vertical-align: middle;\n",
       "    }\n",
       "\n",
       "    .dataframe tbody tr th {\n",
       "        vertical-align: top;\n",
       "    }\n",
       "\n",
       "    .dataframe thead th {\n",
       "        text-align: right;\n",
       "    }\n",
       "</style>\n",
       "<table border=\"1\" class=\"dataframe\">\n",
       "  <thead>\n",
       "    <tr style=\"text-align: right;\">\n",
       "      <th></th>\n",
       "      <th>REVIEW_ID</th>\n",
       "      <th>TOUR_ID</th>\n",
       "      <th>TOURIST_ID</th>\n",
       "      <th>GUIDE_ID</th>\n",
       "      <th>REVIEW_DETAIL</th>\n",
       "      <th>DETAIL_CONTENT</th>\n",
       "      <th>DETAIL_RATING</th>\n",
       "    </tr>\n",
       "  </thead>\n",
       "  <tbody>\n",
       "    <tr>\n",
       "      <th>110</th>\n",
       "      <td>WBOC46753983674862</td>\n",
       "      <td>SCGC60610895143433</td>\n",
       "      <td>EKVD65774042052460</td>\n",
       "      <td>OTKT87640938608418</td>\n",
       "      <td>overall</td>\n",
       "      <td>Oleksandr is super friendly and very knowledga...</td>\n",
       "      <td>5.0</td>\n",
       "    </tr>\n",
       "    <tr>\n",
       "      <th>676</th>\n",
       "      <td>NGES89503425374048</td>\n",
       "      <td>ILST81064865093405</td>\n",
       "      <td>VJSN47663675817340</td>\n",
       "      <td>YRPK57893442967984</td>\n",
       "      <td>overall</td>\n",
       "      <td>Вот наш отзыв https://www.facebook.com/npmag....</td>\n",
       "      <td>5.0</td>\n",
       "    </tr>\n",
       "    <tr>\n",
       "      <th>937</th>\n",
       "      <td>OQUU75922476965384</td>\n",
       "      <td>DGBI20450407079741</td>\n",
       "      <td>STXX06583039873303</td>\n",
       "      <td>NHRT32019047092471</td>\n",
       "      <td>overall</td>\n",
       "      <td>\\r\\n</td>\n",
       "      <td>4.0</td>\n",
       "    </tr>\n",
       "    <tr>\n",
       "      <th>2183</th>\n",
       "      <td>SQYU98818501189963</td>\n",
       "      <td>VJES49795970255080</td>\n",
       "      <td>QSOB80968246483997</td>\n",
       "      <td>PKAR25673530689200</td>\n",
       "      <td>overall</td>\n",
       "      <td>Consider myself very lucky that my first visit...</td>\n",
       "      <td>5.0</td>\n",
       "    </tr>\n",
       "    <tr>\n",
       "      <th>6691</th>\n",
       "      <td>HAHZ26177634732820</td>\n",
       "      <td>JBVV99778876822983</td>\n",
       "      <td>NJRI96092204726887</td>\n",
       "      <td>FFOH15921953244519</td>\n",
       "      <td>overall</td>\n",
       "      <td>\\r\\n</td>\n",
       "      <td>5.0</td>\n",
       "    </tr>\n",
       "    <tr>\n",
       "      <th>...</th>\n",
       "      <td>...</td>\n",
       "      <td>...</td>\n",
       "      <td>...</td>\n",
       "      <td>...</td>\n",
       "      <td>...</td>\n",
       "      <td>...</td>\n",
       "      <td>...</td>\n",
       "    </tr>\n",
       "    <tr>\n",
       "      <th>362356</th>\n",
       "      <td>TVYQ63998388771657</td>\n",
       "      <td>UUFF23535912070025</td>\n",
       "      <td>LEWS95782905256768</td>\n",
       "      <td>PXDY74260453404101</td>\n",
       "      <td>route</td>\n",
       "      <td>-</td>\n",
       "      <td>1.0</td>\n",
       "    </tr>\n",
       "    <tr>\n",
       "      <th>362396</th>\n",
       "      <td>FOGG70570611114934</td>\n",
       "      <td>WVDB88564562915814</td>\n",
       "      <td>NXQS19950363251872</td>\n",
       "      <td>SZGR86743654486707</td>\n",
       "      <td>comfort</td>\n",
       "      <td>!!!!!!</td>\n",
       "      <td>1.0</td>\n",
       "    </tr>\n",
       "    <tr>\n",
       "      <th>362472</th>\n",
       "      <td>PUDM17778256569074</td>\n",
       "      <td>PPBU44506827752626</td>\n",
       "      <td>KEWN77496105715539</td>\n",
       "      <td>SZGR86743654486707</td>\n",
       "      <td>comfort</td>\n",
       "      <td>.</td>\n",
       "      <td>1.0</td>\n",
       "    </tr>\n",
       "    <tr>\n",
       "      <th>362503</th>\n",
       "      <td>CLBI02915035580129</td>\n",
       "      <td>MEJG33793236493142</td>\n",
       "      <td>IHBC64571652852260</td>\n",
       "      <td>JIOF10886671356350</td>\n",
       "      <td>comfort</td>\n",
       "      <td>-</td>\n",
       "      <td>1.0</td>\n",
       "    </tr>\n",
       "    <tr>\n",
       "      <th>362555</th>\n",
       "      <td>PHYZ35156295300423</td>\n",
       "      <td>JDHJ64636307424589</td>\n",
       "      <td>XIYP90964549243184</td>\n",
       "      <td>MRIQ95206669825161</td>\n",
       "      <td>comfort</td>\n",
       "      <td>-</td>\n",
       "      <td>1.0</td>\n",
       "    </tr>\n",
       "  </tbody>\n",
       "</table>\n",
       "<p>1022 rows × 7 columns</p>\n",
       "</div>"
      ],
      "text/plain": [
       "                 REVIEW_ID             TOUR_ID          TOURIST_ID  \\\n",
       "110     WBOC46753983674862  SCGC60610895143433  EKVD65774042052460   \n",
       "676     NGES89503425374048  ILST81064865093405  VJSN47663675817340   \n",
       "937     OQUU75922476965384  DGBI20450407079741  STXX06583039873303   \n",
       "2183    SQYU98818501189963  VJES49795970255080  QSOB80968246483997   \n",
       "6691    HAHZ26177634732820  JBVV99778876822983  NJRI96092204726887   \n",
       "...                    ...                 ...                 ...   \n",
       "362356  TVYQ63998388771657  UUFF23535912070025  LEWS95782905256768   \n",
       "362396  FOGG70570611114934  WVDB88564562915814  NXQS19950363251872   \n",
       "362472  PUDM17778256569074  PPBU44506827752626  KEWN77496105715539   \n",
       "362503  CLBI02915035580129  MEJG33793236493142  IHBC64571652852260   \n",
       "362555  PHYZ35156295300423  JDHJ64636307424589  XIYP90964549243184   \n",
       "\n",
       "                  GUIDE_ID REVIEW_DETAIL  \\\n",
       "110     OTKT87640938608418       overall   \n",
       "676     YRPK57893442967984       overall   \n",
       "937     NHRT32019047092471       overall   \n",
       "2183    PKAR25673530689200       overall   \n",
       "6691    FFOH15921953244519       overall   \n",
       "...                    ...           ...   \n",
       "362356  PXDY74260453404101         route   \n",
       "362396  SZGR86743654486707       comfort   \n",
       "362472  SZGR86743654486707       comfort   \n",
       "362503  JIOF10886671356350       comfort   \n",
       "362555  MRIQ95206669825161       comfort   \n",
       "\n",
       "                                           DETAIL_CONTENT  DETAIL_RATING  \n",
       "110     Oleksandr is super friendly and very knowledga...            5.0  \n",
       "676      Вот наш отзыв https://www.facebook.com/npmag....            5.0  \n",
       "937                                                  \\r\\n            4.0  \n",
       "2183    Consider myself very lucky that my first visit...            5.0  \n",
       "6691                                                 \\r\\n            5.0  \n",
       "...                                                   ...            ...  \n",
       "362356                                                  -            1.0  \n",
       "362396                                             !!!!!!            1.0  \n",
       "362472                                                  .            1.0  \n",
       "362503                                                  -            1.0  \n",
       "362555                                                  -            1.0  \n",
       "\n",
       "[1022 rows x 7 columns]"
      ]
     },
     "execution_count": 111,
     "metadata": {},
     "output_type": "execute_result"
    }
   ],
   "source": [
    "total_df[total_df.DETAIL_CONTENT.apply(is_cyr)==False]"
   ]
  },
  {
   "cell_type": "code",
   "execution_count": 112,
   "id": "37196ff3",
   "metadata": {},
   "outputs": [],
   "source": [
    "total_df = total_df[total_df.DETAIL_CONTENT.apply(is_cyr)==True].reset_index(drop=True)"
   ]
  },
  {
   "cell_type": "markdown",
   "id": "f184feda",
   "metadata": {},
   "source": [
    "## Preparing datasets for classifiers"
   ]
  },
  {
   "cell_type": "markdown",
   "id": "1aed3349",
   "metadata": {},
   "source": [
    "### For Repurchase Classifier"
   ]
  },
  {
   "cell_type": "code",
   "execution_count": 115,
   "id": "d6d59592",
   "metadata": {},
   "outputs": [],
   "source": [
    "repurchase_df = total_df[['REVIEW_ID', 'DETAIL_CONTENT']].copy(deep=True)"
   ]
  },
  {
   "cell_type": "code",
   "execution_count": 291,
   "id": "df662ea3",
   "metadata": {},
   "outputs": [
    {
     "name": "stdout",
     "output_type": "stream",
     "text": [
      "CPU times: user 10.6 s, sys: 533 ms, total: 11.1 s\n",
      "Wall time: 14.1 s\n"
     ]
    }
   ],
   "source": [
    "%%time\n",
    "repurchase_df['review_text'] = repurchase_df.DETAIL_CONTENT.apply(clearing_junk)"
   ]
  },
  {
   "cell_type": "code",
   "execution_count": 293,
   "id": "53e0afbc",
   "metadata": {},
   "outputs": [
    {
     "data": {
      "text/html": [
       "<div>\n",
       "<style scoped>\n",
       "    .dataframe tbody tr th:only-of-type {\n",
       "        vertical-align: middle;\n",
       "    }\n",
       "\n",
       "    .dataframe tbody tr th {\n",
       "        vertical-align: top;\n",
       "    }\n",
       "\n",
       "    .dataframe thead th {\n",
       "        text-align: right;\n",
       "    }\n",
       "</style>\n",
       "<table border=\"1\" class=\"dataframe\">\n",
       "  <thead>\n",
       "    <tr style=\"text-align: right;\">\n",
       "      <th></th>\n",
       "      <th>REVIEW_ID</th>\n",
       "      <th>DETAIL_CONTENT</th>\n",
       "      <th>review_text</th>\n",
       "    </tr>\n",
       "  </thead>\n",
       "  <tbody>\n",
       "    <tr>\n",
       "      <th>0</th>\n",
       "      <td>IBEL40458932288368</td>\n",
       "      <td>Добрый день! \\r\\nБыла на экскурсии театральной...</td>\n",
       "      <td>Добрый день! Была на экскурсии театральной, оч...</td>\n",
       "    </tr>\n",
       "    <tr>\n",
       "      <th>1</th>\n",
       "      <td>XJQL86924315279991</td>\n",
       "      <td>Спасибо за прекрасное утро, за концерт птиц, г...</td>\n",
       "      <td>Спасибо за прекрасное утро, за концерт птиц, г...</td>\n",
       "    </tr>\n",
       "    <tr>\n",
       "      <th>2</th>\n",
       "      <td>WYTJ13913662608790</td>\n",
       "      <td>Праздновал с друзьями свой День рождения на эк...</td>\n",
       "      <td>Праздновал с друзьями свой День рождения на эк...</td>\n",
       "    </tr>\n",
       "    <tr>\n",
       "      <th>3</th>\n",
       "      <td>TPSP07717133573269</td>\n",
       "      <td>Большое спасибо за экскурсию!\\r\\nБыло очень пр...</td>\n",
       "      <td>Большое спасибо за экскурсию! Было очень профе...</td>\n",
       "    </tr>\n",
       "    <tr>\n",
       "      <th>4</th>\n",
       "      <td>LRHK42247441970821</td>\n",
       "      <td>Ходили на эту экскурсию в среду, оказывается, ...</td>\n",
       "      <td>Ходили на эту экскурсию в среду, оказывается, ...</td>\n",
       "    </tr>\n",
       "  </tbody>\n",
       "</table>\n",
       "</div>"
      ],
      "text/plain": [
       "            REVIEW_ID                                     DETAIL_CONTENT  \\\n",
       "0  IBEL40458932288368  Добрый день! \\r\\nБыла на экскурсии театральной...   \n",
       "1  XJQL86924315279991  Спасибо за прекрасное утро, за концерт птиц, г...   \n",
       "2  WYTJ13913662608790  Праздновал с друзьями свой День рождения на эк...   \n",
       "3  TPSP07717133573269  Большое спасибо за экскурсию!\\r\\nБыло очень пр...   \n",
       "4  LRHK42247441970821  Ходили на эту экскурсию в среду, оказывается, ...   \n",
       "\n",
       "                                         review_text  \n",
       "0  Добрый день! Была на экскурсии театральной, оч...  \n",
       "1  Спасибо за прекрасное утро, за концерт птиц, г...  \n",
       "2  Праздновал с друзьями свой День рождения на эк...  \n",
       "3  Большое спасибо за экскурсию! Было очень профе...  \n",
       "4  Ходили на эту экскурсию в среду, оказывается, ...  "
      ]
     },
     "execution_count": 293,
     "metadata": {},
     "output_type": "execute_result"
    }
   ],
   "source": [
    "repurchase_df.head()"
   ]
  },
  {
   "cell_type": "code",
   "execution_count": 294,
   "id": "89208bc8",
   "metadata": {},
   "outputs": [],
   "source": [
    "repurchase_df.drop(columns=['DETAIL_CONTENT'], inplace=True)\n",
    "repurchase_df.columns = ['review_id', 'review_text']"
   ]
  },
  {
   "cell_type": "code",
   "execution_count": 296,
   "id": "78b50d90",
   "metadata": {},
   "outputs": [
    {
     "data": {
      "text/plain": [
       "0"
      ]
     },
     "execution_count": 296,
     "metadata": {},
     "output_type": "execute_result"
    }
   ],
   "source": [
    "repurchase_df.review_text.isna().sum()"
   ]
  },
  {
   "cell_type": "code",
   "execution_count": 297,
   "id": "9025dbbe",
   "metadata": {},
   "outputs": [
    {
     "data": {
      "text/html": [
       "<div>\n",
       "<style scoped>\n",
       "    .dataframe tbody tr th:only-of-type {\n",
       "        vertical-align: middle;\n",
       "    }\n",
       "\n",
       "    .dataframe tbody tr th {\n",
       "        vertical-align: top;\n",
       "    }\n",
       "\n",
       "    .dataframe thead th {\n",
       "        text-align: right;\n",
       "    }\n",
       "</style>\n",
       "<table border=\"1\" class=\"dataframe\">\n",
       "  <thead>\n",
       "    <tr style=\"text-align: right;\">\n",
       "      <th></th>\n",
       "      <th>review_id</th>\n",
       "      <th>review_text</th>\n",
       "    </tr>\n",
       "  </thead>\n",
       "  <tbody>\n",
       "    <tr>\n",
       "      <th>543</th>\n",
       "      <td>SZFT93867486340152</td>\n",
       "      <td></td>\n",
       "    </tr>\n",
       "    <tr>\n",
       "      <th>1138</th>\n",
       "      <td>HUHX51508128747212</td>\n",
       "      <td></td>\n",
       "    </tr>\n",
       "    <tr>\n",
       "      <th>1784</th>\n",
       "      <td>IRXP41955214382997</td>\n",
       "      <td></td>\n",
       "    </tr>\n",
       "    <tr>\n",
       "      <th>4128</th>\n",
       "      <td>RNTM03360999814793</td>\n",
       "      <td></td>\n",
       "    </tr>\n",
       "    <tr>\n",
       "      <th>10129</th>\n",
       "      <td>PAGQ32153737277075</td>\n",
       "      <td></td>\n",
       "    </tr>\n",
       "    <tr>\n",
       "      <th>...</th>\n",
       "      <td>...</td>\n",
       "      <td>...</td>\n",
       "    </tr>\n",
       "    <tr>\n",
       "      <th>350237</th>\n",
       "      <td>EHST05756168744259</td>\n",
       "      <td></td>\n",
       "    </tr>\n",
       "    <tr>\n",
       "      <th>358370</th>\n",
       "      <td>ZLMK92726929073519</td>\n",
       "      <td></td>\n",
       "    </tr>\n",
       "    <tr>\n",
       "      <th>358554</th>\n",
       "      <td>NNXP30242767649113</td>\n",
       "      <td></td>\n",
       "    </tr>\n",
       "    <tr>\n",
       "      <th>359308</th>\n",
       "      <td>VUCO00776246787902</td>\n",
       "      <td></td>\n",
       "    </tr>\n",
       "    <tr>\n",
       "      <th>361166</th>\n",
       "      <td>LLDI98059027441525</td>\n",
       "      <td></td>\n",
       "    </tr>\n",
       "  </tbody>\n",
       "</table>\n",
       "<p>61 rows × 2 columns</p>\n",
       "</div>"
      ],
      "text/plain": [
       "                 review_id review_text\n",
       "543     SZFT93867486340152            \n",
       "1138    HUHX51508128747212            \n",
       "1784    IRXP41955214382997            \n",
       "4128    RNTM03360999814793            \n",
       "10129   PAGQ32153737277075            \n",
       "...                    ...         ...\n",
       "350237  EHST05756168744259            \n",
       "358370  ZLMK92726929073519            \n",
       "358554  NNXP30242767649113            \n",
       "359308  VUCO00776246787902            \n",
       "361166  LLDI98059027441525            \n",
       "\n",
       "[61 rows x 2 columns]"
      ]
     },
     "execution_count": 297,
     "metadata": {},
     "output_type": "execute_result"
    }
   ],
   "source": [
    "repurchase_df[repurchase_df.review_text.isin(['', ' '])]"
   ]
  },
  {
   "cell_type": "code",
   "execution_count": 298,
   "id": "1401a890",
   "metadata": {},
   "outputs": [],
   "source": [
    "repurchase_df = repurchase_df[repurchase_df.review_text.isin(['', ' '])==False].reset_index(drop=True)"
   ]
  },
  {
   "cell_type": "code",
   "execution_count": 299,
   "id": "63f86cd7",
   "metadata": {},
   "outputs": [
    {
     "data": {
      "text/html": [
       "<div>\n",
       "<style scoped>\n",
       "    .dataframe tbody tr th:only-of-type {\n",
       "        vertical-align: middle;\n",
       "    }\n",
       "\n",
       "    .dataframe tbody tr th {\n",
       "        vertical-align: top;\n",
       "    }\n",
       "\n",
       "    .dataframe thead th {\n",
       "        text-align: right;\n",
       "    }\n",
       "</style>\n",
       "<table border=\"1\" class=\"dataframe\">\n",
       "  <thead>\n",
       "    <tr style=\"text-align: right;\">\n",
       "      <th></th>\n",
       "      <th>review_id</th>\n",
       "      <th>review_text</th>\n",
       "    </tr>\n",
       "  </thead>\n",
       "  <tbody>\n",
       "    <tr>\n",
       "      <th>0</th>\n",
       "      <td>IBEL40458932288368</td>\n",
       "      <td>Добрый день! Была на экскурсии театральной, оч...</td>\n",
       "    </tr>\n",
       "    <tr>\n",
       "      <th>1</th>\n",
       "      <td>XJQL86924315279991</td>\n",
       "      <td>Спасибо за прекрасное утро, за концерт птиц, г...</td>\n",
       "    </tr>\n",
       "    <tr>\n",
       "      <th>2</th>\n",
       "      <td>WYTJ13913662608790</td>\n",
       "      <td>Праздновал с друзьями свой День рождения на эк...</td>\n",
       "    </tr>\n",
       "    <tr>\n",
       "      <th>3</th>\n",
       "      <td>TPSP07717133573269</td>\n",
       "      <td>Большое спасибо за экскурсию! Было очень профе...</td>\n",
       "    </tr>\n",
       "    <tr>\n",
       "      <th>4</th>\n",
       "      <td>LRHK42247441970821</td>\n",
       "      <td>Ходили на эту экскурсию в среду, оказывается, ...</td>\n",
       "    </tr>\n",
       "    <tr>\n",
       "      <th>...</th>\n",
       "      <td>...</td>\n",
       "      <td>...</td>\n",
       "    </tr>\n",
       "    <tr>\n",
       "      <th>361583</th>\n",
       "      <td>POWN19451419207434</td>\n",
       "      <td>Нигде не было молотков для окон, в случае авар...</td>\n",
       "    </tr>\n",
       "    <tr>\n",
       "      <th>361584</th>\n",
       "      <td>MWHY16114592457631</td>\n",
       "      <td>Попросили стул сказали попросите у кого нибудь...</td>\n",
       "    </tr>\n",
       "    <tr>\n",
       "      <th>361585</th>\n",
       "      <td>BWEG97861598560325</td>\n",
       "      <td>Не было никакой инструкции, ни словесной, ни п...</td>\n",
       "    </tr>\n",
       "    <tr>\n",
       "      <th>361586</th>\n",
       "      <td>PWRD18099931863557</td>\n",
       "      <td>Билеты не выдавали</td>\n",
       "    </tr>\n",
       "    <tr>\n",
       "      <th>361587</th>\n",
       "      <td>ZMZY69476140096803</td>\n",
       "      <td>рейс отменили, нас не предупредили. на причале...</td>\n",
       "    </tr>\n",
       "  </tbody>\n",
       "</table>\n",
       "<p>361588 rows × 2 columns</p>\n",
       "</div>"
      ],
      "text/plain": [
       "                 review_id                                        review_text\n",
       "0       IBEL40458932288368  Добрый день! Была на экскурсии театральной, оч...\n",
       "1       XJQL86924315279991  Спасибо за прекрасное утро, за концерт птиц, г...\n",
       "2       WYTJ13913662608790  Праздновал с друзьями свой День рождения на эк...\n",
       "3       TPSP07717133573269  Большое спасибо за экскурсию! Было очень профе...\n",
       "4       LRHK42247441970821  Ходили на эту экскурсию в среду, оказывается, ...\n",
       "...                    ...                                                ...\n",
       "361583  POWN19451419207434  Нигде не было молотков для окон, в случае авар...\n",
       "361584  MWHY16114592457631  Попросили стул сказали попросите у кого нибудь...\n",
       "361585  BWEG97861598560325  Не было никакой инструкции, ни словесной, ни п...\n",
       "361586  PWRD18099931863557                                 Билеты не выдавали\n",
       "361587  ZMZY69476140096803  рейс отменили, нас не предупредили. на причале...\n",
       "\n",
       "[361588 rows x 2 columns]"
      ]
     },
     "execution_count": 299,
     "metadata": {},
     "output_type": "execute_result"
    }
   ],
   "source": [
    "repurchase_df"
   ]
  },
  {
   "cell_type": "code",
   "execution_count": 300,
   "id": "752f67a8",
   "metadata": {},
   "outputs": [],
   "source": [
    "repurchase_df.to_csv('./repurchase_dataset.csv', index=False)"
   ]
  },
  {
   "cell_type": "markdown",
   "id": "e6f7a99c",
   "metadata": {},
   "source": [
    "### For Aspect Classifier"
   ]
  },
  {
   "cell_type": "code",
   "execution_count": 154,
   "id": "1f7f8763",
   "metadata": {},
   "outputs": [],
   "source": [
    "aspect_df = total_df.sort_values(['REVIEW_ID', 'REVIEW_DETAIL'])[['REVIEW_ID', 'DETAIL_CONTENT']].copy(deep=True)"
   ]
  },
  {
   "cell_type": "code",
   "execution_count": 155,
   "id": "fe776dc3",
   "metadata": {},
   "outputs": [
    {
     "name": "stdout",
     "output_type": "stream",
     "text": [
      "CPU times: user 7.76 s, sys: 666 ms, total: 8.43 s\n",
      "Wall time: 9.65 s\n"
     ]
    }
   ],
   "source": [
    "%%time\n",
    "aspect_df['SENTENCES'] = aspect_df.DETAIL_CONTENT.apply(sentence_splitting)"
   ]
  },
  {
   "cell_type": "code",
   "execution_count": 156,
   "id": "8ea806f9",
   "metadata": {},
   "outputs": [
    {
     "data": {
      "text/html": [
       "<div>\n",
       "<style scoped>\n",
       "    .dataframe tbody tr th:only-of-type {\n",
       "        vertical-align: middle;\n",
       "    }\n",
       "\n",
       "    .dataframe tbody tr th {\n",
       "        vertical-align: top;\n",
       "    }\n",
       "\n",
       "    .dataframe thead th {\n",
       "        text-align: right;\n",
       "    }\n",
       "</style>\n",
       "<table border=\"1\" class=\"dataframe\">\n",
       "  <thead>\n",
       "    <tr style=\"text-align: right;\">\n",
       "      <th></th>\n",
       "      <th>REVIEW_ID</th>\n",
       "      <th>DETAIL_CONTENT</th>\n",
       "      <th>SENTENCES</th>\n",
       "    </tr>\n",
       "  </thead>\n",
       "  <tbody>\n",
       "    <tr>\n",
       "      <th>63614</th>\n",
       "      <td>MSOZ89104439558850</td>\n",
       "      <td>Экскурсия была замечательна, Илья почти самый ...</td>\n",
       "      <td>[Экскурсия была замечательна, Илья почти самый...</td>\n",
       "    </tr>\n",
       "    <tr>\n",
       "      <th>100748</th>\n",
       "      <td>IDLV60832093146877</td>\n",
       "      <td>При наличии билетов по 500 рублей обманули и в...</td>\n",
       "      <td>[При наличии билетов по 500 рублей обманули и ...</td>\n",
       "    </tr>\n",
       "    <tr>\n",
       "      <th>289103</th>\n",
       "      <td>LUTS52683557380771</td>\n",
       "      <td>Транспорт по сравнению с УАЗом вообще шикарный...</td>\n",
       "      <td>[Транспорт по сравнению с УАЗом вообще шикарны...</td>\n",
       "    </tr>\n",
       "    <tr>\n",
       "      <th>95577</th>\n",
       "      <td>RKVY29269984486096</td>\n",
       "      <td>Это было незабываемо! Спасибо Миро! Показал на...</td>\n",
       "      <td>[Это было незабываемо, Спасибо Миро, Показал н...</td>\n",
       "    </tr>\n",
       "    <tr>\n",
       "      <th>274062</th>\n",
       "      <td>OGOZ55031800888453</td>\n",
       "      <td>Организация на отлично! Все по графику! Вежлив...</td>\n",
       "      <td>[Организация на отлично, Все по графику, Вежли...</td>\n",
       "    </tr>\n",
       "  </tbody>\n",
       "</table>\n",
       "</div>"
      ],
      "text/plain": [
       "                 REVIEW_ID                                     DETAIL_CONTENT  \\\n",
       "63614   MSOZ89104439558850  Экскурсия была замечательна, Илья почти самый ...   \n",
       "100748  IDLV60832093146877  При наличии билетов по 500 рублей обманули и в...   \n",
       "289103  LUTS52683557380771  Транспорт по сравнению с УАЗом вообще шикарный...   \n",
       "95577   RKVY29269984486096  Это было незабываемо! Спасибо Миро! Показал на...   \n",
       "274062  OGOZ55031800888453  Организация на отлично! Все по графику! Вежлив...   \n",
       "\n",
       "                                                SENTENCES  \n",
       "63614   [Экскурсия была замечательна, Илья почти самый...  \n",
       "100748  [При наличии билетов по 500 рублей обманули и ...  \n",
       "289103  [Транспорт по сравнению с УАЗом вообще шикарны...  \n",
       "95577   [Это было незабываемо, Спасибо Миро, Показал н...  \n",
       "274062  [Организация на отлично, Все по графику, Вежли...  "
      ]
     },
     "execution_count": 156,
     "metadata": {},
     "output_type": "execute_result"
    }
   ],
   "source": [
    "aspect_df.sample(5)"
   ]
  },
  {
   "cell_type": "code",
   "execution_count": 157,
   "id": "0926d59e",
   "metadata": {},
   "outputs": [],
   "source": [
    "aspect_df = aspect_df.explode('SENTENCES').reset_index(drop=True)"
   ]
  },
  {
   "cell_type": "code",
   "execution_count": null,
   "id": "78b7a4db",
   "metadata": {},
   "outputs": [],
   "source": [
    "rev_id_mapper = dict(zip(aspect_df.REVIEW_ID.to_list))"
   ]
  },
  {
   "cell_type": "code",
   "execution_count": 158,
   "id": "bed8286e",
   "metadata": {},
   "outputs": [
    {
     "data": {
      "text/html": [
       "<div>\n",
       "<style scoped>\n",
       "    .dataframe tbody tr th:only-of-type {\n",
       "        vertical-align: middle;\n",
       "    }\n",
       "\n",
       "    .dataframe tbody tr th {\n",
       "        vertical-align: top;\n",
       "    }\n",
       "\n",
       "    .dataframe thead th {\n",
       "        text-align: right;\n",
       "    }\n",
       "</style>\n",
       "<table border=\"1\" class=\"dataframe\">\n",
       "  <thead>\n",
       "    <tr style=\"text-align: right;\">\n",
       "      <th></th>\n",
       "      <th>REVIEW_ID</th>\n",
       "      <th>DETAIL_CONTENT</th>\n",
       "      <th>SENTENCES</th>\n",
       "    </tr>\n",
       "  </thead>\n",
       "  <tbody>\n",
       "    <tr>\n",
       "      <th>0</th>\n",
       "      <td>AAAA78056139278555</td>\n",
       "      <td>Экскурсия прошла отлично.!!Огромное спасибо эк...</td>\n",
       "      <td>Экскурсия прошла отлично</td>\n",
       "    </tr>\n",
       "    <tr>\n",
       "      <th>1</th>\n",
       "      <td>AAAA78056139278555</td>\n",
       "      <td>Экскурсия прошла отлично.!!Огромное спасибо эк...</td>\n",
       "      <td>Огромное спасибо экскурсоводу Полине</td>\n",
       "    </tr>\n",
       "    <tr>\n",
       "      <th>2</th>\n",
       "      <td>AAAG65691171975021</td>\n",
       "      <td>Даша, наш гид, была пунктуальна, рассказала мн...</td>\n",
       "      <td>Даша, наш гид, была пунктуальна, рассказала мн...</td>\n",
       "    </tr>\n",
       "    <tr>\n",
       "      <th>3</th>\n",
       "      <td>AAAG65691171975021</td>\n",
       "      <td>Даша, наш гид, была пунктуальна, рассказала мн...</td>\n",
       "      <td>Нашей семье очень понравилось, включая 4х детн...</td>\n",
       "    </tr>\n",
       "    <tr>\n",
       "      <th>4</th>\n",
       "      <td>AAAG65691171975021</td>\n",
       "      <td>Экскурсия превысила наши ожидания, мы узнали м...</td>\n",
       "      <td>Экскурсия превысила наши ожидания, мы узнали м...</td>\n",
       "    </tr>\n",
       "    <tr>\n",
       "      <th>...</th>\n",
       "      <td>...</td>\n",
       "      <td>...</td>\n",
       "      <td>...</td>\n",
       "    </tr>\n",
       "    <tr>\n",
       "      <th>1168288</th>\n",
       "      <td>ZZZZ65942033827504</td>\n",
       "      <td>Потрясающий гид Наталья! Огромное спасибо орга...</td>\n",
       "      <td>Потрясающий гид Наталья</td>\n",
       "    </tr>\n",
       "    <tr>\n",
       "      <th>1168289</th>\n",
       "      <td>ZZZZ65942033827504</td>\n",
       "      <td>Потрясающий гид Наталья! Огромное спасибо орга...</td>\n",
       "      <td>Огромное спасибо организаторам за то, что пров...</td>\n",
       "    </tr>\n",
       "    <tr>\n",
       "      <th>1168290</th>\n",
       "      <td>ZZZZ65942033827504</td>\n",
       "      <td>Потрясающий гид Наталья! Огромное спасибо орга...</td>\n",
       "      <td>С погодой повезло, виды открыточные, городок о...</td>\n",
       "    </tr>\n",
       "    <tr>\n",
       "      <th>1168291</th>\n",
       "      <td>ZZZZ65942033827504</td>\n",
       "      <td>Потрясающий гид Наталья! Огромное спасибо орга...</td>\n",
       "      <td>И, конечно, история нашей страны и конкретно э...</td>\n",
       "    </tr>\n",
       "    <tr>\n",
       "      <th>1168292</th>\n",
       "      <td>ZZZZ65942033827504</td>\n",
       "      <td>Потрясающий гид Наталья! Огромное спасибо орга...</td>\n",
       "      <td>Рекомендую</td>\n",
       "    </tr>\n",
       "  </tbody>\n",
       "</table>\n",
       "<p>1168293 rows × 3 columns</p>\n",
       "</div>"
      ],
      "text/plain": [
       "                  REVIEW_ID  \\\n",
       "0        AAAA78056139278555   \n",
       "1        AAAA78056139278555   \n",
       "2        AAAG65691171975021   \n",
       "3        AAAG65691171975021   \n",
       "4        AAAG65691171975021   \n",
       "...                     ...   \n",
       "1168288  ZZZZ65942033827504   \n",
       "1168289  ZZZZ65942033827504   \n",
       "1168290  ZZZZ65942033827504   \n",
       "1168291  ZZZZ65942033827504   \n",
       "1168292  ZZZZ65942033827504   \n",
       "\n",
       "                                            DETAIL_CONTENT  \\\n",
       "0        Экскурсия прошла отлично.!!Огромное спасибо эк...   \n",
       "1        Экскурсия прошла отлично.!!Огромное спасибо эк...   \n",
       "2        Даша, наш гид, была пунктуальна, рассказала мн...   \n",
       "3        Даша, наш гид, была пунктуальна, рассказала мн...   \n",
       "4        Экскурсия превысила наши ожидания, мы узнали м...   \n",
       "...                                                    ...   \n",
       "1168288  Потрясающий гид Наталья! Огромное спасибо орга...   \n",
       "1168289  Потрясающий гид Наталья! Огромное спасибо орга...   \n",
       "1168290  Потрясающий гид Наталья! Огромное спасибо орга...   \n",
       "1168291  Потрясающий гид Наталья! Огромное спасибо орга...   \n",
       "1168292  Потрясающий гид Наталья! Огромное спасибо орга...   \n",
       "\n",
       "                                                 SENTENCES  \n",
       "0                                 Экскурсия прошла отлично  \n",
       "1                     Огромное спасибо экскурсоводу Полине  \n",
       "2        Даша, наш гид, была пунктуальна, рассказала мн...  \n",
       "3        Нашей семье очень понравилось, включая 4х детн...  \n",
       "4        Экскурсия превысила наши ожидания, мы узнали м...  \n",
       "...                                                    ...  \n",
       "1168288                            Потрясающий гид Наталья  \n",
       "1168289  Огромное спасибо организаторам за то, что пров...  \n",
       "1168290  С погодой повезло, виды открыточные, городок о...  \n",
       "1168291  И, конечно, история нашей страны и конкретно э...  \n",
       "1168292                                         Рекомендую  \n",
       "\n",
       "[1168293 rows x 3 columns]"
      ]
     },
     "execution_count": 158,
     "metadata": {},
     "output_type": "execute_result"
    }
   ],
   "source": [
    "aspect_df"
   ]
  },
  {
   "cell_type": "code",
   "execution_count": 137,
   "id": "081f8ea8",
   "metadata": {},
   "outputs": [
    {
     "data": {
      "text/plain": [
       "array(['IBEL40458932288368', 'XJQL86924315279991', 'WYTJ13913662608790',\n",
       "       ..., 'HORM74454130782733', 'LNWR33580519429472',\n",
       "       'VOVK59383608604709'], dtype=object)"
      ]
     },
     "execution_count": 137,
     "metadata": {},
     "output_type": "execute_result"
    }
   ],
   "source": [
    "aspect_df.REVIEW_ID.unique()"
   ]
  },
  {
   "cell_type": "code",
   "execution_count": 140,
   "id": "f1d47e48",
   "metadata": {},
   "outputs": [
    {
     "data": {
      "text/html": [
       "<div>\n",
       "<style scoped>\n",
       "    .dataframe tbody tr th:only-of-type {\n",
       "        vertical-align: middle;\n",
       "    }\n",
       "\n",
       "    .dataframe tbody tr th {\n",
       "        vertical-align: top;\n",
       "    }\n",
       "\n",
       "    .dataframe thead th {\n",
       "        text-align: right;\n",
       "    }\n",
       "</style>\n",
       "<table border=\"1\" class=\"dataframe\">\n",
       "  <thead>\n",
       "    <tr style=\"text-align: right;\">\n",
       "      <th></th>\n",
       "      <th>index</th>\n",
       "      <th>REVIEW_ID</th>\n",
       "    </tr>\n",
       "  </thead>\n",
       "  <tbody>\n",
       "    <tr>\n",
       "      <th>0</th>\n",
       "      <td>0</td>\n",
       "      <td>IBEL40458932288368</td>\n",
       "    </tr>\n",
       "    <tr>\n",
       "      <th>1</th>\n",
       "      <td>6</td>\n",
       "      <td>XJQL86924315279991</td>\n",
       "    </tr>\n",
       "    <tr>\n",
       "      <th>2</th>\n",
       "      <td>8</td>\n",
       "      <td>WYTJ13913662608790</td>\n",
       "    </tr>\n",
       "    <tr>\n",
       "      <th>3</th>\n",
       "      <td>13</td>\n",
       "      <td>TPSP07717133573269</td>\n",
       "    </tr>\n",
       "    <tr>\n",
       "      <th>4</th>\n",
       "      <td>15</td>\n",
       "      <td>LRHK42247441970821</td>\n",
       "    </tr>\n",
       "    <tr>\n",
       "      <th>...</th>\n",
       "      <td>...</td>\n",
       "      <td>...</td>\n",
       "    </tr>\n",
       "    <tr>\n",
       "      <th>268436</th>\n",
       "      <td>1167880</td>\n",
       "      <td>OIZE67610668564023</td>\n",
       "    </tr>\n",
       "    <tr>\n",
       "      <th>268437</th>\n",
       "      <td>1168042</td>\n",
       "      <td>ZIDU24326557129684</td>\n",
       "    </tr>\n",
       "    <tr>\n",
       "      <th>268438</th>\n",
       "      <td>1168043</td>\n",
       "      <td>HORM74454130782733</td>\n",
       "    </tr>\n",
       "    <tr>\n",
       "      <th>268439</th>\n",
       "      <td>1168104</td>\n",
       "      <td>LNWR33580519429472</td>\n",
       "    </tr>\n",
       "    <tr>\n",
       "      <th>268440</th>\n",
       "      <td>1168170</td>\n",
       "      <td>VOVK59383608604709</td>\n",
       "    </tr>\n",
       "  </tbody>\n",
       "</table>\n",
       "<p>268441 rows × 2 columns</p>\n",
       "</div>"
      ],
      "text/plain": [
       "          index           REVIEW_ID\n",
       "0             0  IBEL40458932288368\n",
       "1             6  XJQL86924315279991\n",
       "2             8  WYTJ13913662608790\n",
       "3            13  TPSP07717133573269\n",
       "4            15  LRHK42247441970821\n",
       "...         ...                 ...\n",
       "268436  1167880  OIZE67610668564023\n",
       "268437  1168042  ZIDU24326557129684\n",
       "268438  1168043  HORM74454130782733\n",
       "268439  1168104  LNWR33580519429472\n",
       "268440  1168170  VOVK59383608604709\n",
       "\n",
       "[268441 rows x 2 columns]"
      ]
     },
     "execution_count": 140,
     "metadata": {},
     "output_type": "execute_result"
    }
   ],
   "source": [
    "aspect_df[['REVIEW_ID']].drop_duplicates(keep='first').reset_index()"
   ]
  },
  {
   "cell_type": "code",
   "execution_count": 159,
   "id": "81110ea9",
   "metadata": {},
   "outputs": [],
   "source": [
    "temp_1 = aspect_df[['REVIEW_ID']].reset_index()\n",
    "temp_2 = aspect_df[['REVIEW_ID']].drop_duplicates(keep='first').reset_index()\n",
    "\n",
    "temp_1.columns = ['index_1', 'REVIEW_ID']\n",
    "temp_2.columns = ['index_2', 'REVIEW_ID']"
   ]
  },
  {
   "cell_type": "code",
   "execution_count": 160,
   "id": "566ec5c5",
   "metadata": {},
   "outputs": [
    {
     "data": {
      "text/html": [
       "<div>\n",
       "<style scoped>\n",
       "    .dataframe tbody tr th:only-of-type {\n",
       "        vertical-align: middle;\n",
       "    }\n",
       "\n",
       "    .dataframe tbody tr th {\n",
       "        vertical-align: top;\n",
       "    }\n",
       "\n",
       "    .dataframe thead th {\n",
       "        text-align: right;\n",
       "    }\n",
       "</style>\n",
       "<table border=\"1\" class=\"dataframe\">\n",
       "  <thead>\n",
       "    <tr style=\"text-align: right;\">\n",
       "      <th></th>\n",
       "      <th>index_1</th>\n",
       "      <th>REVIEW_ID</th>\n",
       "    </tr>\n",
       "  </thead>\n",
       "  <tbody>\n",
       "    <tr>\n",
       "      <th>0</th>\n",
       "      <td>0</td>\n",
       "      <td>AAAA78056139278555</td>\n",
       "    </tr>\n",
       "    <tr>\n",
       "      <th>1</th>\n",
       "      <td>1</td>\n",
       "      <td>AAAA78056139278555</td>\n",
       "    </tr>\n",
       "    <tr>\n",
       "      <th>2</th>\n",
       "      <td>2</td>\n",
       "      <td>AAAG65691171975021</td>\n",
       "    </tr>\n",
       "    <tr>\n",
       "      <th>3</th>\n",
       "      <td>3</td>\n",
       "      <td>AAAG65691171975021</td>\n",
       "    </tr>\n",
       "    <tr>\n",
       "      <th>4</th>\n",
       "      <td>4</td>\n",
       "      <td>AAAG65691171975021</td>\n",
       "    </tr>\n",
       "    <tr>\n",
       "      <th>...</th>\n",
       "      <td>...</td>\n",
       "      <td>...</td>\n",
       "    </tr>\n",
       "    <tr>\n",
       "      <th>1168288</th>\n",
       "      <td>1168288</td>\n",
       "      <td>ZZZZ65942033827504</td>\n",
       "    </tr>\n",
       "    <tr>\n",
       "      <th>1168289</th>\n",
       "      <td>1168289</td>\n",
       "      <td>ZZZZ65942033827504</td>\n",
       "    </tr>\n",
       "    <tr>\n",
       "      <th>1168290</th>\n",
       "      <td>1168290</td>\n",
       "      <td>ZZZZ65942033827504</td>\n",
       "    </tr>\n",
       "    <tr>\n",
       "      <th>1168291</th>\n",
       "      <td>1168291</td>\n",
       "      <td>ZZZZ65942033827504</td>\n",
       "    </tr>\n",
       "    <tr>\n",
       "      <th>1168292</th>\n",
       "      <td>1168292</td>\n",
       "      <td>ZZZZ65942033827504</td>\n",
       "    </tr>\n",
       "  </tbody>\n",
       "</table>\n",
       "<p>1168293 rows × 2 columns</p>\n",
       "</div>"
      ],
      "text/plain": [
       "         index_1           REVIEW_ID\n",
       "0              0  AAAA78056139278555\n",
       "1              1  AAAA78056139278555\n",
       "2              2  AAAG65691171975021\n",
       "3              3  AAAG65691171975021\n",
       "4              4  AAAG65691171975021\n",
       "...          ...                 ...\n",
       "1168288  1168288  ZZZZ65942033827504\n",
       "1168289  1168289  ZZZZ65942033827504\n",
       "1168290  1168290  ZZZZ65942033827504\n",
       "1168291  1168291  ZZZZ65942033827504\n",
       "1168292  1168292  ZZZZ65942033827504\n",
       "\n",
       "[1168293 rows x 2 columns]"
      ]
     },
     "execution_count": 160,
     "metadata": {},
     "output_type": "execute_result"
    }
   ],
   "source": [
    "temp_1"
   ]
  },
  {
   "cell_type": "code",
   "execution_count": 161,
   "id": "2109bfe6",
   "metadata": {},
   "outputs": [
    {
     "data": {
      "text/html": [
       "<div>\n",
       "<style scoped>\n",
       "    .dataframe tbody tr th:only-of-type {\n",
       "        vertical-align: middle;\n",
       "    }\n",
       "\n",
       "    .dataframe tbody tr th {\n",
       "        vertical-align: top;\n",
       "    }\n",
       "\n",
       "    .dataframe thead th {\n",
       "        text-align: right;\n",
       "    }\n",
       "</style>\n",
       "<table border=\"1\" class=\"dataframe\">\n",
       "  <thead>\n",
       "    <tr style=\"text-align: right;\">\n",
       "      <th></th>\n",
       "      <th>index_2</th>\n",
       "      <th>REVIEW_ID</th>\n",
       "    </tr>\n",
       "  </thead>\n",
       "  <tbody>\n",
       "    <tr>\n",
       "      <th>0</th>\n",
       "      <td>0</td>\n",
       "      <td>AAAA78056139278555</td>\n",
       "    </tr>\n",
       "    <tr>\n",
       "      <th>1</th>\n",
       "      <td>2</td>\n",
       "      <td>AAAG65691171975021</td>\n",
       "    </tr>\n",
       "    <tr>\n",
       "      <th>2</th>\n",
       "      <td>5</td>\n",
       "      <td>AAAG69349045305662</td>\n",
       "    </tr>\n",
       "    <tr>\n",
       "      <th>3</th>\n",
       "      <td>9</td>\n",
       "      <td>AAAH16587800417386</td>\n",
       "    </tr>\n",
       "    <tr>\n",
       "      <th>4</th>\n",
       "      <td>12</td>\n",
       "      <td>AAAQ98081187231652</td>\n",
       "    </tr>\n",
       "    <tr>\n",
       "      <th>...</th>\n",
       "      <td>...</td>\n",
       "      <td>...</td>\n",
       "    </tr>\n",
       "    <tr>\n",
       "      <th>268436</th>\n",
       "      <td>1168276</td>\n",
       "      <td>ZZZS70993310069196</td>\n",
       "    </tr>\n",
       "    <tr>\n",
       "      <th>268437</th>\n",
       "      <td>1168280</td>\n",
       "      <td>ZZZV24167149660699</td>\n",
       "    </tr>\n",
       "    <tr>\n",
       "      <th>268438</th>\n",
       "      <td>1168285</td>\n",
       "      <td>ZZZW54170023921547</td>\n",
       "    </tr>\n",
       "    <tr>\n",
       "      <th>268439</th>\n",
       "      <td>1168286</td>\n",
       "      <td>ZZZY00460228097796</td>\n",
       "    </tr>\n",
       "    <tr>\n",
       "      <th>268440</th>\n",
       "      <td>1168288</td>\n",
       "      <td>ZZZZ65942033827504</td>\n",
       "    </tr>\n",
       "  </tbody>\n",
       "</table>\n",
       "<p>268441 rows × 2 columns</p>\n",
       "</div>"
      ],
      "text/plain": [
       "        index_2           REVIEW_ID\n",
       "0             0  AAAA78056139278555\n",
       "1             2  AAAG65691171975021\n",
       "2             5  AAAG69349045305662\n",
       "3             9  AAAH16587800417386\n",
       "4            12  AAAQ98081187231652\n",
       "...         ...                 ...\n",
       "268436  1168276  ZZZS70993310069196\n",
       "268437  1168280  ZZZV24167149660699\n",
       "268438  1168285  ZZZW54170023921547\n",
       "268439  1168286  ZZZY00460228097796\n",
       "268440  1168288  ZZZZ65942033827504\n",
       "\n",
       "[268441 rows x 2 columns]"
      ]
     },
     "execution_count": 161,
     "metadata": {},
     "output_type": "execute_result"
    }
   ],
   "source": [
    "temp_2"
   ]
  },
  {
   "cell_type": "code",
   "execution_count": 169,
   "id": "0d83e77d",
   "metadata": {},
   "outputs": [],
   "source": [
    "merged = temp_1.merge(temp_2, how='left', on='REVIEW_ID')"
   ]
  },
  {
   "cell_type": "code",
   "execution_count": 170,
   "id": "5dcee7b1",
   "metadata": {},
   "outputs": [
    {
     "data": {
      "text/html": [
       "<div>\n",
       "<style scoped>\n",
       "    .dataframe tbody tr th:only-of-type {\n",
       "        vertical-align: middle;\n",
       "    }\n",
       "\n",
       "    .dataframe tbody tr th {\n",
       "        vertical-align: top;\n",
       "    }\n",
       "\n",
       "    .dataframe thead th {\n",
       "        text-align: right;\n",
       "    }\n",
       "</style>\n",
       "<table border=\"1\" class=\"dataframe\">\n",
       "  <thead>\n",
       "    <tr style=\"text-align: right;\">\n",
       "      <th></th>\n",
       "      <th>index_1</th>\n",
       "      <th>REVIEW_ID</th>\n",
       "      <th>index_2</th>\n",
       "    </tr>\n",
       "  </thead>\n",
       "  <tbody>\n",
       "    <tr>\n",
       "      <th>0</th>\n",
       "      <td>0</td>\n",
       "      <td>AAAA78056139278555</td>\n",
       "      <td>0</td>\n",
       "    </tr>\n",
       "    <tr>\n",
       "      <th>1</th>\n",
       "      <td>1</td>\n",
       "      <td>AAAA78056139278555</td>\n",
       "      <td>0</td>\n",
       "    </tr>\n",
       "    <tr>\n",
       "      <th>2</th>\n",
       "      <td>2</td>\n",
       "      <td>AAAG65691171975021</td>\n",
       "      <td>2</td>\n",
       "    </tr>\n",
       "    <tr>\n",
       "      <th>3</th>\n",
       "      <td>3</td>\n",
       "      <td>AAAG65691171975021</td>\n",
       "      <td>2</td>\n",
       "    </tr>\n",
       "    <tr>\n",
       "      <th>4</th>\n",
       "      <td>4</td>\n",
       "      <td>AAAG65691171975021</td>\n",
       "      <td>2</td>\n",
       "    </tr>\n",
       "    <tr>\n",
       "      <th>...</th>\n",
       "      <td>...</td>\n",
       "      <td>...</td>\n",
       "      <td>...</td>\n",
       "    </tr>\n",
       "    <tr>\n",
       "      <th>1168288</th>\n",
       "      <td>1168288</td>\n",
       "      <td>ZZZZ65942033827504</td>\n",
       "      <td>1168288</td>\n",
       "    </tr>\n",
       "    <tr>\n",
       "      <th>1168289</th>\n",
       "      <td>1168289</td>\n",
       "      <td>ZZZZ65942033827504</td>\n",
       "      <td>1168288</td>\n",
       "    </tr>\n",
       "    <tr>\n",
       "      <th>1168290</th>\n",
       "      <td>1168290</td>\n",
       "      <td>ZZZZ65942033827504</td>\n",
       "      <td>1168288</td>\n",
       "    </tr>\n",
       "    <tr>\n",
       "      <th>1168291</th>\n",
       "      <td>1168291</td>\n",
       "      <td>ZZZZ65942033827504</td>\n",
       "      <td>1168288</td>\n",
       "    </tr>\n",
       "    <tr>\n",
       "      <th>1168292</th>\n",
       "      <td>1168292</td>\n",
       "      <td>ZZZZ65942033827504</td>\n",
       "      <td>1168288</td>\n",
       "    </tr>\n",
       "  </tbody>\n",
       "</table>\n",
       "<p>1168293 rows × 3 columns</p>\n",
       "</div>"
      ],
      "text/plain": [
       "         index_1           REVIEW_ID  index_2\n",
       "0              0  AAAA78056139278555        0\n",
       "1              1  AAAA78056139278555        0\n",
       "2              2  AAAG65691171975021        2\n",
       "3              3  AAAG65691171975021        2\n",
       "4              4  AAAG65691171975021        2\n",
       "...          ...                 ...      ...\n",
       "1168288  1168288  ZZZZ65942033827504  1168288\n",
       "1168289  1168289  ZZZZ65942033827504  1168288\n",
       "1168290  1168290  ZZZZ65942033827504  1168288\n",
       "1168291  1168291  ZZZZ65942033827504  1168288\n",
       "1168292  1168292  ZZZZ65942033827504  1168288\n",
       "\n",
       "[1168293 rows x 3 columns]"
      ]
     },
     "execution_count": 170,
     "metadata": {},
     "output_type": "execute_result"
    }
   ],
   "source": [
    "merged"
   ]
  },
  {
   "cell_type": "code",
   "execution_count": 171,
   "id": "137ed9ee",
   "metadata": {},
   "outputs": [],
   "source": [
    "merged['num_part'] = merged.index_1- merged.index_2"
   ]
  },
  {
   "cell_type": "code",
   "execution_count": 172,
   "id": "1c5d347b",
   "metadata": {},
   "outputs": [
    {
     "data": {
      "text/html": [
       "<div>\n",
       "<style scoped>\n",
       "    .dataframe tbody tr th:only-of-type {\n",
       "        vertical-align: middle;\n",
       "    }\n",
       "\n",
       "    .dataframe tbody tr th {\n",
       "        vertical-align: top;\n",
       "    }\n",
       "\n",
       "    .dataframe thead th {\n",
       "        text-align: right;\n",
       "    }\n",
       "</style>\n",
       "<table border=\"1\" class=\"dataframe\">\n",
       "  <thead>\n",
       "    <tr style=\"text-align: right;\">\n",
       "      <th></th>\n",
       "      <th>index_1</th>\n",
       "      <th>REVIEW_ID</th>\n",
       "      <th>index_2</th>\n",
       "      <th>num_part</th>\n",
       "    </tr>\n",
       "  </thead>\n",
       "  <tbody>\n",
       "    <tr>\n",
       "      <th>0</th>\n",
       "      <td>0</td>\n",
       "      <td>AAAA78056139278555</td>\n",
       "      <td>0</td>\n",
       "      <td>0</td>\n",
       "    </tr>\n",
       "    <tr>\n",
       "      <th>1</th>\n",
       "      <td>1</td>\n",
       "      <td>AAAA78056139278555</td>\n",
       "      <td>0</td>\n",
       "      <td>1</td>\n",
       "    </tr>\n",
       "    <tr>\n",
       "      <th>2</th>\n",
       "      <td>2</td>\n",
       "      <td>AAAG65691171975021</td>\n",
       "      <td>2</td>\n",
       "      <td>0</td>\n",
       "    </tr>\n",
       "    <tr>\n",
       "      <th>3</th>\n",
       "      <td>3</td>\n",
       "      <td>AAAG65691171975021</td>\n",
       "      <td>2</td>\n",
       "      <td>1</td>\n",
       "    </tr>\n",
       "    <tr>\n",
       "      <th>4</th>\n",
       "      <td>4</td>\n",
       "      <td>AAAG65691171975021</td>\n",
       "      <td>2</td>\n",
       "      <td>2</td>\n",
       "    </tr>\n",
       "    <tr>\n",
       "      <th>...</th>\n",
       "      <td>...</td>\n",
       "      <td>...</td>\n",
       "      <td>...</td>\n",
       "      <td>...</td>\n",
       "    </tr>\n",
       "    <tr>\n",
       "      <th>1168288</th>\n",
       "      <td>1168288</td>\n",
       "      <td>ZZZZ65942033827504</td>\n",
       "      <td>1168288</td>\n",
       "      <td>0</td>\n",
       "    </tr>\n",
       "    <tr>\n",
       "      <th>1168289</th>\n",
       "      <td>1168289</td>\n",
       "      <td>ZZZZ65942033827504</td>\n",
       "      <td>1168288</td>\n",
       "      <td>1</td>\n",
       "    </tr>\n",
       "    <tr>\n",
       "      <th>1168290</th>\n",
       "      <td>1168290</td>\n",
       "      <td>ZZZZ65942033827504</td>\n",
       "      <td>1168288</td>\n",
       "      <td>2</td>\n",
       "    </tr>\n",
       "    <tr>\n",
       "      <th>1168291</th>\n",
       "      <td>1168291</td>\n",
       "      <td>ZZZZ65942033827504</td>\n",
       "      <td>1168288</td>\n",
       "      <td>3</td>\n",
       "    </tr>\n",
       "    <tr>\n",
       "      <th>1168292</th>\n",
       "      <td>1168292</td>\n",
       "      <td>ZZZZ65942033827504</td>\n",
       "      <td>1168288</td>\n",
       "      <td>4</td>\n",
       "    </tr>\n",
       "  </tbody>\n",
       "</table>\n",
       "<p>1168293 rows × 4 columns</p>\n",
       "</div>"
      ],
      "text/plain": [
       "         index_1           REVIEW_ID  index_2  num_part\n",
       "0              0  AAAA78056139278555        0         0\n",
       "1              1  AAAA78056139278555        0         1\n",
       "2              2  AAAG65691171975021        2         0\n",
       "3              3  AAAG65691171975021        2         1\n",
       "4              4  AAAG65691171975021        2         2\n",
       "...          ...                 ...      ...       ...\n",
       "1168288  1168288  ZZZZ65942033827504  1168288         0\n",
       "1168289  1168289  ZZZZ65942033827504  1168288         1\n",
       "1168290  1168290  ZZZZ65942033827504  1168288         2\n",
       "1168291  1168291  ZZZZ65942033827504  1168288         3\n",
       "1168292  1168292  ZZZZ65942033827504  1168288         4\n",
       "\n",
       "[1168293 rows x 4 columns]"
      ]
     },
     "execution_count": 172,
     "metadata": {},
     "output_type": "execute_result"
    }
   ],
   "source": [
    "merged"
   ]
  },
  {
   "cell_type": "code",
   "execution_count": 175,
   "id": "bcd846a6",
   "metadata": {},
   "outputs": [],
   "source": [
    "aspect_df = pd.concat([aspect_df, merged[['num_part']]], axis=1).drop(columns=['DETAIL_CONTENT'])\n",
    "aspect_df.columns = ['REVIEW_ID', 'SENTENCES', 'NUM_SENT']"
   ]
  },
  {
   "cell_type": "code",
   "execution_count": 176,
   "id": "2fb6777a",
   "metadata": {},
   "outputs": [
    {
     "data": {
      "text/html": [
       "<div>\n",
       "<style scoped>\n",
       "    .dataframe tbody tr th:only-of-type {\n",
       "        vertical-align: middle;\n",
       "    }\n",
       "\n",
       "    .dataframe tbody tr th {\n",
       "        vertical-align: top;\n",
       "    }\n",
       "\n",
       "    .dataframe thead th {\n",
       "        text-align: right;\n",
       "    }\n",
       "</style>\n",
       "<table border=\"1\" class=\"dataframe\">\n",
       "  <thead>\n",
       "    <tr style=\"text-align: right;\">\n",
       "      <th></th>\n",
       "      <th>REVIEW_ID</th>\n",
       "      <th>SENTENCES</th>\n",
       "      <th>NUM_SENT</th>\n",
       "    </tr>\n",
       "  </thead>\n",
       "  <tbody>\n",
       "    <tr>\n",
       "      <th>799252</th>\n",
       "      <td>RVCW36402798989946</td>\n",
       "      <td>Процветания вам</td>\n",
       "      <td>6</td>\n",
       "    </tr>\n",
       "    <tr>\n",
       "      <th>1153253</th>\n",
       "      <td>ZROF55312374474530</td>\n",
       "      <td>Отлично организовано путешествие</td>\n",
       "      <td>0</td>\n",
       "    </tr>\n",
       "    <tr>\n",
       "      <th>931894</th>\n",
       "      <td>UTDU98047957314023</td>\n",
       "      <td>Мне очень понравилось</td>\n",
       "      <td>2</td>\n",
       "    </tr>\n",
       "    <tr>\n",
       "      <th>954587</th>\n",
       "      <td>VFRN75663269307976</td>\n",
       "      <td>По моим представлениям именно таким и должен б...</td>\n",
       "      <td>3</td>\n",
       "    </tr>\n",
       "    <tr>\n",
       "      <th>281206</th>\n",
       "      <td>GGUV08724376648205</td>\n",
       "      <td>Экскурсия великолепная, понравилось абсолютно все</td>\n",
       "      <td>1</td>\n",
       "    </tr>\n",
       "  </tbody>\n",
       "</table>\n",
       "</div>"
      ],
      "text/plain": [
       "                  REVIEW_ID  \\\n",
       "799252   RVCW36402798989946   \n",
       "1153253  ZROF55312374474530   \n",
       "931894   UTDU98047957314023   \n",
       "954587   VFRN75663269307976   \n",
       "281206   GGUV08724376648205   \n",
       "\n",
       "                                                 SENTENCES  NUM_SENT  \n",
       "799252                                     Процветания вам         6  \n",
       "1153253                   Отлично организовано путешествие         0  \n",
       "931894                               Мне очень понравилось         2  \n",
       "954587   По моим представлениям именно таким и должен б...         3  \n",
       "281206   Экскурсия великолепная, понравилось абсолютно все         1  "
      ]
     },
     "execution_count": 176,
     "metadata": {},
     "output_type": "execute_result"
    }
   ],
   "source": [
    "aspect_df.sample(5)"
   ]
  },
  {
   "cell_type": "code",
   "execution_count": 210,
   "id": "ecde849e",
   "metadata": {},
   "outputs": [
    {
     "data": {
      "text/plain": [
       "550"
      ]
     },
     "execution_count": 210,
     "metadata": {},
     "output_type": "execute_result"
    }
   ],
   "source": [
    "aspect_df.SENTENCES.isna().sum()"
   ]
  },
  {
   "cell_type": "code",
   "execution_count": 211,
   "id": "7d4ef9e2",
   "metadata": {},
   "outputs": [],
   "source": [
    "aspect_df = aspect_df[aspect_df.SENTENCES.notna()].reset_index(drop=True)"
   ]
  },
  {
   "cell_type": "code",
   "execution_count": 212,
   "id": "6b851c10",
   "metadata": {},
   "outputs": [],
   "source": [
    "aspect_df.to_csv('./aspect_dataset.csv', index=False)"
   ]
  },
  {
   "cell_type": "markdown",
   "id": "c4cf93d9",
   "metadata": {},
   "source": [
    "# Applying trained models"
   ]
  },
  {
   "cell_type": "markdown",
   "id": "5e3e1089",
   "metadata": {},
   "source": [
    "## Aspect Model"
   ]
  },
  {
   "cell_type": "code",
   "execution_count": 180,
   "id": "4661d297",
   "metadata": {},
   "outputs": [
    {
     "data": {
      "application/vnd.jupyter.widget-view+json": {
       "model_id": "",
       "version_major": 2,
       "version_minor": 0
      },
      "text/plain": [
       "config.json:   0%|          | 0.00/2.36k [00:00<?, ?B/s]"
      ]
     },
     "metadata": {},
     "output_type": "display_data"
    },
    {
     "data": {
      "application/vnd.jupyter.widget-view+json": {
       "model_id": "",
       "version_major": 2,
       "version_minor": 0
      },
      "text/plain": [
       "model.safetensors:   0%|          | 0.00/117M [00:00<?, ?B/s]"
      ]
     },
     "metadata": {},
     "output_type": "display_data"
    },
    {
     "data": {
      "application/vnd.jupyter.widget-view+json": {
       "model_id": "",
       "version_major": 2,
       "version_minor": 0
      },
      "text/plain": [
       "tokenizer_config.json:   0%|          | 0.00/1.46k [00:00<?, ?B/s]"
      ]
     },
     "metadata": {},
     "output_type": "display_data"
    },
    {
     "data": {
      "application/vnd.jupyter.widget-view+json": {
       "model_id": "",
       "version_major": 2,
       "version_minor": 0
      },
      "text/plain": [
       "vocab.txt:   0%|          | 0.00/1.08M [00:00<?, ?B/s]"
      ]
     },
     "metadata": {},
     "output_type": "display_data"
    },
    {
     "data": {
      "application/vnd.jupyter.widget-view+json": {
       "model_id": "",
       "version_major": 2,
       "version_minor": 0
      },
      "text/plain": [
       "tokenizer.json:   0%|          | 0.00/2.41M [00:00<?, ?B/s]"
      ]
     },
     "metadata": {},
     "output_type": "display_data"
    },
    {
     "data": {
      "application/vnd.jupyter.widget-view+json": {
       "model_id": "",
       "version_major": 2,
       "version_minor": 0
      },
      "text/plain": [
       "special_tokens_map.json:   0%|          | 0.00/695 [00:00<?, ?B/s]"
      ]
     },
     "metadata": {},
     "output_type": "display_data"
    }
   ],
   "source": [
    "aspect_pipeline = pipeline(\"text-classification\", model=\"laskovey/review_train5\")"
   ]
  },
  {
   "cell_type": "markdown",
   "id": "84d62f12",
   "metadata": {},
   "source": [
    "#### On small sample"
   ]
  },
  {
   "cell_type": "code",
   "execution_count": 200,
   "id": "6a4b8a57",
   "metadata": {},
   "outputs": [],
   "source": [
    "### Let's take 1K random sentences from dataset and process them with model\n",
    "\n",
    "aspect_sample = aspect_df.sample(1000, random_state=42).SENTENCES.to_list()"
   ]
  },
  {
   "cell_type": "code",
   "execution_count": 189,
   "id": "f981ea0e",
   "metadata": {},
   "outputs": [
    {
     "data": {
      "text/plain": [
       "[[{'label': 'dirty windows', 'score': 0.8824572563171387},\n",
       "  {'label': 'weather | advice', 'score': 0.013599114492535591},\n",
       "  {'label': 'shallow narration', 'score': 0.011920100077986717}],\n",
       " [{'label': \"guide's attitude\", 'score': 0.9918985366821289},\n",
       "  {'label': 'other tourists', 'score': 0.0015616669552400708},\n",
       "  {'label': 'rudeness & bigotry', 'score': 0.0014073505299165845}],\n",
       " [{'label': 'bland delivery', 'score': 0.22799576818943024},\n",
       "  {'label': \"guide's proficiency\", 'score': 0.1810142993927002},\n",
       "  {'label': 'food', 'score': 0.0974428728222847}],\n",
       " [{'label': 'weather | advice', 'score': 0.9673636555671692},\n",
       "  {'label': 'weather', 'score': 0.004992982838302851},\n",
       "  {'label': 'hazard', 'score': 0.004728697240352631}],\n",
       " [{'label': 'unmet expectations', 'score': 0.9866977334022522},\n",
       "  {'label': 'appraisal', 'score': 0.003169543808326125},\n",
       "  {'label': 'other tourists', 'score': 0.0016154070617631078}],\n",
       " [{'label': \"guide's attitude\", 'score': 0.36717474460601807},\n",
       "  {'label': 'other tourists', 'score': 0.27540430426597595},\n",
       "  {'label': 'rudeness & bigotry', 'score': 0.13899144530296326}],\n",
       " [{'label': \"guide's attitude\", 'score': 0.8179833292961121},\n",
       "  {'label': 'vehicle', 'score': 0.04568362608551979},\n",
       "  {'label': 'other tourists', 'score': 0.04084904491901398}],\n",
       " [{'label': 'delay', 'score': 0.9854391813278198},\n",
       "  {'label': 'unmet expectations', 'score': 0.0034197811037302017},\n",
       "  {'label': 'time shortage', 'score': 0.0030447172466665506}],\n",
       " [{'label': 'price lift', 'score': 0.9674103856086731},\n",
       "  {'label': 'refund', 'score': 0.00406438997015357},\n",
       "  {'label': 'weather | advice', 'score': 0.0026126715820282698}],\n",
       " [{'label': \"guide's attitude\", 'score': 0.9926221370697021},\n",
       "  {'label': 'unrelated', 'score': 0.001171925337985158},\n",
       "  {'label': 'other tourists', 'score': 0.0011633039684966207}]]"
      ]
     },
     "execution_count": 189,
     "metadata": {},
     "output_type": "execute_result"
    }
   ],
   "source": [
    "aspect_pipeline(aspect_sample, top_k=3)"
   ]
  },
  {
   "cell_type": "code",
   "execution_count": 201,
   "id": "98e9f400",
   "metadata": {},
   "outputs": [
    {
     "name": "stdout",
     "output_type": "stream",
     "text": [
      "CPU times: user 9.82 s, sys: 293 ms, total: 10.1 s\n",
      "Wall time: 6.27 s\n"
     ]
    }
   ],
   "source": [
    "%%time\n",
    "\n",
    "predictions = aspect_pipeline(aspect_sample, top_k=3)"
   ]
  },
  {
   "cell_type": "code",
   "execution_count": 202,
   "id": "f658f8d1",
   "metadata": {},
   "outputs": [
    {
     "data": {
      "text/plain": [
       "[{'label': 'dirty windows', 'score': 0.8824572563171387, 'input': 0},\n",
       " {'label': 'weather | advice', 'score': 0.013599114492535591, 'input': 0},\n",
       " {'label': 'shallow narration', 'score': 0.011920100077986717, 'input': 0}]"
      ]
     },
     "execution_count": 202,
     "metadata": {},
     "output_type": "execute_result"
    }
   ],
   "source": [
    "for i in range(len(predictions)):\n",
    "    for l in predictions[i]:\n",
    "        l['input'] = i\n",
    "predictions[0]"
   ]
  },
  {
   "cell_type": "code",
   "execution_count": 203,
   "id": "70a578e3",
   "metadata": {},
   "outputs": [
    {
     "data": {
      "text/plain": [
       "1000"
      ]
     },
     "execution_count": 203,
     "metadata": {},
     "output_type": "execute_result"
    }
   ],
   "source": [
    "len(predictions)"
   ]
  },
  {
   "cell_type": "code",
   "execution_count": 204,
   "id": "495be830",
   "metadata": {},
   "outputs": [
    {
     "data": {
      "text/html": [
       "<div>\n",
       "<style scoped>\n",
       "    .dataframe tbody tr th:only-of-type {\n",
       "        vertical-align: middle;\n",
       "    }\n",
       "\n",
       "    .dataframe tbody tr th {\n",
       "        vertical-align: top;\n",
       "    }\n",
       "\n",
       "    .dataframe thead th {\n",
       "        text-align: right;\n",
       "    }\n",
       "</style>\n",
       "<table border=\"1\" class=\"dataframe\">\n",
       "  <thead>\n",
       "    <tr style=\"text-align: right;\">\n",
       "      <th></th>\n",
       "      <th>label</th>\n",
       "      <th>score</th>\n",
       "      <th>input</th>\n",
       "    </tr>\n",
       "  </thead>\n",
       "  <tbody>\n",
       "    <tr>\n",
       "      <th>0</th>\n",
       "      <td>dirty windows</td>\n",
       "      <td>0.882457</td>\n",
       "      <td>0</td>\n",
       "    </tr>\n",
       "    <tr>\n",
       "      <th>1</th>\n",
       "      <td>weather | advice</td>\n",
       "      <td>0.013599</td>\n",
       "      <td>0</td>\n",
       "    </tr>\n",
       "    <tr>\n",
       "      <th>2</th>\n",
       "      <td>shallow narration</td>\n",
       "      <td>0.011920</td>\n",
       "      <td>0</td>\n",
       "    </tr>\n",
       "    <tr>\n",
       "      <th>3</th>\n",
       "      <td>guide's attitude</td>\n",
       "      <td>0.991899</td>\n",
       "      <td>1</td>\n",
       "    </tr>\n",
       "    <tr>\n",
       "      <th>4</th>\n",
       "      <td>other tourists</td>\n",
       "      <td>0.001562</td>\n",
       "      <td>1</td>\n",
       "    </tr>\n",
       "    <tr>\n",
       "      <th>...</th>\n",
       "      <td>...</td>\n",
       "      <td>...</td>\n",
       "      <td>...</td>\n",
       "    </tr>\n",
       "    <tr>\n",
       "      <th>2995</th>\n",
       "      <td>other tourists</td>\n",
       "      <td>0.039468</td>\n",
       "      <td>998</td>\n",
       "    </tr>\n",
       "    <tr>\n",
       "      <th>2996</th>\n",
       "      <td>conditioning</td>\n",
       "      <td>0.023985</td>\n",
       "      <td>998</td>\n",
       "    </tr>\n",
       "    <tr>\n",
       "      <th>2997</th>\n",
       "      <td>shallow narration</td>\n",
       "      <td>0.451754</td>\n",
       "      <td>999</td>\n",
       "    </tr>\n",
       "    <tr>\n",
       "      <th>2998</th>\n",
       "      <td>guide's proficiency</td>\n",
       "      <td>0.441402</td>\n",
       "      <td>999</td>\n",
       "    </tr>\n",
       "    <tr>\n",
       "      <th>2999</th>\n",
       "      <td>no substance</td>\n",
       "      <td>0.048774</td>\n",
       "      <td>999</td>\n",
       "    </tr>\n",
       "  </tbody>\n",
       "</table>\n",
       "<p>3000 rows × 3 columns</p>\n",
       "</div>"
      ],
      "text/plain": [
       "                    label     score  input\n",
       "0           dirty windows  0.882457      0\n",
       "1        weather | advice  0.013599      0\n",
       "2       shallow narration  0.011920      0\n",
       "3        guide's attitude  0.991899      1\n",
       "4          other tourists  0.001562      1\n",
       "...                   ...       ...    ...\n",
       "2995       other tourists  0.039468    998\n",
       "2996         conditioning  0.023985    998\n",
       "2997    shallow narration  0.451754    999\n",
       "2998  guide's proficiency  0.441402    999\n",
       "2999         no substance  0.048774    999\n",
       "\n",
       "[3000 rows x 3 columns]"
      ]
     },
     "execution_count": 204,
     "metadata": {},
     "output_type": "execute_result"
    }
   ],
   "source": [
    "pd.DataFrame([p for pred in predictions for p in pred])"
   ]
  },
  {
   "cell_type": "markdown",
   "id": "fc8197af",
   "metadata": {},
   "source": [
    "#### On whole dataset"
   ]
  },
  {
   "cell_type": "code",
   "execution_count": 213,
   "id": "50630535",
   "metadata": {},
   "outputs": [
    {
     "data": {
      "text/plain": [
       "1167743"
      ]
     },
     "execution_count": 213,
     "metadata": {},
     "output_type": "execute_result"
    }
   ],
   "source": [
    "### Let's take 1K random sentences from dataset and process them with model\n",
    "\n",
    "X = aspect_df.SENTENCES.to_list()\n",
    "len(X)"
   ]
  },
  {
   "cell_type": "code",
   "execution_count": 214,
   "id": "956b463e",
   "metadata": {},
   "outputs": [],
   "source": [
    "for x in X:\n",
    "    if not isinstance(x, str):\n",
    "        print(x)"
   ]
  },
  {
   "cell_type": "code",
   "execution_count": 215,
   "id": "d7177ff2",
   "metadata": {},
   "outputs": [
    {
     "name": "stdout",
     "output_type": "stream",
     "text": [
      "CPU times: user 3h 33min 17s, sys: 4min 25s, total: 3h 37min 43s\n",
      "Wall time: 2h 13min 39s\n"
     ]
    }
   ],
   "source": [
    "%%time\n",
    "\n",
    "predictions = aspect_pipeline(X, top_k=3)"
   ]
  },
  {
   "cell_type": "code",
   "execution_count": 216,
   "id": "d55519d0",
   "metadata": {},
   "outputs": [
    {
     "data": {
      "text/plain": [
       "[{'label': 'appraisal', 'score': 0.9953857064247131, 'input': 0},\n",
       " {'label': 'unmet expectations', 'score': 0.001043315278366208, 'input': 0},\n",
       " {'label': 'unrelated', 'score': 0.0005615019472315907, 'input': 0}]"
      ]
     },
     "execution_count": 216,
     "metadata": {},
     "output_type": "execute_result"
    }
   ],
   "source": [
    "for i in range(len(predictions)):\n",
    "    for l in predictions[i]:\n",
    "        l['input'] = i\n",
    "predictions[0]"
   ]
  },
  {
   "cell_type": "code",
   "execution_count": 217,
   "id": "51f1d8d8",
   "metadata": {},
   "outputs": [
    {
     "data": {
      "text/plain": [
       "1167743"
      ]
     },
     "execution_count": 217,
     "metadata": {},
     "output_type": "execute_result"
    }
   ],
   "source": [
    "len(predictions)"
   ]
  },
  {
   "cell_type": "code",
   "execution_count": 218,
   "id": "9700ff22",
   "metadata": {},
   "outputs": [
    {
     "data": {
      "text/html": [
       "<div>\n",
       "<style scoped>\n",
       "    .dataframe tbody tr th:only-of-type {\n",
       "        vertical-align: middle;\n",
       "    }\n",
       "\n",
       "    .dataframe tbody tr th {\n",
       "        vertical-align: top;\n",
       "    }\n",
       "\n",
       "    .dataframe thead th {\n",
       "        text-align: right;\n",
       "    }\n",
       "</style>\n",
       "<table border=\"1\" class=\"dataframe\">\n",
       "  <thead>\n",
       "    <tr style=\"text-align: right;\">\n",
       "      <th></th>\n",
       "      <th>label</th>\n",
       "      <th>score</th>\n",
       "      <th>input</th>\n",
       "    </tr>\n",
       "  </thead>\n",
       "  <tbody>\n",
       "    <tr>\n",
       "      <th>0</th>\n",
       "      <td>appraisal</td>\n",
       "      <td>0.995386</td>\n",
       "      <td>0</td>\n",
       "    </tr>\n",
       "    <tr>\n",
       "      <th>1</th>\n",
       "      <td>unmet expectations</td>\n",
       "      <td>0.001043</td>\n",
       "      <td>0</td>\n",
       "    </tr>\n",
       "    <tr>\n",
       "      <th>2</th>\n",
       "      <td>unrelated</td>\n",
       "      <td>0.000562</td>\n",
       "      <td>0</td>\n",
       "    </tr>\n",
       "    <tr>\n",
       "      <th>3</th>\n",
       "      <td>appraisal</td>\n",
       "      <td>0.994948</td>\n",
       "      <td>1</td>\n",
       "    </tr>\n",
       "    <tr>\n",
       "      <th>4</th>\n",
       "      <td>guide's proficiency</td>\n",
       "      <td>0.001384</td>\n",
       "      <td>1</td>\n",
       "    </tr>\n",
       "    <tr>\n",
       "      <th>...</th>\n",
       "      <td>...</td>\n",
       "      <td>...</td>\n",
       "      <td>...</td>\n",
       "    </tr>\n",
       "    <tr>\n",
       "      <th>3503224</th>\n",
       "      <td>shallow narration</td>\n",
       "      <td>0.034770</td>\n",
       "      <td>1167741</td>\n",
       "    </tr>\n",
       "    <tr>\n",
       "      <th>3503225</th>\n",
       "      <td>theme divergence</td>\n",
       "      <td>0.004410</td>\n",
       "      <td>1167741</td>\n",
       "    </tr>\n",
       "    <tr>\n",
       "      <th>3503226</th>\n",
       "      <td>weather | advice</td>\n",
       "      <td>0.967364</td>\n",
       "      <td>1167742</td>\n",
       "    </tr>\n",
       "    <tr>\n",
       "      <th>3503227</th>\n",
       "      <td>weather</td>\n",
       "      <td>0.004993</td>\n",
       "      <td>1167742</td>\n",
       "    </tr>\n",
       "    <tr>\n",
       "      <th>3503228</th>\n",
       "      <td>hazard</td>\n",
       "      <td>0.004729</td>\n",
       "      <td>1167742</td>\n",
       "    </tr>\n",
       "  </tbody>\n",
       "</table>\n",
       "<p>3503229 rows × 3 columns</p>\n",
       "</div>"
      ],
      "text/plain": [
       "                       label     score    input\n",
       "0                  appraisal  0.995386        0\n",
       "1         unmet expectations  0.001043        0\n",
       "2                  unrelated  0.000562        0\n",
       "3                  appraisal  0.994948        1\n",
       "4        guide's proficiency  0.001384        1\n",
       "...                      ...       ...      ...\n",
       "3503224    shallow narration  0.034770  1167741\n",
       "3503225     theme divergence  0.004410  1167741\n",
       "3503226     weather | advice  0.967364  1167742\n",
       "3503227              weather  0.004993  1167742\n",
       "3503228               hazard  0.004729  1167742\n",
       "\n",
       "[3503229 rows x 3 columns]"
      ]
     },
     "execution_count": 218,
     "metadata": {},
     "output_type": "execute_result"
    }
   ],
   "source": [
    "pd.DataFrame([p for pred in predictions for p in pred])"
   ]
  },
  {
   "cell_type": "code",
   "execution_count": 219,
   "id": "92df59b1",
   "metadata": {},
   "outputs": [],
   "source": [
    "pd.DataFrame([p for pred in predictions for p in pred]).to_csv('./aspect_predictions_may24.csv', index=False)"
   ]
  },
  {
   "cell_type": "code",
   "execution_count": 222,
   "id": "4eb23e5e",
   "metadata": {},
   "outputs": [],
   "source": [
    "predictions = pd.DataFrame([p for pred in predictions for p in pred])"
   ]
  },
  {
   "cell_type": "code",
   "execution_count": 223,
   "id": "18558e43",
   "metadata": {},
   "outputs": [],
   "source": [
    "predictions = predictions.merge(aspect_df.reset_index(), how='left', left_on='input', right_on='index')"
   ]
  },
  {
   "cell_type": "code",
   "execution_count": 228,
   "id": "fd1292d3",
   "metadata": {},
   "outputs": [],
   "source": [
    "predictions['label_rank'] = [1,2,3] * (len(predictions) // 3)"
   ]
  },
  {
   "cell_type": "code",
   "execution_count": 230,
   "id": "f6482cf1",
   "metadata": {},
   "outputs": [],
   "source": [
    "predictions.NUM_SENT += 1"
   ]
  },
  {
   "cell_type": "code",
   "execution_count": 234,
   "id": "9ec55d0f",
   "metadata": {},
   "outputs": [
    {
     "data": {
      "text/html": [
       "<div>\n",
       "<style scoped>\n",
       "    .dataframe tbody tr th:only-of-type {\n",
       "        vertical-align: middle;\n",
       "    }\n",
       "\n",
       "    .dataframe tbody tr th {\n",
       "        vertical-align: top;\n",
       "    }\n",
       "\n",
       "    .dataframe thead th {\n",
       "        text-align: right;\n",
       "    }\n",
       "</style>\n",
       "<table border=\"1\" class=\"dataframe\">\n",
       "  <thead>\n",
       "    <tr style=\"text-align: right;\">\n",
       "      <th></th>\n",
       "      <th>label</th>\n",
       "      <th>score</th>\n",
       "      <th>input</th>\n",
       "      <th>index</th>\n",
       "      <th>REVIEW_ID</th>\n",
       "      <th>SENTENCES</th>\n",
       "      <th>NUM_SENT</th>\n",
       "      <th>label_rank</th>\n",
       "    </tr>\n",
       "  </thead>\n",
       "  <tbody>\n",
       "    <tr>\n",
       "      <th>0</th>\n",
       "      <td>appraisal</td>\n",
       "      <td>0.995386</td>\n",
       "      <td>0</td>\n",
       "      <td>0</td>\n",
       "      <td>AAAA78056139278555</td>\n",
       "      <td>Экскурсия прошла отлично</td>\n",
       "      <td>1</td>\n",
       "      <td>1</td>\n",
       "    </tr>\n",
       "    <tr>\n",
       "      <th>1</th>\n",
       "      <td>unmet expectations</td>\n",
       "      <td>0.001043</td>\n",
       "      <td>0</td>\n",
       "      <td>0</td>\n",
       "      <td>AAAA78056139278555</td>\n",
       "      <td>Экскурсия прошла отлично</td>\n",
       "      <td>1</td>\n",
       "      <td>2</td>\n",
       "    </tr>\n",
       "    <tr>\n",
       "      <th>2</th>\n",
       "      <td>unrelated</td>\n",
       "      <td>0.000562</td>\n",
       "      <td>0</td>\n",
       "      <td>0</td>\n",
       "      <td>AAAA78056139278555</td>\n",
       "      <td>Экскурсия прошла отлично</td>\n",
       "      <td>1</td>\n",
       "      <td>3</td>\n",
       "    </tr>\n",
       "    <tr>\n",
       "      <th>3</th>\n",
       "      <td>appraisal</td>\n",
       "      <td>0.994948</td>\n",
       "      <td>1</td>\n",
       "      <td>1</td>\n",
       "      <td>AAAA78056139278555</td>\n",
       "      <td>Огромное спасибо экскурсоводу Полине</td>\n",
       "      <td>2</td>\n",
       "      <td>1</td>\n",
       "    </tr>\n",
       "    <tr>\n",
       "      <th>4</th>\n",
       "      <td>guide's proficiency</td>\n",
       "      <td>0.001384</td>\n",
       "      <td>1</td>\n",
       "      <td>1</td>\n",
       "      <td>AAAA78056139278555</td>\n",
       "      <td>Огромное спасибо экскурсоводу Полине</td>\n",
       "      <td>2</td>\n",
       "      <td>2</td>\n",
       "    </tr>\n",
       "  </tbody>\n",
       "</table>\n",
       "</div>"
      ],
      "text/plain": [
       "                 label     score  input  index           REVIEW_ID  \\\n",
       "0            appraisal  0.995386      0      0  AAAA78056139278555   \n",
       "1   unmet expectations  0.001043      0      0  AAAA78056139278555   \n",
       "2            unrelated  0.000562      0      0  AAAA78056139278555   \n",
       "3            appraisal  0.994948      1      1  AAAA78056139278555   \n",
       "4  guide's proficiency  0.001384      1      1  AAAA78056139278555   \n",
       "\n",
       "                              SENTENCES  NUM_SENT  label_rank  \n",
       "0              Экскурсия прошла отлично         1           1  \n",
       "1              Экскурсия прошла отлично         1           2  \n",
       "2              Экскурсия прошла отлично         1           3  \n",
       "3  Огромное спасибо экскурсоводу Полине         2           1  \n",
       "4  Огромное спасибо экскурсоводу Полине         2           2  "
      ]
     },
     "execution_count": 234,
     "metadata": {},
     "output_type": "execute_result"
    }
   ],
   "source": [
    "predictions.head()"
   ]
  },
  {
   "cell_type": "code",
   "execution_count": 228,
   "id": "9ce17169",
   "metadata": {},
   "outputs": [],
   "source": [
    "predictions['label_rank'] = [1,2,3] * (len(predictions) // 3)"
   ]
  },
  {
   "cell_type": "code",
   "execution_count": 227,
   "id": "388f6359",
   "metadata": {},
   "outputs": [
    {
     "data": {
      "text/plain": [
       "1167743"
      ]
     },
     "execution_count": 227,
     "metadata": {},
     "output_type": "execute_result"
    }
   ],
   "source": []
  },
  {
   "cell_type": "code",
   "execution_count": 231,
   "id": "27752853",
   "metadata": {},
   "outputs": [],
   "source": [
    "predictions.to_csv('./aspect_predictions_may24.csv', index=False)"
   ]
  },
  {
   "cell_type": "code",
   "execution_count": 235,
   "id": "7e423d90",
   "metadata": {},
   "outputs": [],
   "source": [
    "for_db_df = predictions[['REVIEW_ID', 'NUM_SENT', 'label_rank', 'label', 'score']].copy(deep=True)\n",
    "del predictions"
   ]
  },
  {
   "cell_type": "code",
   "execution_count": null,
   "id": "8836c0bd",
   "metadata": {},
   "outputs": [],
   "source": [
    "for_db_df.reset_index(inplace=True)"
   ]
  },
  {
   "cell_type": "code",
   "execution_count": 238,
   "id": "65271c4e",
   "metadata": {},
   "outputs": [],
   "source": [
    "for_db_df.columns = ['id', 'review_id', 'sentence_num', 'label_num', 'predicted_label', 'prediction_score']"
   ]
  },
  {
   "cell_type": "code",
   "execution_count": 240,
   "id": "87636753",
   "metadata": {},
   "outputs": [],
   "source": [
    "for_db_df.id += 1"
   ]
  },
  {
   "cell_type": "code",
   "execution_count": 241,
   "id": "fed92a83",
   "metadata": {},
   "outputs": [
    {
     "data": {
      "text/html": [
       "<div>\n",
       "<style scoped>\n",
       "    .dataframe tbody tr th:only-of-type {\n",
       "        vertical-align: middle;\n",
       "    }\n",
       "\n",
       "    .dataframe tbody tr th {\n",
       "        vertical-align: top;\n",
       "    }\n",
       "\n",
       "    .dataframe thead th {\n",
       "        text-align: right;\n",
       "    }\n",
       "</style>\n",
       "<table border=\"1\" class=\"dataframe\">\n",
       "  <thead>\n",
       "    <tr style=\"text-align: right;\">\n",
       "      <th></th>\n",
       "      <th>id</th>\n",
       "      <th>review_id</th>\n",
       "      <th>sentence_num</th>\n",
       "      <th>label_num</th>\n",
       "      <th>predicted_label</th>\n",
       "      <th>prediction_score</th>\n",
       "    </tr>\n",
       "  </thead>\n",
       "  <tbody>\n",
       "    <tr>\n",
       "      <th>0</th>\n",
       "      <td>1</td>\n",
       "      <td>AAAA78056139278555</td>\n",
       "      <td>1</td>\n",
       "      <td>1</td>\n",
       "      <td>appraisal</td>\n",
       "      <td>0.995386</td>\n",
       "    </tr>\n",
       "    <tr>\n",
       "      <th>1</th>\n",
       "      <td>2</td>\n",
       "      <td>AAAA78056139278555</td>\n",
       "      <td>1</td>\n",
       "      <td>2</td>\n",
       "      <td>unmet expectations</td>\n",
       "      <td>0.001043</td>\n",
       "    </tr>\n",
       "    <tr>\n",
       "      <th>2</th>\n",
       "      <td>3</td>\n",
       "      <td>AAAA78056139278555</td>\n",
       "      <td>1</td>\n",
       "      <td>3</td>\n",
       "      <td>unrelated</td>\n",
       "      <td>0.000562</td>\n",
       "    </tr>\n",
       "    <tr>\n",
       "      <th>3</th>\n",
       "      <td>4</td>\n",
       "      <td>AAAA78056139278555</td>\n",
       "      <td>2</td>\n",
       "      <td>1</td>\n",
       "      <td>appraisal</td>\n",
       "      <td>0.994948</td>\n",
       "    </tr>\n",
       "    <tr>\n",
       "      <th>4</th>\n",
       "      <td>5</td>\n",
       "      <td>AAAA78056139278555</td>\n",
       "      <td>2</td>\n",
       "      <td>2</td>\n",
       "      <td>guide's proficiency</td>\n",
       "      <td>0.001384</td>\n",
       "    </tr>\n",
       "    <tr>\n",
       "      <th>...</th>\n",
       "      <td>...</td>\n",
       "      <td>...</td>\n",
       "      <td>...</td>\n",
       "      <td>...</td>\n",
       "      <td>...</td>\n",
       "      <td>...</td>\n",
       "    </tr>\n",
       "    <tr>\n",
       "      <th>3503224</th>\n",
       "      <td>3503225</td>\n",
       "      <td>ZZZZ65942033827504</td>\n",
       "      <td>4</td>\n",
       "      <td>2</td>\n",
       "      <td>shallow narration</td>\n",
       "      <td>0.034770</td>\n",
       "    </tr>\n",
       "    <tr>\n",
       "      <th>3503225</th>\n",
       "      <td>3503226</td>\n",
       "      <td>ZZZZ65942033827504</td>\n",
       "      <td>4</td>\n",
       "      <td>3</td>\n",
       "      <td>theme divergence</td>\n",
       "      <td>0.004410</td>\n",
       "    </tr>\n",
       "    <tr>\n",
       "      <th>3503226</th>\n",
       "      <td>3503227</td>\n",
       "      <td>ZZZZ65942033827504</td>\n",
       "      <td>5</td>\n",
       "      <td>1</td>\n",
       "      <td>weather | advice</td>\n",
       "      <td>0.967364</td>\n",
       "    </tr>\n",
       "    <tr>\n",
       "      <th>3503227</th>\n",
       "      <td>3503228</td>\n",
       "      <td>ZZZZ65942033827504</td>\n",
       "      <td>5</td>\n",
       "      <td>2</td>\n",
       "      <td>weather</td>\n",
       "      <td>0.004993</td>\n",
       "    </tr>\n",
       "    <tr>\n",
       "      <th>3503228</th>\n",
       "      <td>3503229</td>\n",
       "      <td>ZZZZ65942033827504</td>\n",
       "      <td>5</td>\n",
       "      <td>3</td>\n",
       "      <td>hazard</td>\n",
       "      <td>0.004729</td>\n",
       "    </tr>\n",
       "  </tbody>\n",
       "</table>\n",
       "<p>3503229 rows × 6 columns</p>\n",
       "</div>"
      ],
      "text/plain": [
       "              id           review_id  sentence_num  label_num  \\\n",
       "0              1  AAAA78056139278555             1          1   \n",
       "1              2  AAAA78056139278555             1          2   \n",
       "2              3  AAAA78056139278555             1          3   \n",
       "3              4  AAAA78056139278555             2          1   \n",
       "4              5  AAAA78056139278555             2          2   \n",
       "...          ...                 ...           ...        ...   \n",
       "3503224  3503225  ZZZZ65942033827504             4          2   \n",
       "3503225  3503226  ZZZZ65942033827504             4          3   \n",
       "3503226  3503227  ZZZZ65942033827504             5          1   \n",
       "3503227  3503228  ZZZZ65942033827504             5          2   \n",
       "3503228  3503229  ZZZZ65942033827504             5          3   \n",
       "\n",
       "             predicted_label  prediction_score  \n",
       "0                  appraisal          0.995386  \n",
       "1         unmet expectations          0.001043  \n",
       "2                  unrelated          0.000562  \n",
       "3                  appraisal          0.994948  \n",
       "4        guide's proficiency          0.001384  \n",
       "...                      ...               ...  \n",
       "3503224    shallow narration          0.034770  \n",
       "3503225     theme divergence          0.004410  \n",
       "3503226     weather | advice          0.967364  \n",
       "3503227              weather          0.004993  \n",
       "3503228               hazard          0.004729  \n",
       "\n",
       "[3503229 rows x 6 columns]"
      ]
     },
     "execution_count": 241,
     "metadata": {},
     "output_type": "execute_result"
    }
   ],
   "source": [
    "for_db_df"
   ]
  },
  {
   "cell_type": "code",
   "execution_count": 242,
   "id": "26b4b1e0",
   "metadata": {},
   "outputs": [],
   "source": [
    "for_db_df.to_csv('./aspect_predictions_for_db.csv', index=False)"
   ]
  },
  {
   "cell_type": "code",
   "execution_count": 247,
   "id": "3ddcc9a7",
   "metadata": {},
   "outputs": [
    {
     "data": {
      "text/plain": [
       "array(['appraisal', 'bland delivery', 'cancelation', 'conditioning',\n",
       "       'coordination', 'customer service', 'delay', 'dirty windows',\n",
       "       'fact misstatement', 'food', \"guide's attitude\",\n",
       "       \"guide's proficiency\", 'haste', 'hazard', 'humble route',\n",
       "       'no substance', 'offer disparity', 'other tourists', 'overpriced',\n",
       "       'price lift', 'program change', 'refund', 'rudeness & bigotry',\n",
       "       'shallow narration', 'stray', 'theme divergence', 'time shortage',\n",
       "       'unmet expectations', 'unrelated', 'vehicle', 'weather',\n",
       "       'weather | advice'], dtype=object)"
      ]
     },
     "execution_count": 247,
     "metadata": {},
     "output_type": "execute_result"
    }
   ],
   "source": [
    "np.sort(for_db_df.predicted_label.unique())"
   ]
  },
  {
   "cell_type": "code",
   "execution_count": 248,
   "id": "2b4bd153",
   "metadata": {},
   "outputs": [],
   "source": [
    "aspect_list = pd.DataFrame({'aspect_name': np.sort(for_db_df.predicted_label.unique())})"
   ]
  },
  {
   "cell_type": "code",
   "execution_count": 250,
   "id": "5bc3ca8d",
   "metadata": {},
   "outputs": [],
   "source": [
    "aspect_list.reset_index(inplace=True)\n",
    "aspect_list.columns=['id', 'aspect_name']\n",
    "aspect_list['id'] += 1"
   ]
  },
  {
   "cell_type": "code",
   "execution_count": 251,
   "id": "a82afe5a",
   "metadata": {},
   "outputs": [
    {
     "data": {
      "text/html": [
       "<div>\n",
       "<style scoped>\n",
       "    .dataframe tbody tr th:only-of-type {\n",
       "        vertical-align: middle;\n",
       "    }\n",
       "\n",
       "    .dataframe tbody tr th {\n",
       "        vertical-align: top;\n",
       "    }\n",
       "\n",
       "    .dataframe thead th {\n",
       "        text-align: right;\n",
       "    }\n",
       "</style>\n",
       "<table border=\"1\" class=\"dataframe\">\n",
       "  <thead>\n",
       "    <tr style=\"text-align: right;\">\n",
       "      <th></th>\n",
       "      <th>id</th>\n",
       "      <th>aspect_name</th>\n",
       "    </tr>\n",
       "  </thead>\n",
       "  <tbody>\n",
       "    <tr>\n",
       "      <th>0</th>\n",
       "      <td>1</td>\n",
       "      <td>appraisal</td>\n",
       "    </tr>\n",
       "    <tr>\n",
       "      <th>1</th>\n",
       "      <td>2</td>\n",
       "      <td>bland delivery</td>\n",
       "    </tr>\n",
       "    <tr>\n",
       "      <th>2</th>\n",
       "      <td>3</td>\n",
       "      <td>cancelation</td>\n",
       "    </tr>\n",
       "    <tr>\n",
       "      <th>3</th>\n",
       "      <td>4</td>\n",
       "      <td>conditioning</td>\n",
       "    </tr>\n",
       "    <tr>\n",
       "      <th>4</th>\n",
       "      <td>5</td>\n",
       "      <td>coordination</td>\n",
       "    </tr>\n",
       "  </tbody>\n",
       "</table>\n",
       "</div>"
      ],
      "text/plain": [
       "   id     aspect_name\n",
       "0   1       appraisal\n",
       "1   2  bland delivery\n",
       "2   3     cancelation\n",
       "3   4    conditioning\n",
       "4   5    coordination"
      ]
     },
     "execution_count": 251,
     "metadata": {},
     "output_type": "execute_result"
    }
   ],
   "source": [
    "aspect_list.head()"
   ]
  },
  {
   "cell_type": "code",
   "execution_count": 252,
   "id": "94c47304",
   "metadata": {},
   "outputs": [],
   "source": [
    "aspect_mapper = dict()\n",
    "i=1\n",
    "for a in np.sort(for_db_df.predicted_label.unique()):\n",
    "    aspect_mapper[a] = i\n",
    "    i+=1"
   ]
  },
  {
   "cell_type": "code",
   "execution_count": 253,
   "id": "bb681de5",
   "metadata": {
    "scrolled": true
   },
   "outputs": [
    {
     "data": {
      "text/plain": [
       "{'appraisal': 1,\n",
       " 'bland delivery': 2,\n",
       " 'cancelation': 3,\n",
       " 'conditioning': 4,\n",
       " 'coordination': 5,\n",
       " 'customer service': 6,\n",
       " 'delay': 7,\n",
       " 'dirty windows': 8,\n",
       " 'fact misstatement': 9,\n",
       " 'food': 10,\n",
       " \"guide's attitude\": 11,\n",
       " \"guide's proficiency\": 12,\n",
       " 'haste': 13,\n",
       " 'hazard': 14,\n",
       " 'humble route': 15,\n",
       " 'no substance': 16,\n",
       " 'offer disparity': 17,\n",
       " 'other tourists': 18,\n",
       " 'overpriced': 19,\n",
       " 'price lift': 20,\n",
       " 'program change': 21,\n",
       " 'refund': 22,\n",
       " 'rudeness & bigotry': 23,\n",
       " 'shallow narration': 24,\n",
       " 'stray': 25,\n",
       " 'theme divergence': 26,\n",
       " 'time shortage': 27,\n",
       " 'unmet expectations': 28,\n",
       " 'unrelated': 29,\n",
       " 'vehicle': 30,\n",
       " 'weather': 31,\n",
       " 'weather | advice': 32}"
      ]
     },
     "execution_count": 253,
     "metadata": {},
     "output_type": "execute_result"
    }
   ],
   "source": [
    "aspect_mapper"
   ]
  },
  {
   "cell_type": "code",
   "execution_count": 255,
   "id": "bec2d65e",
   "metadata": {},
   "outputs": [],
   "source": [
    "for_db_df.predicted_label = for_db_df.predicted_label.map(aspect_mapper)"
   ]
  },
  {
   "cell_type": "code",
   "execution_count": 256,
   "id": "c683e61d",
   "metadata": {},
   "outputs": [
    {
     "data": {
      "text/html": [
       "<div>\n",
       "<style scoped>\n",
       "    .dataframe tbody tr th:only-of-type {\n",
       "        vertical-align: middle;\n",
       "    }\n",
       "\n",
       "    .dataframe tbody tr th {\n",
       "        vertical-align: top;\n",
       "    }\n",
       "\n",
       "    .dataframe thead th {\n",
       "        text-align: right;\n",
       "    }\n",
       "</style>\n",
       "<table border=\"1\" class=\"dataframe\">\n",
       "  <thead>\n",
       "    <tr style=\"text-align: right;\">\n",
       "      <th></th>\n",
       "      <th>id</th>\n",
       "      <th>review_id</th>\n",
       "      <th>sentence_num</th>\n",
       "      <th>label_num</th>\n",
       "      <th>predicted_label</th>\n",
       "      <th>prediction_score</th>\n",
       "    </tr>\n",
       "  </thead>\n",
       "  <tbody>\n",
       "    <tr>\n",
       "      <th>0</th>\n",
       "      <td>1</td>\n",
       "      <td>AAAA78056139278555</td>\n",
       "      <td>1</td>\n",
       "      <td>1</td>\n",
       "      <td>1</td>\n",
       "      <td>0.995386</td>\n",
       "    </tr>\n",
       "    <tr>\n",
       "      <th>1</th>\n",
       "      <td>2</td>\n",
       "      <td>AAAA78056139278555</td>\n",
       "      <td>1</td>\n",
       "      <td>2</td>\n",
       "      <td>28</td>\n",
       "      <td>0.001043</td>\n",
       "    </tr>\n",
       "    <tr>\n",
       "      <th>2</th>\n",
       "      <td>3</td>\n",
       "      <td>AAAA78056139278555</td>\n",
       "      <td>1</td>\n",
       "      <td>3</td>\n",
       "      <td>29</td>\n",
       "      <td>0.000562</td>\n",
       "    </tr>\n",
       "    <tr>\n",
       "      <th>3</th>\n",
       "      <td>4</td>\n",
       "      <td>AAAA78056139278555</td>\n",
       "      <td>2</td>\n",
       "      <td>1</td>\n",
       "      <td>1</td>\n",
       "      <td>0.994948</td>\n",
       "    </tr>\n",
       "    <tr>\n",
       "      <th>4</th>\n",
       "      <td>5</td>\n",
       "      <td>AAAA78056139278555</td>\n",
       "      <td>2</td>\n",
       "      <td>2</td>\n",
       "      <td>12</td>\n",
       "      <td>0.001384</td>\n",
       "    </tr>\n",
       "    <tr>\n",
       "      <th>...</th>\n",
       "      <td>...</td>\n",
       "      <td>...</td>\n",
       "      <td>...</td>\n",
       "      <td>...</td>\n",
       "      <td>...</td>\n",
       "      <td>...</td>\n",
       "    </tr>\n",
       "    <tr>\n",
       "      <th>3503224</th>\n",
       "      <td>3503225</td>\n",
       "      <td>ZZZZ65942033827504</td>\n",
       "      <td>4</td>\n",
       "      <td>2</td>\n",
       "      <td>24</td>\n",
       "      <td>0.034770</td>\n",
       "    </tr>\n",
       "    <tr>\n",
       "      <th>3503225</th>\n",
       "      <td>3503226</td>\n",
       "      <td>ZZZZ65942033827504</td>\n",
       "      <td>4</td>\n",
       "      <td>3</td>\n",
       "      <td>26</td>\n",
       "      <td>0.004410</td>\n",
       "    </tr>\n",
       "    <tr>\n",
       "      <th>3503226</th>\n",
       "      <td>3503227</td>\n",
       "      <td>ZZZZ65942033827504</td>\n",
       "      <td>5</td>\n",
       "      <td>1</td>\n",
       "      <td>32</td>\n",
       "      <td>0.967364</td>\n",
       "    </tr>\n",
       "    <tr>\n",
       "      <th>3503227</th>\n",
       "      <td>3503228</td>\n",
       "      <td>ZZZZ65942033827504</td>\n",
       "      <td>5</td>\n",
       "      <td>2</td>\n",
       "      <td>31</td>\n",
       "      <td>0.004993</td>\n",
       "    </tr>\n",
       "    <tr>\n",
       "      <th>3503228</th>\n",
       "      <td>3503229</td>\n",
       "      <td>ZZZZ65942033827504</td>\n",
       "      <td>5</td>\n",
       "      <td>3</td>\n",
       "      <td>14</td>\n",
       "      <td>0.004729</td>\n",
       "    </tr>\n",
       "  </tbody>\n",
       "</table>\n",
       "<p>3503229 rows × 6 columns</p>\n",
       "</div>"
      ],
      "text/plain": [
       "              id           review_id  sentence_num  label_num  \\\n",
       "0              1  AAAA78056139278555             1          1   \n",
       "1              2  AAAA78056139278555             1          2   \n",
       "2              3  AAAA78056139278555             1          3   \n",
       "3              4  AAAA78056139278555             2          1   \n",
       "4              5  AAAA78056139278555             2          2   \n",
       "...          ...                 ...           ...        ...   \n",
       "3503224  3503225  ZZZZ65942033827504             4          2   \n",
       "3503225  3503226  ZZZZ65942033827504             4          3   \n",
       "3503226  3503227  ZZZZ65942033827504             5          1   \n",
       "3503227  3503228  ZZZZ65942033827504             5          2   \n",
       "3503228  3503229  ZZZZ65942033827504             5          3   \n",
       "\n",
       "         predicted_label  prediction_score  \n",
       "0                      1          0.995386  \n",
       "1                     28          0.001043  \n",
       "2                     29          0.000562  \n",
       "3                      1          0.994948  \n",
       "4                     12          0.001384  \n",
       "...                  ...               ...  \n",
       "3503224               24          0.034770  \n",
       "3503225               26          0.004410  \n",
       "3503226               32          0.967364  \n",
       "3503227               31          0.004993  \n",
       "3503228               14          0.004729  \n",
       "\n",
       "[3503229 rows x 6 columns]"
      ]
     },
     "execution_count": 256,
     "metadata": {},
     "output_type": "execute_result"
    }
   ],
   "source": [
    "for_db_df"
   ]
  },
  {
   "cell_type": "code",
   "execution_count": 257,
   "id": "1dbb668e",
   "metadata": {},
   "outputs": [],
   "source": [
    "for_db_df.to_csv('./mapped_aspect_predictions_for_db.csv', index=False)"
   ]
  },
  {
   "cell_type": "code",
   "execution_count": 258,
   "id": "08aeb5bc",
   "metadata": {},
   "outputs": [],
   "source": [
    "aspect_list.to_csv('./aspect_mapper.csv', index=False)"
   ]
  },
  {
   "cell_type": "code",
   "execution_count": 259,
   "id": "249cf4f0",
   "metadata": {},
   "outputs": [],
   "source": [
    "del for_db_df"
   ]
  },
  {
   "cell_type": "markdown",
   "id": "b5a6c743",
   "metadata": {},
   "source": [
    "## Repurchase Model"
   ]
  },
  {
   "cell_type": "code",
   "execution_count": 260,
   "id": "5179c3f2",
   "metadata": {},
   "outputs": [
    {
     "data": {
      "application/vnd.jupyter.widget-view+json": {
       "model_id": "84596ed940fc444eb1c068663f622595",
       "version_major": 2,
       "version_minor": 0
      },
      "text/plain": [
       "config.json:   0%|          | 0.00/754 [00:00<?, ?B/s]"
      ]
     },
     "metadata": {},
     "output_type": "display_data"
    },
    {
     "data": {
      "application/vnd.jupyter.widget-view+json": {
       "model_id": "31847f89e91d45b8928e158aae919602",
       "version_major": 2,
       "version_minor": 0
      },
      "text/plain": [
       "model.safetensors:   0%|          | 0.00/117M [00:00<?, ?B/s]"
      ]
     },
     "metadata": {},
     "output_type": "display_data"
    },
    {
     "data": {
      "application/vnd.jupyter.widget-view+json": {
       "model_id": "e5f75d56e1f74d4bb7217c3f636e0dfd",
       "version_major": 2,
       "version_minor": 0
      },
      "text/plain": [
       "tokenizer_config.json:   0%|          | 0.00/1.43k [00:00<?, ?B/s]"
      ]
     },
     "metadata": {},
     "output_type": "display_data"
    },
    {
     "data": {
      "application/vnd.jupyter.widget-view+json": {
       "model_id": "874d51ac0c19497aaa6441583da7a058",
       "version_major": 2,
       "version_minor": 0
      },
      "text/plain": [
       "vocab.txt:   0%|          | 0.00/1.08M [00:00<?, ?B/s]"
      ]
     },
     "metadata": {},
     "output_type": "display_data"
    },
    {
     "data": {
      "application/vnd.jupyter.widget-view+json": {
       "model_id": "d781f9aefbf148d69d6d3a53c4f951d6",
       "version_major": 2,
       "version_minor": 0
      },
      "text/plain": [
       "tokenizer.json:   0%|          | 0.00/2.41M [00:00<?, ?B/s]"
      ]
     },
     "metadata": {},
     "output_type": "display_data"
    },
    {
     "data": {
      "application/vnd.jupyter.widget-view+json": {
       "model_id": "f4948aa8664a4163b94029f2f4849bae",
       "version_major": 2,
       "version_minor": 0
      },
      "text/plain": [
       "special_tokens_map.json:   0%|          | 0.00/695 [00:00<?, ?B/s]"
      ]
     },
     "metadata": {},
     "output_type": "display_data"
    }
   ],
   "source": [
    "repurchase_pipeline = pipeline(\"text-classification\", model=\"laskovey/repurchase_train6\")"
   ]
  },
  {
   "cell_type": "markdown",
   "id": "af28037b",
   "metadata": {},
   "source": [
    "#### On small sample"
   ]
  },
  {
   "cell_type": "code",
   "execution_count": 200,
   "id": "a1edf6a5",
   "metadata": {},
   "outputs": [],
   "source": [
    "### Let's take 1K random sentences from dataset and process them with model\n",
    "\n",
    "aspect_sample = aspect_df.sample(1000, random_state=42).SENTENCES.to_list()"
   ]
  },
  {
   "cell_type": "code",
   "execution_count": 189,
   "id": "5d62ef5c",
   "metadata": {},
   "outputs": [
    {
     "data": {
      "text/plain": [
       "[[{'label': 'dirty windows', 'score': 0.8824572563171387},\n",
       "  {'label': 'weather | advice', 'score': 0.013599114492535591},\n",
       "  {'label': 'shallow narration', 'score': 0.011920100077986717}],\n",
       " [{'label': \"guide's attitude\", 'score': 0.9918985366821289},\n",
       "  {'label': 'other tourists', 'score': 0.0015616669552400708},\n",
       "  {'label': 'rudeness & bigotry', 'score': 0.0014073505299165845}],\n",
       " [{'label': 'bland delivery', 'score': 0.22799576818943024},\n",
       "  {'label': \"guide's proficiency\", 'score': 0.1810142993927002},\n",
       "  {'label': 'food', 'score': 0.0974428728222847}],\n",
       " [{'label': 'weather | advice', 'score': 0.9673636555671692},\n",
       "  {'label': 'weather', 'score': 0.004992982838302851},\n",
       "  {'label': 'hazard', 'score': 0.004728697240352631}],\n",
       " [{'label': 'unmet expectations', 'score': 0.9866977334022522},\n",
       "  {'label': 'appraisal', 'score': 0.003169543808326125},\n",
       "  {'label': 'other tourists', 'score': 0.0016154070617631078}],\n",
       " [{'label': \"guide's attitude\", 'score': 0.36717474460601807},\n",
       "  {'label': 'other tourists', 'score': 0.27540430426597595},\n",
       "  {'label': 'rudeness & bigotry', 'score': 0.13899144530296326}],\n",
       " [{'label': \"guide's attitude\", 'score': 0.8179833292961121},\n",
       "  {'label': 'vehicle', 'score': 0.04568362608551979},\n",
       "  {'label': 'other tourists', 'score': 0.04084904491901398}],\n",
       " [{'label': 'delay', 'score': 0.9854391813278198},\n",
       "  {'label': 'unmet expectations', 'score': 0.0034197811037302017},\n",
       "  {'label': 'time shortage', 'score': 0.0030447172466665506}],\n",
       " [{'label': 'price lift', 'score': 0.9674103856086731},\n",
       "  {'label': 'refund', 'score': 0.00406438997015357},\n",
       "  {'label': 'weather | advice', 'score': 0.0026126715820282698}],\n",
       " [{'label': \"guide's attitude\", 'score': 0.9926221370697021},\n",
       "  {'label': 'unrelated', 'score': 0.001171925337985158},\n",
       "  {'label': 'other tourists', 'score': 0.0011633039684966207}]]"
      ]
     },
     "execution_count": 189,
     "metadata": {},
     "output_type": "execute_result"
    }
   ],
   "source": [
    "aspect_pipeline(aspect_sample, top_k=3)"
   ]
  },
  {
   "cell_type": "code",
   "execution_count": 201,
   "id": "d32a0ff2",
   "metadata": {},
   "outputs": [
    {
     "name": "stdout",
     "output_type": "stream",
     "text": [
      "CPU times: user 9.82 s, sys: 293 ms, total: 10.1 s\n",
      "Wall time: 6.27 s\n"
     ]
    }
   ],
   "source": [
    "%%time\n",
    "\n",
    "predictions = aspect_pipeline(aspect_sample, top_k=3)"
   ]
  },
  {
   "cell_type": "code",
   "execution_count": 202,
   "id": "ae35cbbb",
   "metadata": {},
   "outputs": [
    {
     "data": {
      "text/plain": [
       "[{'label': 'dirty windows', 'score': 0.8824572563171387, 'input': 0},\n",
       " {'label': 'weather | advice', 'score': 0.013599114492535591, 'input': 0},\n",
       " {'label': 'shallow narration', 'score': 0.011920100077986717, 'input': 0}]"
      ]
     },
     "execution_count": 202,
     "metadata": {},
     "output_type": "execute_result"
    }
   ],
   "source": [
    "for i in range(len(predictions)):\n",
    "    for l in predictions[i]:\n",
    "        l['input'] = i\n",
    "predictions[0]"
   ]
  },
  {
   "cell_type": "code",
   "execution_count": 203,
   "id": "056dca59",
   "metadata": {},
   "outputs": [
    {
     "data": {
      "text/plain": [
       "1000"
      ]
     },
     "execution_count": 203,
     "metadata": {},
     "output_type": "execute_result"
    }
   ],
   "source": [
    "len(predictions)"
   ]
  },
  {
   "cell_type": "code",
   "execution_count": 204,
   "id": "1d2e1001",
   "metadata": {},
   "outputs": [
    {
     "data": {
      "text/html": [
       "<div>\n",
       "<style scoped>\n",
       "    .dataframe tbody tr th:only-of-type {\n",
       "        vertical-align: middle;\n",
       "    }\n",
       "\n",
       "    .dataframe tbody tr th {\n",
       "        vertical-align: top;\n",
       "    }\n",
       "\n",
       "    .dataframe thead th {\n",
       "        text-align: right;\n",
       "    }\n",
       "</style>\n",
       "<table border=\"1\" class=\"dataframe\">\n",
       "  <thead>\n",
       "    <tr style=\"text-align: right;\">\n",
       "      <th></th>\n",
       "      <th>label</th>\n",
       "      <th>score</th>\n",
       "      <th>input</th>\n",
       "    </tr>\n",
       "  </thead>\n",
       "  <tbody>\n",
       "    <tr>\n",
       "      <th>0</th>\n",
       "      <td>dirty windows</td>\n",
       "      <td>0.882457</td>\n",
       "      <td>0</td>\n",
       "    </tr>\n",
       "    <tr>\n",
       "      <th>1</th>\n",
       "      <td>weather | advice</td>\n",
       "      <td>0.013599</td>\n",
       "      <td>0</td>\n",
       "    </tr>\n",
       "    <tr>\n",
       "      <th>2</th>\n",
       "      <td>shallow narration</td>\n",
       "      <td>0.011920</td>\n",
       "      <td>0</td>\n",
       "    </tr>\n",
       "    <tr>\n",
       "      <th>3</th>\n",
       "      <td>guide's attitude</td>\n",
       "      <td>0.991899</td>\n",
       "      <td>1</td>\n",
       "    </tr>\n",
       "    <tr>\n",
       "      <th>4</th>\n",
       "      <td>other tourists</td>\n",
       "      <td>0.001562</td>\n",
       "      <td>1</td>\n",
       "    </tr>\n",
       "    <tr>\n",
       "      <th>...</th>\n",
       "      <td>...</td>\n",
       "      <td>...</td>\n",
       "      <td>...</td>\n",
       "    </tr>\n",
       "    <tr>\n",
       "      <th>2995</th>\n",
       "      <td>other tourists</td>\n",
       "      <td>0.039468</td>\n",
       "      <td>998</td>\n",
       "    </tr>\n",
       "    <tr>\n",
       "      <th>2996</th>\n",
       "      <td>conditioning</td>\n",
       "      <td>0.023985</td>\n",
       "      <td>998</td>\n",
       "    </tr>\n",
       "    <tr>\n",
       "      <th>2997</th>\n",
       "      <td>shallow narration</td>\n",
       "      <td>0.451754</td>\n",
       "      <td>999</td>\n",
       "    </tr>\n",
       "    <tr>\n",
       "      <th>2998</th>\n",
       "      <td>guide's proficiency</td>\n",
       "      <td>0.441402</td>\n",
       "      <td>999</td>\n",
       "    </tr>\n",
       "    <tr>\n",
       "      <th>2999</th>\n",
       "      <td>no substance</td>\n",
       "      <td>0.048774</td>\n",
       "      <td>999</td>\n",
       "    </tr>\n",
       "  </tbody>\n",
       "</table>\n",
       "<p>3000 rows × 3 columns</p>\n",
       "</div>"
      ],
      "text/plain": [
       "                    label     score  input\n",
       "0           dirty windows  0.882457      0\n",
       "1        weather | advice  0.013599      0\n",
       "2       shallow narration  0.011920      0\n",
       "3        guide's attitude  0.991899      1\n",
       "4          other tourists  0.001562      1\n",
       "...                   ...       ...    ...\n",
       "2995       other tourists  0.039468    998\n",
       "2996         conditioning  0.023985    998\n",
       "2997    shallow narration  0.451754    999\n",
       "2998  guide's proficiency  0.441402    999\n",
       "2999         no substance  0.048774    999\n",
       "\n",
       "[3000 rows x 3 columns]"
      ]
     },
     "execution_count": 204,
     "metadata": {},
     "output_type": "execute_result"
    }
   ],
   "source": [
    "pd.DataFrame([p for pred in predictions for p in pred])"
   ]
  },
  {
   "cell_type": "markdown",
   "id": "438da5fa",
   "metadata": {},
   "source": [
    "#### On whole dataset"
   ]
  },
  {
   "cell_type": "code",
   "execution_count": 213,
   "id": "1e5bc368",
   "metadata": {},
   "outputs": [
    {
     "data": {
      "text/plain": [
       "1167743"
      ]
     },
     "execution_count": 213,
     "metadata": {},
     "output_type": "execute_result"
    }
   ],
   "source": [
    "### Let's take 1K random sentences from dataset and process them with model\n",
    "\n",
    "X = aspect_df.SENTENCES.to_list()\n",
    "len(X)"
   ]
  },
  {
   "cell_type": "code",
   "execution_count": 214,
   "id": "5e5c2839",
   "metadata": {},
   "outputs": [],
   "source": [
    "for x in X:\n",
    "    if not isinstance(x, str):\n",
    "        print(x)"
   ]
  },
  {
   "cell_type": "code",
   "execution_count": 215,
   "id": "b1d88396",
   "metadata": {},
   "outputs": [
    {
     "name": "stdout",
     "output_type": "stream",
     "text": [
      "CPU times: user 3h 33min 17s, sys: 4min 25s, total: 3h 37min 43s\n",
      "Wall time: 2h 13min 39s\n"
     ]
    }
   ],
   "source": [
    "%%time\n",
    "\n",
    "predictions = aspect_pipeline(X, top_k=3)"
   ]
  },
  {
   "cell_type": "code",
   "execution_count": 216,
   "id": "3ec183e7",
   "metadata": {},
   "outputs": [
    {
     "data": {
      "text/plain": [
       "[{'label': 'appraisal', 'score': 0.9953857064247131, 'input': 0},\n",
       " {'label': 'unmet expectations', 'score': 0.001043315278366208, 'input': 0},\n",
       " {'label': 'unrelated', 'score': 0.0005615019472315907, 'input': 0}]"
      ]
     },
     "execution_count": 216,
     "metadata": {},
     "output_type": "execute_result"
    }
   ],
   "source": [
    "for i in range(len(predictions)):\n",
    "    for l in predictions[i]:\n",
    "        l['input'] = i\n",
    "predictions[0]"
   ]
  },
  {
   "cell_type": "code",
   "execution_count": 217,
   "id": "b16fd2e5",
   "metadata": {},
   "outputs": [
    {
     "data": {
      "text/plain": [
       "1167743"
      ]
     },
     "execution_count": 217,
     "metadata": {},
     "output_type": "execute_result"
    }
   ],
   "source": [
    "len(predictions)"
   ]
  },
  {
   "cell_type": "code",
   "execution_count": 218,
   "id": "99d733f5",
   "metadata": {},
   "outputs": [
    {
     "data": {
      "text/html": [
       "<div>\n",
       "<style scoped>\n",
       "    .dataframe tbody tr th:only-of-type {\n",
       "        vertical-align: middle;\n",
       "    }\n",
       "\n",
       "    .dataframe tbody tr th {\n",
       "        vertical-align: top;\n",
       "    }\n",
       "\n",
       "    .dataframe thead th {\n",
       "        text-align: right;\n",
       "    }\n",
       "</style>\n",
       "<table border=\"1\" class=\"dataframe\">\n",
       "  <thead>\n",
       "    <tr style=\"text-align: right;\">\n",
       "      <th></th>\n",
       "      <th>label</th>\n",
       "      <th>score</th>\n",
       "      <th>input</th>\n",
       "    </tr>\n",
       "  </thead>\n",
       "  <tbody>\n",
       "    <tr>\n",
       "      <th>0</th>\n",
       "      <td>appraisal</td>\n",
       "      <td>0.995386</td>\n",
       "      <td>0</td>\n",
       "    </tr>\n",
       "    <tr>\n",
       "      <th>1</th>\n",
       "      <td>unmet expectations</td>\n",
       "      <td>0.001043</td>\n",
       "      <td>0</td>\n",
       "    </tr>\n",
       "    <tr>\n",
       "      <th>2</th>\n",
       "      <td>unrelated</td>\n",
       "      <td>0.000562</td>\n",
       "      <td>0</td>\n",
       "    </tr>\n",
       "    <tr>\n",
       "      <th>3</th>\n",
       "      <td>appraisal</td>\n",
       "      <td>0.994948</td>\n",
       "      <td>1</td>\n",
       "    </tr>\n",
       "    <tr>\n",
       "      <th>4</th>\n",
       "      <td>guide's proficiency</td>\n",
       "      <td>0.001384</td>\n",
       "      <td>1</td>\n",
       "    </tr>\n",
       "    <tr>\n",
       "      <th>...</th>\n",
       "      <td>...</td>\n",
       "      <td>...</td>\n",
       "      <td>...</td>\n",
       "    </tr>\n",
       "    <tr>\n",
       "      <th>3503224</th>\n",
       "      <td>shallow narration</td>\n",
       "      <td>0.034770</td>\n",
       "      <td>1167741</td>\n",
       "    </tr>\n",
       "    <tr>\n",
       "      <th>3503225</th>\n",
       "      <td>theme divergence</td>\n",
       "      <td>0.004410</td>\n",
       "      <td>1167741</td>\n",
       "    </tr>\n",
       "    <tr>\n",
       "      <th>3503226</th>\n",
       "      <td>weather | advice</td>\n",
       "      <td>0.967364</td>\n",
       "      <td>1167742</td>\n",
       "    </tr>\n",
       "    <tr>\n",
       "      <th>3503227</th>\n",
       "      <td>weather</td>\n",
       "      <td>0.004993</td>\n",
       "      <td>1167742</td>\n",
       "    </tr>\n",
       "    <tr>\n",
       "      <th>3503228</th>\n",
       "      <td>hazard</td>\n",
       "      <td>0.004729</td>\n",
       "      <td>1167742</td>\n",
       "    </tr>\n",
       "  </tbody>\n",
       "</table>\n",
       "<p>3503229 rows × 3 columns</p>\n",
       "</div>"
      ],
      "text/plain": [
       "                       label     score    input\n",
       "0                  appraisal  0.995386        0\n",
       "1         unmet expectations  0.001043        0\n",
       "2                  unrelated  0.000562        0\n",
       "3                  appraisal  0.994948        1\n",
       "4        guide's proficiency  0.001384        1\n",
       "...                      ...       ...      ...\n",
       "3503224    shallow narration  0.034770  1167741\n",
       "3503225     theme divergence  0.004410  1167741\n",
       "3503226     weather | advice  0.967364  1167742\n",
       "3503227              weather  0.004993  1167742\n",
       "3503228               hazard  0.004729  1167742\n",
       "\n",
       "[3503229 rows x 3 columns]"
      ]
     },
     "execution_count": 218,
     "metadata": {},
     "output_type": "execute_result"
    }
   ],
   "source": [
    "pd.DataFrame([p for pred in predictions for p in pred])"
   ]
  },
  {
   "cell_type": "code",
   "execution_count": 219,
   "id": "a2ef8ff1",
   "metadata": {},
   "outputs": [],
   "source": [
    "pd.DataFrame([p for pred in predictions for p in pred]).to_csv('./aspect_predictions_may24.csv', index=False)"
   ]
  },
  {
   "cell_type": "code",
   "execution_count": 222,
   "id": "e64c81a7",
   "metadata": {},
   "outputs": [],
   "source": [
    "predictions = pd.DataFrame([p for pred in predictions for p in pred])"
   ]
  },
  {
   "cell_type": "code",
   "execution_count": 223,
   "id": "3058b1f9",
   "metadata": {},
   "outputs": [],
   "source": [
    "predictions = predictions.merge(aspect_df.reset_index(), how='left', left_on='input', right_on='index')"
   ]
  },
  {
   "cell_type": "code",
   "execution_count": 228,
   "id": "264f0e2c",
   "metadata": {},
   "outputs": [],
   "source": [
    "predictions['label_rank'] = [1,2,3] * (len(predictions) // 3)"
   ]
  },
  {
   "cell_type": "code",
   "execution_count": 230,
   "id": "81feebcc",
   "metadata": {},
   "outputs": [],
   "source": [
    "predictions.NUM_SENT += 1"
   ]
  },
  {
   "cell_type": "code",
   "execution_count": 234,
   "id": "9707eb10",
   "metadata": {},
   "outputs": [
    {
     "data": {
      "text/html": [
       "<div>\n",
       "<style scoped>\n",
       "    .dataframe tbody tr th:only-of-type {\n",
       "        vertical-align: middle;\n",
       "    }\n",
       "\n",
       "    .dataframe tbody tr th {\n",
       "        vertical-align: top;\n",
       "    }\n",
       "\n",
       "    .dataframe thead th {\n",
       "        text-align: right;\n",
       "    }\n",
       "</style>\n",
       "<table border=\"1\" class=\"dataframe\">\n",
       "  <thead>\n",
       "    <tr style=\"text-align: right;\">\n",
       "      <th></th>\n",
       "      <th>label</th>\n",
       "      <th>score</th>\n",
       "      <th>input</th>\n",
       "      <th>index</th>\n",
       "      <th>REVIEW_ID</th>\n",
       "      <th>SENTENCES</th>\n",
       "      <th>NUM_SENT</th>\n",
       "      <th>label_rank</th>\n",
       "    </tr>\n",
       "  </thead>\n",
       "  <tbody>\n",
       "    <tr>\n",
       "      <th>0</th>\n",
       "      <td>appraisal</td>\n",
       "      <td>0.995386</td>\n",
       "      <td>0</td>\n",
       "      <td>0</td>\n",
       "      <td>AAAA78056139278555</td>\n",
       "      <td>Экскурсия прошла отлично</td>\n",
       "      <td>1</td>\n",
       "      <td>1</td>\n",
       "    </tr>\n",
       "    <tr>\n",
       "      <th>1</th>\n",
       "      <td>unmet expectations</td>\n",
       "      <td>0.001043</td>\n",
       "      <td>0</td>\n",
       "      <td>0</td>\n",
       "      <td>AAAA78056139278555</td>\n",
       "      <td>Экскурсия прошла отлично</td>\n",
       "      <td>1</td>\n",
       "      <td>2</td>\n",
       "    </tr>\n",
       "    <tr>\n",
       "      <th>2</th>\n",
       "      <td>unrelated</td>\n",
       "      <td>0.000562</td>\n",
       "      <td>0</td>\n",
       "      <td>0</td>\n",
       "      <td>AAAA78056139278555</td>\n",
       "      <td>Экскурсия прошла отлично</td>\n",
       "      <td>1</td>\n",
       "      <td>3</td>\n",
       "    </tr>\n",
       "    <tr>\n",
       "      <th>3</th>\n",
       "      <td>appraisal</td>\n",
       "      <td>0.994948</td>\n",
       "      <td>1</td>\n",
       "      <td>1</td>\n",
       "      <td>AAAA78056139278555</td>\n",
       "      <td>Огромное спасибо экскурсоводу Полине</td>\n",
       "      <td>2</td>\n",
       "      <td>1</td>\n",
       "    </tr>\n",
       "    <tr>\n",
       "      <th>4</th>\n",
       "      <td>guide's proficiency</td>\n",
       "      <td>0.001384</td>\n",
       "      <td>1</td>\n",
       "      <td>1</td>\n",
       "      <td>AAAA78056139278555</td>\n",
       "      <td>Огромное спасибо экскурсоводу Полине</td>\n",
       "      <td>2</td>\n",
       "      <td>2</td>\n",
       "    </tr>\n",
       "  </tbody>\n",
       "</table>\n",
       "</div>"
      ],
      "text/plain": [
       "                 label     score  input  index           REVIEW_ID  \\\n",
       "0            appraisal  0.995386      0      0  AAAA78056139278555   \n",
       "1   unmet expectations  0.001043      0      0  AAAA78056139278555   \n",
       "2            unrelated  0.000562      0      0  AAAA78056139278555   \n",
       "3            appraisal  0.994948      1      1  AAAA78056139278555   \n",
       "4  guide's proficiency  0.001384      1      1  AAAA78056139278555   \n",
       "\n",
       "                              SENTENCES  NUM_SENT  label_rank  \n",
       "0              Экскурсия прошла отлично         1           1  \n",
       "1              Экскурсия прошла отлично         1           2  \n",
       "2              Экскурсия прошла отлично         1           3  \n",
       "3  Огромное спасибо экскурсоводу Полине         2           1  \n",
       "4  Огромное спасибо экскурсоводу Полине         2           2  "
      ]
     },
     "execution_count": 234,
     "metadata": {},
     "output_type": "execute_result"
    }
   ],
   "source": [
    "predictions.head()"
   ]
  },
  {
   "cell_type": "code",
   "execution_count": 228,
   "id": "0d0e3213",
   "metadata": {},
   "outputs": [],
   "source": [
    "predictions['label_rank'] = [1,2,3] * (len(predictions) // 3)"
   ]
  },
  {
   "cell_type": "code",
   "execution_count": 227,
   "id": "fe7c675a",
   "metadata": {},
   "outputs": [
    {
     "data": {
      "text/plain": [
       "1167743"
      ]
     },
     "execution_count": 227,
     "metadata": {},
     "output_type": "execute_result"
    }
   ],
   "source": []
  },
  {
   "cell_type": "code",
   "execution_count": 231,
   "id": "e69b32d8",
   "metadata": {},
   "outputs": [],
   "source": [
    "predictions.to_csv('./aspect_predictions_may24.csv', index=False)"
   ]
  },
  {
   "cell_type": "code",
   "execution_count": 235,
   "id": "ab274160",
   "metadata": {},
   "outputs": [],
   "source": [
    "for_db_df = predictions[['REVIEW_ID', 'NUM_SENT', 'label_rank', 'label', 'score']].copy(deep=True)\n",
    "del predictions"
   ]
  },
  {
   "cell_type": "code",
   "execution_count": null,
   "id": "4264b6d9",
   "metadata": {},
   "outputs": [],
   "source": [
    "for_db_df.reset_index(inplace=True)"
   ]
  },
  {
   "cell_type": "code",
   "execution_count": 238,
   "id": "a689f7d8",
   "metadata": {},
   "outputs": [],
   "source": [
    "for_db_df.columns = ['id', 'review_id', 'sentence_num', 'label_num', 'predicted_label', 'prediction_score']"
   ]
  },
  {
   "cell_type": "code",
   "execution_count": 240,
   "id": "93d742b5",
   "metadata": {},
   "outputs": [],
   "source": [
    "for_db_df.id += 1"
   ]
  },
  {
   "cell_type": "code",
   "execution_count": 241,
   "id": "880fd121",
   "metadata": {},
   "outputs": [
    {
     "data": {
      "text/html": [
       "<div>\n",
       "<style scoped>\n",
       "    .dataframe tbody tr th:only-of-type {\n",
       "        vertical-align: middle;\n",
       "    }\n",
       "\n",
       "    .dataframe tbody tr th {\n",
       "        vertical-align: top;\n",
       "    }\n",
       "\n",
       "    .dataframe thead th {\n",
       "        text-align: right;\n",
       "    }\n",
       "</style>\n",
       "<table border=\"1\" class=\"dataframe\">\n",
       "  <thead>\n",
       "    <tr style=\"text-align: right;\">\n",
       "      <th></th>\n",
       "      <th>id</th>\n",
       "      <th>review_id</th>\n",
       "      <th>sentence_num</th>\n",
       "      <th>label_num</th>\n",
       "      <th>predicted_label</th>\n",
       "      <th>prediction_score</th>\n",
       "    </tr>\n",
       "  </thead>\n",
       "  <tbody>\n",
       "    <tr>\n",
       "      <th>0</th>\n",
       "      <td>1</td>\n",
       "      <td>AAAA78056139278555</td>\n",
       "      <td>1</td>\n",
       "      <td>1</td>\n",
       "      <td>appraisal</td>\n",
       "      <td>0.995386</td>\n",
       "    </tr>\n",
       "    <tr>\n",
       "      <th>1</th>\n",
       "      <td>2</td>\n",
       "      <td>AAAA78056139278555</td>\n",
       "      <td>1</td>\n",
       "      <td>2</td>\n",
       "      <td>unmet expectations</td>\n",
       "      <td>0.001043</td>\n",
       "    </tr>\n",
       "    <tr>\n",
       "      <th>2</th>\n",
       "      <td>3</td>\n",
       "      <td>AAAA78056139278555</td>\n",
       "      <td>1</td>\n",
       "      <td>3</td>\n",
       "      <td>unrelated</td>\n",
       "      <td>0.000562</td>\n",
       "    </tr>\n",
       "    <tr>\n",
       "      <th>3</th>\n",
       "      <td>4</td>\n",
       "      <td>AAAA78056139278555</td>\n",
       "      <td>2</td>\n",
       "      <td>1</td>\n",
       "      <td>appraisal</td>\n",
       "      <td>0.994948</td>\n",
       "    </tr>\n",
       "    <tr>\n",
       "      <th>4</th>\n",
       "      <td>5</td>\n",
       "      <td>AAAA78056139278555</td>\n",
       "      <td>2</td>\n",
       "      <td>2</td>\n",
       "      <td>guide's proficiency</td>\n",
       "      <td>0.001384</td>\n",
       "    </tr>\n",
       "    <tr>\n",
       "      <th>...</th>\n",
       "      <td>...</td>\n",
       "      <td>...</td>\n",
       "      <td>...</td>\n",
       "      <td>...</td>\n",
       "      <td>...</td>\n",
       "      <td>...</td>\n",
       "    </tr>\n",
       "    <tr>\n",
       "      <th>3503224</th>\n",
       "      <td>3503225</td>\n",
       "      <td>ZZZZ65942033827504</td>\n",
       "      <td>4</td>\n",
       "      <td>2</td>\n",
       "      <td>shallow narration</td>\n",
       "      <td>0.034770</td>\n",
       "    </tr>\n",
       "    <tr>\n",
       "      <th>3503225</th>\n",
       "      <td>3503226</td>\n",
       "      <td>ZZZZ65942033827504</td>\n",
       "      <td>4</td>\n",
       "      <td>3</td>\n",
       "      <td>theme divergence</td>\n",
       "      <td>0.004410</td>\n",
       "    </tr>\n",
       "    <tr>\n",
       "      <th>3503226</th>\n",
       "      <td>3503227</td>\n",
       "      <td>ZZZZ65942033827504</td>\n",
       "      <td>5</td>\n",
       "      <td>1</td>\n",
       "      <td>weather | advice</td>\n",
       "      <td>0.967364</td>\n",
       "    </tr>\n",
       "    <tr>\n",
       "      <th>3503227</th>\n",
       "      <td>3503228</td>\n",
       "      <td>ZZZZ65942033827504</td>\n",
       "      <td>5</td>\n",
       "      <td>2</td>\n",
       "      <td>weather</td>\n",
       "      <td>0.004993</td>\n",
       "    </tr>\n",
       "    <tr>\n",
       "      <th>3503228</th>\n",
       "      <td>3503229</td>\n",
       "      <td>ZZZZ65942033827504</td>\n",
       "      <td>5</td>\n",
       "      <td>3</td>\n",
       "      <td>hazard</td>\n",
       "      <td>0.004729</td>\n",
       "    </tr>\n",
       "  </tbody>\n",
       "</table>\n",
       "<p>3503229 rows × 6 columns</p>\n",
       "</div>"
      ],
      "text/plain": [
       "              id           review_id  sentence_num  label_num  \\\n",
       "0              1  AAAA78056139278555             1          1   \n",
       "1              2  AAAA78056139278555             1          2   \n",
       "2              3  AAAA78056139278555             1          3   \n",
       "3              4  AAAA78056139278555             2          1   \n",
       "4              5  AAAA78056139278555             2          2   \n",
       "...          ...                 ...           ...        ...   \n",
       "3503224  3503225  ZZZZ65942033827504             4          2   \n",
       "3503225  3503226  ZZZZ65942033827504             4          3   \n",
       "3503226  3503227  ZZZZ65942033827504             5          1   \n",
       "3503227  3503228  ZZZZ65942033827504             5          2   \n",
       "3503228  3503229  ZZZZ65942033827504             5          3   \n",
       "\n",
       "             predicted_label  prediction_score  \n",
       "0                  appraisal          0.995386  \n",
       "1         unmet expectations          0.001043  \n",
       "2                  unrelated          0.000562  \n",
       "3                  appraisal          0.994948  \n",
       "4        guide's proficiency          0.001384  \n",
       "...                      ...               ...  \n",
       "3503224    shallow narration          0.034770  \n",
       "3503225     theme divergence          0.004410  \n",
       "3503226     weather | advice          0.967364  \n",
       "3503227              weather          0.004993  \n",
       "3503228               hazard          0.004729  \n",
       "\n",
       "[3503229 rows x 6 columns]"
      ]
     },
     "execution_count": 241,
     "metadata": {},
     "output_type": "execute_result"
    }
   ],
   "source": [
    "for_db_df"
   ]
  },
  {
   "cell_type": "code",
   "execution_count": 242,
   "id": "06e67f58",
   "metadata": {},
   "outputs": [],
   "source": [
    "for_db_df.to_csv('./aspect_predictions_for_db.csv', index=False)"
   ]
  },
  {
   "cell_type": "code",
   "execution_count": 247,
   "id": "4f4785d0",
   "metadata": {},
   "outputs": [
    {
     "data": {
      "text/plain": [
       "array(['appraisal', 'bland delivery', 'cancelation', 'conditioning',\n",
       "       'coordination', 'customer service', 'delay', 'dirty windows',\n",
       "       'fact misstatement', 'food', \"guide's attitude\",\n",
       "       \"guide's proficiency\", 'haste', 'hazard', 'humble route',\n",
       "       'no substance', 'offer disparity', 'other tourists', 'overpriced',\n",
       "       'price lift', 'program change', 'refund', 'rudeness & bigotry',\n",
       "       'shallow narration', 'stray', 'theme divergence', 'time shortage',\n",
       "       'unmet expectations', 'unrelated', 'vehicle', 'weather',\n",
       "       'weather | advice'], dtype=object)"
      ]
     },
     "execution_count": 247,
     "metadata": {},
     "output_type": "execute_result"
    }
   ],
   "source": [
    "np.sort(for_db_df.predicted_label.unique())"
   ]
  },
  {
   "cell_type": "code",
   "execution_count": 248,
   "id": "f96cab68",
   "metadata": {},
   "outputs": [],
   "source": [
    "aspect_list = pd.DataFrame({'aspect_name': np.sort(for_db_df.predicted_label.unique())})"
   ]
  },
  {
   "cell_type": "code",
   "execution_count": 250,
   "id": "789cee88",
   "metadata": {},
   "outputs": [],
   "source": [
    "aspect_list.reset_index(inplace=True)\n",
    "aspect_list.columns=['id', 'aspect_name']\n",
    "aspect_list['id'] += 1"
   ]
  },
  {
   "cell_type": "code",
   "execution_count": 251,
   "id": "07c500d4",
   "metadata": {},
   "outputs": [
    {
     "data": {
      "text/html": [
       "<div>\n",
       "<style scoped>\n",
       "    .dataframe tbody tr th:only-of-type {\n",
       "        vertical-align: middle;\n",
       "    }\n",
       "\n",
       "    .dataframe tbody tr th {\n",
       "        vertical-align: top;\n",
       "    }\n",
       "\n",
       "    .dataframe thead th {\n",
       "        text-align: right;\n",
       "    }\n",
       "</style>\n",
       "<table border=\"1\" class=\"dataframe\">\n",
       "  <thead>\n",
       "    <tr style=\"text-align: right;\">\n",
       "      <th></th>\n",
       "      <th>id</th>\n",
       "      <th>aspect_name</th>\n",
       "    </tr>\n",
       "  </thead>\n",
       "  <tbody>\n",
       "    <tr>\n",
       "      <th>0</th>\n",
       "      <td>1</td>\n",
       "      <td>appraisal</td>\n",
       "    </tr>\n",
       "    <tr>\n",
       "      <th>1</th>\n",
       "      <td>2</td>\n",
       "      <td>bland delivery</td>\n",
       "    </tr>\n",
       "    <tr>\n",
       "      <th>2</th>\n",
       "      <td>3</td>\n",
       "      <td>cancelation</td>\n",
       "    </tr>\n",
       "    <tr>\n",
       "      <th>3</th>\n",
       "      <td>4</td>\n",
       "      <td>conditioning</td>\n",
       "    </tr>\n",
       "    <tr>\n",
       "      <th>4</th>\n",
       "      <td>5</td>\n",
       "      <td>coordination</td>\n",
       "    </tr>\n",
       "  </tbody>\n",
       "</table>\n",
       "</div>"
      ],
      "text/plain": [
       "   id     aspect_name\n",
       "0   1       appraisal\n",
       "1   2  bland delivery\n",
       "2   3     cancelation\n",
       "3   4    conditioning\n",
       "4   5    coordination"
      ]
     },
     "execution_count": 251,
     "metadata": {},
     "output_type": "execute_result"
    }
   ],
   "source": [
    "aspect_list.head()"
   ]
  },
  {
   "cell_type": "code",
   "execution_count": 252,
   "id": "a48698d2",
   "metadata": {},
   "outputs": [],
   "source": [
    "aspect_mapper = dict()\n",
    "i=1\n",
    "for a in np.sort(for_db_df.predicted_label.unique()):\n",
    "    aspect_mapper[a] = i\n",
    "    i+=1"
   ]
  },
  {
   "cell_type": "code",
   "execution_count": 253,
   "id": "3f6588c1",
   "metadata": {
    "scrolled": true
   },
   "outputs": [
    {
     "data": {
      "text/plain": [
       "{'appraisal': 1,\n",
       " 'bland delivery': 2,\n",
       " 'cancelation': 3,\n",
       " 'conditioning': 4,\n",
       " 'coordination': 5,\n",
       " 'customer service': 6,\n",
       " 'delay': 7,\n",
       " 'dirty windows': 8,\n",
       " 'fact misstatement': 9,\n",
       " 'food': 10,\n",
       " \"guide's attitude\": 11,\n",
       " \"guide's proficiency\": 12,\n",
       " 'haste': 13,\n",
       " 'hazard': 14,\n",
       " 'humble route': 15,\n",
       " 'no substance': 16,\n",
       " 'offer disparity': 17,\n",
       " 'other tourists': 18,\n",
       " 'overpriced': 19,\n",
       " 'price lift': 20,\n",
       " 'program change': 21,\n",
       " 'refund': 22,\n",
       " 'rudeness & bigotry': 23,\n",
       " 'shallow narration': 24,\n",
       " 'stray': 25,\n",
       " 'theme divergence': 26,\n",
       " 'time shortage': 27,\n",
       " 'unmet expectations': 28,\n",
       " 'unrelated': 29,\n",
       " 'vehicle': 30,\n",
       " 'weather': 31,\n",
       " 'weather | advice': 32}"
      ]
     },
     "execution_count": 253,
     "metadata": {},
     "output_type": "execute_result"
    }
   ],
   "source": [
    "aspect_mapper"
   ]
  },
  {
   "cell_type": "code",
   "execution_count": 255,
   "id": "ee77e66d",
   "metadata": {},
   "outputs": [],
   "source": [
    "for_db_df.predicted_label = for_db_df.predicted_label.map(aspect_mapper)"
   ]
  },
  {
   "cell_type": "code",
   "execution_count": 256,
   "id": "43734508",
   "metadata": {},
   "outputs": [
    {
     "data": {
      "text/html": [
       "<div>\n",
       "<style scoped>\n",
       "    .dataframe tbody tr th:only-of-type {\n",
       "        vertical-align: middle;\n",
       "    }\n",
       "\n",
       "    .dataframe tbody tr th {\n",
       "        vertical-align: top;\n",
       "    }\n",
       "\n",
       "    .dataframe thead th {\n",
       "        text-align: right;\n",
       "    }\n",
       "</style>\n",
       "<table border=\"1\" class=\"dataframe\">\n",
       "  <thead>\n",
       "    <tr style=\"text-align: right;\">\n",
       "      <th></th>\n",
       "      <th>id</th>\n",
       "      <th>review_id</th>\n",
       "      <th>sentence_num</th>\n",
       "      <th>label_num</th>\n",
       "      <th>predicted_label</th>\n",
       "      <th>prediction_score</th>\n",
       "    </tr>\n",
       "  </thead>\n",
       "  <tbody>\n",
       "    <tr>\n",
       "      <th>0</th>\n",
       "      <td>1</td>\n",
       "      <td>AAAA78056139278555</td>\n",
       "      <td>1</td>\n",
       "      <td>1</td>\n",
       "      <td>1</td>\n",
       "      <td>0.995386</td>\n",
       "    </tr>\n",
       "    <tr>\n",
       "      <th>1</th>\n",
       "      <td>2</td>\n",
       "      <td>AAAA78056139278555</td>\n",
       "      <td>1</td>\n",
       "      <td>2</td>\n",
       "      <td>28</td>\n",
       "      <td>0.001043</td>\n",
       "    </tr>\n",
       "    <tr>\n",
       "      <th>2</th>\n",
       "      <td>3</td>\n",
       "      <td>AAAA78056139278555</td>\n",
       "      <td>1</td>\n",
       "      <td>3</td>\n",
       "      <td>29</td>\n",
       "      <td>0.000562</td>\n",
       "    </tr>\n",
       "    <tr>\n",
       "      <th>3</th>\n",
       "      <td>4</td>\n",
       "      <td>AAAA78056139278555</td>\n",
       "      <td>2</td>\n",
       "      <td>1</td>\n",
       "      <td>1</td>\n",
       "      <td>0.994948</td>\n",
       "    </tr>\n",
       "    <tr>\n",
       "      <th>4</th>\n",
       "      <td>5</td>\n",
       "      <td>AAAA78056139278555</td>\n",
       "      <td>2</td>\n",
       "      <td>2</td>\n",
       "      <td>12</td>\n",
       "      <td>0.001384</td>\n",
       "    </tr>\n",
       "    <tr>\n",
       "      <th>...</th>\n",
       "      <td>...</td>\n",
       "      <td>...</td>\n",
       "      <td>...</td>\n",
       "      <td>...</td>\n",
       "      <td>...</td>\n",
       "      <td>...</td>\n",
       "    </tr>\n",
       "    <tr>\n",
       "      <th>3503224</th>\n",
       "      <td>3503225</td>\n",
       "      <td>ZZZZ65942033827504</td>\n",
       "      <td>4</td>\n",
       "      <td>2</td>\n",
       "      <td>24</td>\n",
       "      <td>0.034770</td>\n",
       "    </tr>\n",
       "    <tr>\n",
       "      <th>3503225</th>\n",
       "      <td>3503226</td>\n",
       "      <td>ZZZZ65942033827504</td>\n",
       "      <td>4</td>\n",
       "      <td>3</td>\n",
       "      <td>26</td>\n",
       "      <td>0.004410</td>\n",
       "    </tr>\n",
       "    <tr>\n",
       "      <th>3503226</th>\n",
       "      <td>3503227</td>\n",
       "      <td>ZZZZ65942033827504</td>\n",
       "      <td>5</td>\n",
       "      <td>1</td>\n",
       "      <td>32</td>\n",
       "      <td>0.967364</td>\n",
       "    </tr>\n",
       "    <tr>\n",
       "      <th>3503227</th>\n",
       "      <td>3503228</td>\n",
       "      <td>ZZZZ65942033827504</td>\n",
       "      <td>5</td>\n",
       "      <td>2</td>\n",
       "      <td>31</td>\n",
       "      <td>0.004993</td>\n",
       "    </tr>\n",
       "    <tr>\n",
       "      <th>3503228</th>\n",
       "      <td>3503229</td>\n",
       "      <td>ZZZZ65942033827504</td>\n",
       "      <td>5</td>\n",
       "      <td>3</td>\n",
       "      <td>14</td>\n",
       "      <td>0.004729</td>\n",
       "    </tr>\n",
       "  </tbody>\n",
       "</table>\n",
       "<p>3503229 rows × 6 columns</p>\n",
       "</div>"
      ],
      "text/plain": [
       "              id           review_id  sentence_num  label_num  \\\n",
       "0              1  AAAA78056139278555             1          1   \n",
       "1              2  AAAA78056139278555             1          2   \n",
       "2              3  AAAA78056139278555             1          3   \n",
       "3              4  AAAA78056139278555             2          1   \n",
       "4              5  AAAA78056139278555             2          2   \n",
       "...          ...                 ...           ...        ...   \n",
       "3503224  3503225  ZZZZ65942033827504             4          2   \n",
       "3503225  3503226  ZZZZ65942033827504             4          3   \n",
       "3503226  3503227  ZZZZ65942033827504             5          1   \n",
       "3503227  3503228  ZZZZ65942033827504             5          2   \n",
       "3503228  3503229  ZZZZ65942033827504             5          3   \n",
       "\n",
       "         predicted_label  prediction_score  \n",
       "0                      1          0.995386  \n",
       "1                     28          0.001043  \n",
       "2                     29          0.000562  \n",
       "3                      1          0.994948  \n",
       "4                     12          0.001384  \n",
       "...                  ...               ...  \n",
       "3503224               24          0.034770  \n",
       "3503225               26          0.004410  \n",
       "3503226               32          0.967364  \n",
       "3503227               31          0.004993  \n",
       "3503228               14          0.004729  \n",
       "\n",
       "[3503229 rows x 6 columns]"
      ]
     },
     "execution_count": 256,
     "metadata": {},
     "output_type": "execute_result"
    }
   ],
   "source": [
    "for_db_df"
   ]
  },
  {
   "cell_type": "code",
   "execution_count": 257,
   "id": "f1940e5a",
   "metadata": {},
   "outputs": [],
   "source": [
    "for_db_df.to_csv('./mapped_aspect_predictions_for_db.csv', index=False)"
   ]
  },
  {
   "cell_type": "code",
   "execution_count": 258,
   "id": "2d7fb1d2",
   "metadata": {},
   "outputs": [],
   "source": [
    "aspect_list.to_csv('./aspect_mapper.csv', index=False)"
   ]
  },
  {
   "cell_type": "code",
   "execution_count": 259,
   "id": "aeac358b",
   "metadata": {},
   "outputs": [],
   "source": [
    "del for_db_df"
   ]
  },
  {
   "cell_type": "markdown",
   "id": "6ede6fc5",
   "metadata": {},
   "source": [
    "## Repurchase Model"
   ]
  },
  {
   "cell_type": "code",
   "execution_count": 260,
   "id": "9d3a2de6",
   "metadata": {},
   "outputs": [
    {
     "data": {
      "application/vnd.jupyter.widget-view+json": {
       "model_id": "84596ed940fc444eb1c068663f622595",
       "version_major": 2,
       "version_minor": 0
      },
      "text/plain": [
       "config.json:   0%|          | 0.00/754 [00:00<?, ?B/s]"
      ]
     },
     "metadata": {},
     "output_type": "display_data"
    },
    {
     "data": {
      "application/vnd.jupyter.widget-view+json": {
       "model_id": "31847f89e91d45b8928e158aae919602",
       "version_major": 2,
       "version_minor": 0
      },
      "text/plain": [
       "model.safetensors:   0%|          | 0.00/117M [00:00<?, ?B/s]"
      ]
     },
     "metadata": {},
     "output_type": "display_data"
    },
    {
     "data": {
      "application/vnd.jupyter.widget-view+json": {
       "model_id": "e5f75d56e1f74d4bb7217c3f636e0dfd",
       "version_major": 2,
       "version_minor": 0
      },
      "text/plain": [
       "tokenizer_config.json:   0%|          | 0.00/1.43k [00:00<?, ?B/s]"
      ]
     },
     "metadata": {},
     "output_type": "display_data"
    },
    {
     "data": {
      "application/vnd.jupyter.widget-view+json": {
       "model_id": "874d51ac0c19497aaa6441583da7a058",
       "version_major": 2,
       "version_minor": 0
      },
      "text/plain": [
       "vocab.txt:   0%|          | 0.00/1.08M [00:00<?, ?B/s]"
      ]
     },
     "metadata": {},
     "output_type": "display_data"
    },
    {
     "data": {
      "application/vnd.jupyter.widget-view+json": {
       "model_id": "d781f9aefbf148d69d6d3a53c4f951d6",
       "version_major": 2,
       "version_minor": 0
      },
      "text/plain": [
       "tokenizer.json:   0%|          | 0.00/2.41M [00:00<?, ?B/s]"
      ]
     },
     "metadata": {},
     "output_type": "display_data"
    },
    {
     "data": {
      "application/vnd.jupyter.widget-view+json": {
       "model_id": "f4948aa8664a4163b94029f2f4849bae",
       "version_major": 2,
       "version_minor": 0
      },
      "text/plain": [
       "special_tokens_map.json:   0%|          | 0.00/695 [00:00<?, ?B/s]"
      ]
     },
     "metadata": {},
     "output_type": "display_data"
    }
   ],
   "source": [
    "repurchase_pipeline = pipeline(\"text-classification\", model=\"laskovey/repurchase_train6\")"
   ]
  },
  {
   "cell_type": "markdown",
   "id": "d1ef2e05",
   "metadata": {},
   "source": [
    "#### On small sample"
   ]
  },
  {
   "cell_type": "code",
   "execution_count": 301,
   "id": "223cfdad",
   "metadata": {},
   "outputs": [],
   "source": [
    "### Let's take 1K random sentences from dataset and process them with model\n",
    "\n",
    "repurchase_sample = repurchase_df.sample(1000, random_state=42).review_text.to_list()"
   ]
  },
  {
   "cell_type": "code",
   "execution_count": 303,
   "id": "22f52e7a",
   "metadata": {},
   "outputs": [
    {
     "name": "stdout",
     "output_type": "stream",
     "text": [
      "CPU times: user 17.6 s, sys: 1.32 s, total: 18.9 s\n",
      "Wall time: 15.1 s\n"
     ]
    }
   ],
   "source": [
    "%%time\n",
    "\n",
    "repurchase_predictions = repurchase_pipeline(repurchase_sample, top_k=2)"
   ]
  },
  {
   "cell_type": "markdown",
   "id": "2ab332c4",
   "metadata": {},
   "source": [
    "Does not make sense to output both labels, since in binary classification their probabilities (scores) sum up to 1."
   ]
  },
  {
   "cell_type": "markdown",
   "id": "c1ba3eb4",
   "metadata": {},
   "source": [
    "#### On the whole dataset"
   ]
  },
  {
   "cell_type": "code",
   "execution_count": 308,
   "id": "d7d0b130",
   "metadata": {},
   "outputs": [
    {
     "data": {
      "text/plain": [
       "361588"
      ]
     },
     "execution_count": 308,
     "metadata": {},
     "output_type": "execute_result"
    }
   ],
   "source": [
    "repurchase_X = repurchase_df.review_text.to_list()\n",
    "len(repurchase_X)"
   ]
  },
  {
   "cell_type": "code",
   "execution_count": 309,
   "id": "226b034d",
   "metadata": {},
   "outputs": [
    {
     "name": "stdout",
     "output_type": "stream",
     "text": [
      "CPU times: user 1h 38min 12s, sys: 3min 55s, total: 1h 42min 7s\n",
      "Wall time: 1h 16min 28s\n"
     ]
    }
   ],
   "source": [
    "%%time\n",
    "\n",
    "repurchase_predictions = repurchase_pipeline(repurchase_X)"
   ]
  },
  {
   "cell_type": "markdown",
   "id": "73b5eb24",
   "metadata": {},
   "source": [
    "Does not make sense to output both labels, since in binary classification their probabilities (scores) sum up to 1."
   ]
  },
  {
   "cell_type": "code",
   "execution_count": 310,
   "id": "04a392c2",
   "metadata": {},
   "outputs": [
    {
     "data": {
      "text/plain": [
       "{'label': 'LABEL_1', 'score': 0.9997486472129822}"
      ]
     },
     "execution_count": 310,
     "metadata": {},
     "output_type": "execute_result"
    }
   ],
   "source": [
    "repurchase_predictions[0]"
   ]
  },
  {
   "cell_type": "code",
   "execution_count": 321,
   "id": "2cba41bf",
   "metadata": {},
   "outputs": [
    {
     "data": {
      "text/plain": [
       "('a', 1)"
      ]
     },
     "execution_count": 321,
     "metadata": {},
     "output_type": "execute_result"
    }
   ],
   "source": [
    "tuple({'a': 1, 'b': 2}.items())[0]"
   ]
  },
  {
   "cell_type": "code",
   "execution_count": 326,
   "id": "6fab64a3",
   "metadata": {},
   "outputs": [],
   "source": [
    "repurchase_preds = [[int(tuple(p.items())[0][1][-1]), tuple(p.items())[1][1]] for p in repurchase_predictions]"
   ]
  },
  {
   "cell_type": "code",
   "execution_count": 327,
   "id": "aa0abcb4",
   "metadata": {},
   "outputs": [
    {
     "data": {
      "text/plain": [
       "[[1, 0.9997486472129822],\n",
       " [1, 0.9997449517250061],\n",
       " [1, 0.9994049072265625],\n",
       " [0, 0.9948403239250183],\n",
       " [1, 0.999747097492218],\n",
       " [1, 0.9997473359107971],\n",
       " [1, 0.9997449517250061],\n",
       " [1, 0.9997343420982361],\n",
       " [1, 0.9997406601905823],\n",
       " [1, 0.9997422099113464]]"
      ]
     },
     "execution_count": 327,
     "metadata": {},
     "output_type": "execute_result"
    }
   ],
   "source": [
    "repurchase_preds[:10]"
   ]
  },
  {
   "cell_type": "code",
   "execution_count": 328,
   "id": "95969793",
   "metadata": {},
   "outputs": [
    {
     "data": {
      "text/plain": [
       "361588"
      ]
     },
     "execution_count": 328,
     "metadata": {},
     "output_type": "execute_result"
    }
   ],
   "source": [
    "len(repurchase_preds)"
   ]
  },
  {
   "cell_type": "code",
   "execution_count": 331,
   "id": "20462c5d",
   "metadata": {},
   "outputs": [],
   "source": [
    "repurchase_df = pd.concat([repurchase_df, pd.DataFrame(repurchase_preds)], axis=1)\n",
    "repurchase_df.columns = ['review_id', 'review_text', 'predicted_repurchase', 'prediction_score']"
   ]
  },
  {
   "cell_type": "code",
   "execution_count": 333,
   "id": "76ba08f7",
   "metadata": {},
   "outputs": [],
   "source": [
    "repurchase_df.to_csv('./repurchase_predictions_may24.csv', index=False)"
   ]
  },
  {
   "cell_type": "code",
   "execution_count": 339,
   "id": "587bee93",
   "metadata": {},
   "outputs": [
    {
     "data": {
      "text/html": [
       "<div>\n",
       "<style scoped>\n",
       "    .dataframe tbody tr th:only-of-type {\n",
       "        vertical-align: middle;\n",
       "    }\n",
       "\n",
       "    .dataframe tbody tr th {\n",
       "        vertical-align: top;\n",
       "    }\n",
       "\n",
       "    .dataframe thead th {\n",
       "        text-align: right;\n",
       "    }\n",
       "</style>\n",
       "<table border=\"1\" class=\"dataframe\">\n",
       "  <thead>\n",
       "    <tr style=\"text-align: right;\">\n",
       "      <th></th>\n",
       "      <th>review_id</th>\n",
       "      <th>review_text</th>\n",
       "      <th>predicted_repurchase</th>\n",
       "      <th>prediction_score</th>\n",
       "    </tr>\n",
       "  </thead>\n",
       "  <tbody>\n",
       "    <tr>\n",
       "      <th>153983</th>\n",
       "      <td>RTYK17596531045012</td>\n",
       "      <td>Сафари нам понравилось, оставило только положи...</td>\n",
       "      <td>1</td>\n",
       "      <td>0.999731</td>\n",
       "    </tr>\n",
       "    <tr>\n",
       "      <th>37972</th>\n",
       "      <td>HRDO94744575950046</td>\n",
       "      <td>Сама экскурсия понравилась. Подвела только погода</td>\n",
       "      <td>1</td>\n",
       "      <td>0.999719</td>\n",
       "    </tr>\n",
       "    <tr>\n",
       "      <th>337709</th>\n",
       "      <td>MPDO50981411439562</td>\n",
       "      <td>Гид просто выполнял свою работу. Выполнял хоро...</td>\n",
       "      <td>0</td>\n",
       "      <td>0.999747</td>\n",
       "    </tr>\n",
       "    <tr>\n",
       "      <th>43357</th>\n",
       "      <td>ABLH52237839826962</td>\n",
       "      <td>Экскурсия не состоялась.</td>\n",
       "      <td>1</td>\n",
       "      <td>0.887521</td>\n",
       "    </tr>\n",
       "    <tr>\n",
       "      <th>45587</th>\n",
       "      <td>PXMJ04707135502259</td>\n",
       "      <td>Прекрасное путешествие. Замечательная прогулка...</td>\n",
       "      <td>1</td>\n",
       "      <td>0.999727</td>\n",
       "    </tr>\n",
       "  </tbody>\n",
       "</table>\n",
       "</div>"
      ],
      "text/plain": [
       "                 review_id                                        review_text  \\\n",
       "153983  RTYK17596531045012  Сафари нам понравилось, оставило только положи...   \n",
       "37972   HRDO94744575950046  Сама экскурсия понравилась. Подвела только погода   \n",
       "337709  MPDO50981411439562  Гид просто выполнял свою работу. Выполнял хоро...   \n",
       "43357   ABLH52237839826962                           Экскурсия не состоялась.   \n",
       "45587   PXMJ04707135502259  Прекрасное путешествие. Замечательная прогулка...   \n",
       "\n",
       "        predicted_repurchase  prediction_score  \n",
       "153983                     1          0.999731  \n",
       "37972                      1          0.999719  \n",
       "337709                     0          0.999747  \n",
       "43357                      1          0.887521  \n",
       "45587                      1          0.999727  "
      ]
     },
     "execution_count": 339,
     "metadata": {},
     "output_type": "execute_result"
    }
   ],
   "source": [
    "repurchase_df.sample(5)"
   ]
  },
  {
   "cell_type": "code",
   "execution_count": 336,
   "id": "71f86a02",
   "metadata": {},
   "outputs": [],
   "source": [
    "repurchase_for_db = repurchase_df[['review_id', 'predicted_repurchase', 'prediction_score']].reset_index().rename(columns={'index': 'id'})\n",
    "repurchase_for_db['id'] += 1\n",
    "repurchase_for_db['prediction_score'] = repurchase_for_db['prediction_score'].round(4)"
   ]
  },
  {
   "cell_type": "code",
   "execution_count": 337,
   "id": "b3c1a0e9",
   "metadata": {},
   "outputs": [
    {
     "data": {
      "text/html": [
       "<div>\n",
       "<style scoped>\n",
       "    .dataframe tbody tr th:only-of-type {\n",
       "        vertical-align: middle;\n",
       "    }\n",
       "\n",
       "    .dataframe tbody tr th {\n",
       "        vertical-align: top;\n",
       "    }\n",
       "\n",
       "    .dataframe thead th {\n",
       "        text-align: right;\n",
       "    }\n",
       "</style>\n",
       "<table border=\"1\" class=\"dataframe\">\n",
       "  <thead>\n",
       "    <tr style=\"text-align: right;\">\n",
       "      <th></th>\n",
       "      <th>id</th>\n",
       "      <th>review_id</th>\n",
       "      <th>predicted_repurchase</th>\n",
       "      <th>prediction_score</th>\n",
       "    </tr>\n",
       "  </thead>\n",
       "  <tbody>\n",
       "    <tr>\n",
       "      <th>0</th>\n",
       "      <td>1</td>\n",
       "      <td>IBEL40458932288368</td>\n",
       "      <td>1</td>\n",
       "      <td>0.9997</td>\n",
       "    </tr>\n",
       "    <tr>\n",
       "      <th>1</th>\n",
       "      <td>2</td>\n",
       "      <td>XJQL86924315279991</td>\n",
       "      <td>1</td>\n",
       "      <td>0.9997</td>\n",
       "    </tr>\n",
       "    <tr>\n",
       "      <th>2</th>\n",
       "      <td>3</td>\n",
       "      <td>WYTJ13913662608790</td>\n",
       "      <td>1</td>\n",
       "      <td>0.9994</td>\n",
       "    </tr>\n",
       "    <tr>\n",
       "      <th>3</th>\n",
       "      <td>4</td>\n",
       "      <td>TPSP07717133573269</td>\n",
       "      <td>0</td>\n",
       "      <td>0.9948</td>\n",
       "    </tr>\n",
       "    <tr>\n",
       "      <th>4</th>\n",
       "      <td>5</td>\n",
       "      <td>LRHK42247441970821</td>\n",
       "      <td>1</td>\n",
       "      <td>0.9997</td>\n",
       "    </tr>\n",
       "    <tr>\n",
       "      <th>...</th>\n",
       "      <td>...</td>\n",
       "      <td>...</td>\n",
       "      <td>...</td>\n",
       "      <td>...</td>\n",
       "    </tr>\n",
       "    <tr>\n",
       "      <th>361583</th>\n",
       "      <td>361584</td>\n",
       "      <td>POWN19451419207434</td>\n",
       "      <td>1</td>\n",
       "      <td>0.9989</td>\n",
       "    </tr>\n",
       "    <tr>\n",
       "      <th>361584</th>\n",
       "      <td>361585</td>\n",
       "      <td>MWHY16114592457631</td>\n",
       "      <td>1</td>\n",
       "      <td>0.9997</td>\n",
       "    </tr>\n",
       "    <tr>\n",
       "      <th>361585</th>\n",
       "      <td>361586</td>\n",
       "      <td>BWEG97861598560325</td>\n",
       "      <td>1</td>\n",
       "      <td>0.9997</td>\n",
       "    </tr>\n",
       "    <tr>\n",
       "      <th>361586</th>\n",
       "      <td>361587</td>\n",
       "      <td>PWRD18099931863557</td>\n",
       "      <td>0</td>\n",
       "      <td>0.9672</td>\n",
       "    </tr>\n",
       "    <tr>\n",
       "      <th>361587</th>\n",
       "      <td>361588</td>\n",
       "      <td>ZMZY69476140096803</td>\n",
       "      <td>0</td>\n",
       "      <td>0.9994</td>\n",
       "    </tr>\n",
       "  </tbody>\n",
       "</table>\n",
       "<p>361588 rows × 4 columns</p>\n",
       "</div>"
      ],
      "text/plain": [
       "            id           review_id  predicted_repurchase  prediction_score\n",
       "0            1  IBEL40458932288368                     1            0.9997\n",
       "1            2  XJQL86924315279991                     1            0.9997\n",
       "2            3  WYTJ13913662608790                     1            0.9994\n",
       "3            4  TPSP07717133573269                     0            0.9948\n",
       "4            5  LRHK42247441970821                     1            0.9997\n",
       "...        ...                 ...                   ...               ...\n",
       "361583  361584  POWN19451419207434                     1            0.9989\n",
       "361584  361585  MWHY16114592457631                     1            0.9997\n",
       "361585  361586  BWEG97861598560325                     1            0.9997\n",
       "361586  361587  PWRD18099931863557                     0            0.9672\n",
       "361587  361588  ZMZY69476140096803                     0            0.9994\n",
       "\n",
       "[361588 rows x 4 columns]"
      ]
     },
     "execution_count": 337,
     "metadata": {},
     "output_type": "execute_result"
    }
   ],
   "source": [
    "repurchase_for_db"
   ]
  },
  {
   "cell_type": "code",
   "execution_count": 342,
   "id": "46e3401c",
   "metadata": {},
   "outputs": [],
   "source": [
    "def calculate_repurchase_proba(prediction, score):\n",
    "    '''\n",
    "    A function for calculating probability of repurchase\n",
    "    \n",
    "    If predition = 1 = the client will not repurchase -> then the probability of repurchase = 1 - score\n",
    "    If predition = 0 = the client WILL repurchase -> then the probability of repurchase = score\n",
    "    \n",
    "    Function takes as input the predicted label and the prediction score;\n",
    "    Outputs the probability of repurchase (from 0 to 1)\n",
    "    \n",
    "    '''\n",
    "    proba = score\n",
    "    # if predition = 1 = the client will not repurchase -> then the probability of repurchase = 1-score\n",
    "    if prediction: \n",
    "        proba = 1 - score\n",
    "\n",
    "    return proba\n",
    "    "
   ]
  },
  {
   "cell_type": "code",
   "execution_count": 343,
   "id": "76a36ead",
   "metadata": {},
   "outputs": [],
   "source": [
    "repurchase_for_db['repurchase_proba'] = repurchase_for_db.apply(lambda x: calculate_repurchase_proba(\n",
    "    x.predicted_repurchase, x.prediction_score), axis=1)"
   ]
  },
  {
   "cell_type": "code",
   "execution_count": 344,
   "id": "cd0b433f",
   "metadata": {},
   "outputs": [
    {
     "data": {
      "text/html": [
       "<div>\n",
       "<style scoped>\n",
       "    .dataframe tbody tr th:only-of-type {\n",
       "        vertical-align: middle;\n",
       "    }\n",
       "\n",
       "    .dataframe tbody tr th {\n",
       "        vertical-align: top;\n",
       "    }\n",
       "\n",
       "    .dataframe thead th {\n",
       "        text-align: right;\n",
       "    }\n",
       "</style>\n",
       "<table border=\"1\" class=\"dataframe\">\n",
       "  <thead>\n",
       "    <tr style=\"text-align: right;\">\n",
       "      <th></th>\n",
       "      <th>id</th>\n",
       "      <th>review_id</th>\n",
       "      <th>predicted_repurchase</th>\n",
       "      <th>prediction_score</th>\n",
       "      <th>repurchase_proba</th>\n",
       "    </tr>\n",
       "  </thead>\n",
       "  <tbody>\n",
       "    <tr>\n",
       "      <th>0</th>\n",
       "      <td>1</td>\n",
       "      <td>IBEL40458932288368</td>\n",
       "      <td>1</td>\n",
       "      <td>0.9997</td>\n",
       "      <td>0.0003</td>\n",
       "    </tr>\n",
       "    <tr>\n",
       "      <th>1</th>\n",
       "      <td>2</td>\n",
       "      <td>XJQL86924315279991</td>\n",
       "      <td>1</td>\n",
       "      <td>0.9997</td>\n",
       "      <td>0.0003</td>\n",
       "    </tr>\n",
       "    <tr>\n",
       "      <th>2</th>\n",
       "      <td>3</td>\n",
       "      <td>WYTJ13913662608790</td>\n",
       "      <td>1</td>\n",
       "      <td>0.9994</td>\n",
       "      <td>0.0006</td>\n",
       "    </tr>\n",
       "    <tr>\n",
       "      <th>3</th>\n",
       "      <td>4</td>\n",
       "      <td>TPSP07717133573269</td>\n",
       "      <td>0</td>\n",
       "      <td>0.9948</td>\n",
       "      <td>0.9948</td>\n",
       "    </tr>\n",
       "    <tr>\n",
       "      <th>4</th>\n",
       "      <td>5</td>\n",
       "      <td>LRHK42247441970821</td>\n",
       "      <td>1</td>\n",
       "      <td>0.9997</td>\n",
       "      <td>0.0003</td>\n",
       "    </tr>\n",
       "    <tr>\n",
       "      <th>...</th>\n",
       "      <td>...</td>\n",
       "      <td>...</td>\n",
       "      <td>...</td>\n",
       "      <td>...</td>\n",
       "      <td>...</td>\n",
       "    </tr>\n",
       "    <tr>\n",
       "      <th>361583</th>\n",
       "      <td>361584</td>\n",
       "      <td>POWN19451419207434</td>\n",
       "      <td>1</td>\n",
       "      <td>0.9989</td>\n",
       "      <td>0.0011</td>\n",
       "    </tr>\n",
       "    <tr>\n",
       "      <th>361584</th>\n",
       "      <td>361585</td>\n",
       "      <td>MWHY16114592457631</td>\n",
       "      <td>1</td>\n",
       "      <td>0.9997</td>\n",
       "      <td>0.0003</td>\n",
       "    </tr>\n",
       "    <tr>\n",
       "      <th>361585</th>\n",
       "      <td>361586</td>\n",
       "      <td>BWEG97861598560325</td>\n",
       "      <td>1</td>\n",
       "      <td>0.9997</td>\n",
       "      <td>0.0003</td>\n",
       "    </tr>\n",
       "    <tr>\n",
       "      <th>361586</th>\n",
       "      <td>361587</td>\n",
       "      <td>PWRD18099931863557</td>\n",
       "      <td>0</td>\n",
       "      <td>0.9672</td>\n",
       "      <td>0.9672</td>\n",
       "    </tr>\n",
       "    <tr>\n",
       "      <th>361587</th>\n",
       "      <td>361588</td>\n",
       "      <td>ZMZY69476140096803</td>\n",
       "      <td>0</td>\n",
       "      <td>0.9994</td>\n",
       "      <td>0.9994</td>\n",
       "    </tr>\n",
       "  </tbody>\n",
       "</table>\n",
       "<p>361588 rows × 5 columns</p>\n",
       "</div>"
      ],
      "text/plain": [
       "            id           review_id  predicted_repurchase  prediction_score  \\\n",
       "0            1  IBEL40458932288368                     1            0.9997   \n",
       "1            2  XJQL86924315279991                     1            0.9997   \n",
       "2            3  WYTJ13913662608790                     1            0.9994   \n",
       "3            4  TPSP07717133573269                     0            0.9948   \n",
       "4            5  LRHK42247441970821                     1            0.9997   \n",
       "...        ...                 ...                   ...               ...   \n",
       "361583  361584  POWN19451419207434                     1            0.9989   \n",
       "361584  361585  MWHY16114592457631                     1            0.9997   \n",
       "361585  361586  BWEG97861598560325                     1            0.9997   \n",
       "361586  361587  PWRD18099931863557                     0            0.9672   \n",
       "361587  361588  ZMZY69476140096803                     0            0.9994   \n",
       "\n",
       "        repurchase_proba  \n",
       "0                 0.0003  \n",
       "1                 0.0003  \n",
       "2                 0.0006  \n",
       "3                 0.9948  \n",
       "4                 0.0003  \n",
       "...                  ...  \n",
       "361583            0.0011  \n",
       "361584            0.0003  \n",
       "361585            0.0003  \n",
       "361586            0.9672  \n",
       "361587            0.9994  \n",
       "\n",
       "[361588 rows x 5 columns]"
      ]
     },
     "execution_count": 344,
     "metadata": {},
     "output_type": "execute_result"
    }
   ],
   "source": [
    "repurchase_for_db"
   ]
  },
  {
   "cell_type": "code",
   "execution_count": 345,
   "id": "64a3bfa9",
   "metadata": {},
   "outputs": [
    {
     "data": {
      "text/plain": [
       "count    361588.000000\n",
       "mean          0.328814\n",
       "std           0.447822\n",
       "min           0.000200\n",
       "25%           0.000300\n",
       "50%           0.000700\n",
       "75%           0.984300\n",
       "max           0.999800\n",
       "Name: repurchase_proba, dtype: float64"
      ]
     },
     "execution_count": 345,
     "metadata": {},
     "output_type": "execute_result"
    }
   ],
   "source": [
    "repurchase_for_db.repurchase_proba.describe()"
   ]
  },
  {
   "cell_type": "code",
   "execution_count": 346,
   "id": "b56449e8",
   "metadata": {},
   "outputs": [
    {
     "data": {
      "text/plain": [
       "count    361588.000000\n",
       "mean          0.328814\n",
       "std           0.447822\n",
       "min           0.000200\n",
       "50%           0.000700\n",
       "60%           0.017600\n",
       "65%           0.288800\n",
       "70%           0.781390\n",
       "max           0.999800\n",
       "Name: repurchase_proba, dtype: float64"
      ]
     },
     "execution_count": 346,
     "metadata": {},
     "output_type": "execute_result"
    }
   ],
   "source": [
    "repurchase_for_db.repurchase_proba.describe(percentiles=[.6,.65,.7])"
   ]
  },
  {
   "cell_type": "code",
   "execution_count": 347,
   "id": "215e0041",
   "metadata": {},
   "outputs": [],
   "source": [
    "import matplotlib.pyplot as plt\n",
    "import seaborn as sns"
   ]
  },
  {
   "cell_type": "code",
   "execution_count": 351,
   "id": "ef1a5f46",
   "metadata": {},
   "outputs": [
    {
     "data": {
      "image/png": "[encoded data removed]",
      "text/plain": [
       "<Figure size 640x480 with 1 Axes>"
      ]
     },
     "metadata": {},
     "output_type": "display_data"
    }
   ],
   "source": [
    "sns.histplot(data=repurchase_for_db[(repurchase_for_db.repurchase_proba>.01)&(repurchase_for_db.repurchase_proba<.99)], x='repurchase_proba')\n",
    "plt.show()"
   ]
  },
  {
   "cell_type": "code",
   "execution_count": 352,
   "id": "fb62701a",
   "metadata": {},
   "outputs": [
    {
     "data": {
      "text/plain": [
       "61636"
      ]
     },
     "execution_count": 352,
     "metadata": {},
     "output_type": "execute_result"
    }
   ],
   "source": [
    "len(repurchase_for_db[(repurchase_for_db.repurchase_proba>.01)&(repurchase_for_db.repurchase_proba<.99)])"
   ]
  },
  {
   "cell_type": "code",
   "execution_count": 353,
   "id": "08f2e878",
   "metadata": {},
   "outputs": [],
   "source": [
    "repurchase_for_db[['id', 'review_id', 'predicted_repurchase', 'prediction_score', 'repurchase_proba']].to_csv('./repurchase_proba_predictions_for_db.csv', index=False)"
   ]
  }
 ],
 "metadata": {
  "kernelspec": {
   "display_name": "Python 3 (ipykernel)",
   "language": "python",
   "name": "python3"
  },
  "language_info": {
   "codemirror_mode": {
    "name": "ipython",
    "version": 3
   },
   "file_extension": ".py",
   "mimetype": "text/x-python",
   "name": "python",
   "nbconvert_exporter": "python",
   "pygments_lexer": "ipython3",
   "version": "3.9.6"
  }
 },
 "nbformat": 4,
 "nbformat_minor": 5
}
